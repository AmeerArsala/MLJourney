{
 "cells": [
  {
   "cell_type": "code",
   "execution_count": 1,
   "id": "1557e37b",
   "metadata": {
    "pycharm": {
     "name": "#%%\n"
    }
   },
   "outputs": [],
   "source": [
    "import numpy as np\n",
    "import pandas as pd\n",
    "\n",
    "# ML libs\n",
    "import tensorflow as tf\n",
    "from tensorflow import keras\n",
    "import sklearn\n",
    "import xgboost\n",
    "import scikeras\n",
    "\n",
    "# optimization\n",
    "import keras_adabound\n",
    "\n",
    "# Hypertuning libs\n",
    "import keras_tuner\n",
    "import skopt\n",
    "import hyperopt\n",
    "\n",
    "import scipy\n",
    "import matplotlib.pyplot as plt"
   ]
  },
  {
   "cell_type": "code",
   "execution_count": 2,
   "id": "2e742361",
   "metadata": {
    "pycharm": {
     "name": "#%%\n"
    }
   },
   "outputs": [],
   "source": [
    "from sklearn.model_selection import train_test_split\n",
    "\n",
    "(X, y), (X_test, y_test) = keras.datasets.fashion_mnist.load_data()\n",
    "\n",
    "class_names = [\"T-shirt/top\", \"Trouser\", \"Pullover\", \"Dress\", \"Coat\", \"Sandal\", \"Shirt\", \"Sneaker\", \"Bag\", \"Ankle boot\"]\n",
    "y_dim = len(class_names)\n",
    "\n",
    "# One-Hot encode y\n",
    "#y = np.array([[(y_i == c) for c in range(y_dim)] for y_i in y])\n",
    "#y_test = np.array([[(y_i == c) for c in range(y_dim)] for y_i in y_test])\n",
    "\n",
    "val_proportion = X_test.shape[0] / X.shape[0]\n",
    "(X_train, X_val, y_train, y_val) = train_test_split(X, y, test_size=val_proportion)\n",
    "\n",
    "# reformat the data\n",
    "X_train = X_train / 255.0\n",
    "X_val = X_val / 255.0\n",
    "X_test = X_test / 255.0\n"
   ]
  },
  {
   "cell_type": "code",
   "execution_count": 3,
   "id": "57a36e5b",
   "metadata": {
    "pycharm": {
     "name": "#%%\n"
    }
   },
   "outputs": [
    {
     "name": "stdout",
     "output_type": "stream",
     "text": [
      "(60000, 28, 28)\n",
      "(60000,)\n",
      "\n",
      "(10000, 28, 28)\n",
      "(10000,)\n",
      "\n",
      "(50000, 28, 28)\n",
      "(50000,)\n",
      "\n",
      "(10000, 28, 28)\n",
      "(10000,)\n"
     ]
    }
   ],
   "source": [
    "print(X.shape)\n",
    "print(y.shape)\n",
    "\n",
    "print()\n",
    "\n",
    "print(X_test.shape)\n",
    "print(y_test.shape)\n",
    "\n",
    "print()\n",
    "\n",
    "print(X_train.shape)\n",
    "print(y_train.shape)\n",
    "\n",
    "print()\n",
    "\n",
    "print(X_val.shape)\n",
    "print(y_val.shape)"
   ]
  },
  {
   "cell_type": "code",
   "execution_count": 4,
   "id": "2403486e",
   "metadata": {
    "pycharm": {
     "name": "#%%\n"
    }
   },
   "outputs": [
    {
     "data": {
      "text/plain": [
       "'Ankle boot'"
      ]
     },
     "execution_count": 4,
     "metadata": {},
     "output_type": "execute_result"
    }
   ],
   "source": [
    "class_names[y_train[2]]"
   ]
  },
  {
   "cell_type": "code",
   "execution_count": 5,
   "id": "d006e743",
   "metadata": {
    "pycharm": {
     "name": "#%%\n"
    }
   },
   "outputs": [],
   "source": [
    "def visualize(X_):\n",
    "    plt.imshow(X_, cmap=\"binary\")\n",
    "    plt.axis(\"off\")\n",
    "    plt.show()"
   ]
  },
  {
   "cell_type": "code",
   "execution_count": 6,
   "id": "ce2e8d50",
   "metadata": {
    "pycharm": {
     "name": "#%%\n"
    }
   },
   "outputs": [
    {
     "data": {
      "image/png": "[encoded data removed]",
      "text/plain": [
       "<Figure size 640x480 with 1 Axes>"
      ]
     },
     "metadata": {},
     "output_type": "display_data"
    }
   ],
   "source": [
    "visualize(X_train[2])"
   ]
  },
  {
   "cell_type": "code",
   "execution_count": 7,
   "id": "b36c90a5",
   "metadata": {
    "pycharm": {
     "name": "#%%\n"
    }
   },
   "outputs": [
    {
     "data": {
      "text/plain": [
       "(50000, 784)"
      ]
     },
     "execution_count": 7,
     "metadata": {},
     "output_type": "execute_result"
    }
   ],
   "source": [
    "X_train_x1D = X_train.reshape(X_train.shape[0], X_train.shape[1]*X_train.shape[2])\n",
    "X_val_x1D = X_val.reshape(X_val.shape[0], X_val.shape[1]*X_val.shape[2])\n",
    "X_test_x1D = X_test.reshape(X_test.shape[0], X_test.shape[1]*X_test.shape[2])\n",
    "\n",
    "X_train_x1D.shape"
   ]
  },
  {
   "cell_type": "code",
   "execution_count": 8,
   "id": "9c0e66fd",
   "metadata": {
    "pycharm": {
     "name": "#%%\n"
    }
   },
   "outputs": [
    {
     "name": "stdout",
     "output_type": "stream",
     "text": [
      "[0]\tvalidation_0-mlogloss:1.97619\n",
      "[1]\tvalidation_0-mlogloss:1.75745\n",
      "[2]\tvalidation_0-mlogloss:1.58985\n",
      "[3]\tvalidation_0-mlogloss:1.45482\n",
      "[4]\tvalidation_0-mlogloss:1.34134\n",
      "[5]\tvalidation_0-mlogloss:1.24465\n",
      "[6]\tvalidation_0-mlogloss:1.16064\n",
      "[7]\tvalidation_0-mlogloss:1.08763\n",
      "[8]\tvalidation_0-mlogloss:1.02254\n",
      "[9]\tvalidation_0-mlogloss:0.96402\n",
      "[10]\tvalidation_0-mlogloss:0.91174\n",
      "[11]\tvalidation_0-mlogloss:0.86449\n",
      "[12]\tvalidation_0-mlogloss:0.82168\n",
      "[13]\tvalidation_0-mlogloss:0.78300\n",
      "[14]\tvalidation_0-mlogloss:0.74796\n",
      "[15]\tvalidation_0-mlogloss:0.71600\n",
      "[16]\tvalidation_0-mlogloss:0.68717\n",
      "[17]\tvalidation_0-mlogloss:0.66064\n",
      "[18]\tvalidation_0-mlogloss:0.63627\n",
      "[19]\tvalidation_0-mlogloss:0.61389\n",
      "[20]\tvalidation_0-mlogloss:0.59330\n",
      "[21]\tvalidation_0-mlogloss:0.57442\n",
      "[22]\tvalidation_0-mlogloss:0.55717\n",
      "[23]\tvalidation_0-mlogloss:0.54145\n",
      "[24]\tvalidation_0-mlogloss:0.52679\n",
      "[25]\tvalidation_0-mlogloss:0.51357\n",
      "[26]\tvalidation_0-mlogloss:0.50057\n",
      "[27]\tvalidation_0-mlogloss:0.48892\n",
      "[28]\tvalidation_0-mlogloss:0.47781\n",
      "[29]\tvalidation_0-mlogloss:0.46779\n",
      "[30]\tvalidation_0-mlogloss:0.45782\n",
      "[31]\tvalidation_0-mlogloss:0.44906\n",
      "[32]\tvalidation_0-mlogloss:0.44089\n",
      "[33]\tvalidation_0-mlogloss:0.43317\n",
      "[34]\tvalidation_0-mlogloss:0.42577\n",
      "[35]\tvalidation_0-mlogloss:0.41903\n",
      "[36]\tvalidation_0-mlogloss:0.41254\n",
      "[37]\tvalidation_0-mlogloss:0.40640\n",
      "[38]\tvalidation_0-mlogloss:0.40074\n",
      "[39]\tvalidation_0-mlogloss:0.39563\n",
      "[40]\tvalidation_0-mlogloss:0.39070\n",
      "[41]\tvalidation_0-mlogloss:0.38596\n",
      "[42]\tvalidation_0-mlogloss:0.38155\n",
      "[43]\tvalidation_0-mlogloss:0.37727\n",
      "[44]\tvalidation_0-mlogloss:0.37327\n",
      "[45]\tvalidation_0-mlogloss:0.36937\n",
      "[46]\tvalidation_0-mlogloss:0.36572\n",
      "[47]\tvalidation_0-mlogloss:0.36227\n",
      "[48]\tvalidation_0-mlogloss:0.35916\n",
      "[49]\tvalidation_0-mlogloss:0.35606\n",
      "[50]\tvalidation_0-mlogloss:0.35315\n",
      "[51]\tvalidation_0-mlogloss:0.35046\n",
      "[52]\tvalidation_0-mlogloss:0.34812\n",
      "[53]\tvalidation_0-mlogloss:0.34538\n",
      "[54]\tvalidation_0-mlogloss:0.34286\n",
      "[55]\tvalidation_0-mlogloss:0.34050\n",
      "[56]\tvalidation_0-mlogloss:0.33842\n",
      "[57]\tvalidation_0-mlogloss:0.33639\n",
      "[58]\tvalidation_0-mlogloss:0.33399\n",
      "[59]\tvalidation_0-mlogloss:0.33214\n",
      "[60]\tvalidation_0-mlogloss:0.33029\n",
      "[61]\tvalidation_0-mlogloss:0.32834\n",
      "[62]\tvalidation_0-mlogloss:0.32660\n",
      "[63]\tvalidation_0-mlogloss:0.32487\n",
      "[64]\tvalidation_0-mlogloss:0.32335\n",
      "[65]\tvalidation_0-mlogloss:0.32167\n",
      "[66]\tvalidation_0-mlogloss:0.32002\n",
      "[67]\tvalidation_0-mlogloss:0.31863\n",
      "[68]\tvalidation_0-mlogloss:0.31724\n",
      "[69]\tvalidation_0-mlogloss:0.31588\n",
      "[70]\tvalidation_0-mlogloss:0.31442\n",
      "[71]\tvalidation_0-mlogloss:0.31318\n",
      "[72]\tvalidation_0-mlogloss:0.31211\n",
      "[73]\tvalidation_0-mlogloss:0.31110\n",
      "[74]\tvalidation_0-mlogloss:0.31014\n",
      "[75]\tvalidation_0-mlogloss:0.30899\n",
      "[76]\tvalidation_0-mlogloss:0.30786\n",
      "[77]\tvalidation_0-mlogloss:0.30663\n",
      "[78]\tvalidation_0-mlogloss:0.30547\n",
      "[79]\tvalidation_0-mlogloss:0.30447\n",
      "[80]\tvalidation_0-mlogloss:0.30365\n",
      "[81]\tvalidation_0-mlogloss:0.30267\n",
      "[82]\tvalidation_0-mlogloss:0.30165\n",
      "[83]\tvalidation_0-mlogloss:0.30098\n",
      "[84]\tvalidation_0-mlogloss:0.30004\n",
      "[85]\tvalidation_0-mlogloss:0.29913\n",
      "[86]\tvalidation_0-mlogloss:0.29815\n",
      "[87]\tvalidation_0-mlogloss:0.29735\n",
      "[88]\tvalidation_0-mlogloss:0.29653\n",
      "[89]\tvalidation_0-mlogloss:0.29568\n",
      "[90]\tvalidation_0-mlogloss:0.29493\n",
      "[91]\tvalidation_0-mlogloss:0.29435\n",
      "[92]\tvalidation_0-mlogloss:0.29363\n",
      "[93]\tvalidation_0-mlogloss:0.29288\n",
      "[94]\tvalidation_0-mlogloss:0.29232\n",
      "[95]\tvalidation_0-mlogloss:0.29148\n",
      "[96]\tvalidation_0-mlogloss:0.29103\n",
      "[97]\tvalidation_0-mlogloss:0.29045\n",
      "[98]\tvalidation_0-mlogloss:0.28978\n",
      "[99]\tvalidation_0-mlogloss:0.28916\n",
      "[100]\tvalidation_0-mlogloss:0.28870\n",
      "[101]\tvalidation_0-mlogloss:0.28788\n",
      "[102]\tvalidation_0-mlogloss:0.28736\n",
      "[103]\tvalidation_0-mlogloss:0.28676\n",
      "[104]\tvalidation_0-mlogloss:0.28624\n",
      "[105]\tvalidation_0-mlogloss:0.28565\n",
      "[106]\tvalidation_0-mlogloss:0.28522\n",
      "[107]\tvalidation_0-mlogloss:0.28481\n",
      "[108]\tvalidation_0-mlogloss:0.28434\n",
      "[109]\tvalidation_0-mlogloss:0.28396\n",
      "[110]\tvalidation_0-mlogloss:0.28350\n",
      "[111]\tvalidation_0-mlogloss:0.28307\n",
      "[112]\tvalidation_0-mlogloss:0.28264\n",
      "[113]\tvalidation_0-mlogloss:0.28233\n",
      "[114]\tvalidation_0-mlogloss:0.28186\n",
      "[115]\tvalidation_0-mlogloss:0.28140\n",
      "[116]\tvalidation_0-mlogloss:0.28099\n",
      "[117]\tvalidation_0-mlogloss:0.28057\n",
      "[118]\tvalidation_0-mlogloss:0.28027\n",
      "[119]\tvalidation_0-mlogloss:0.27986\n",
      "[120]\tvalidation_0-mlogloss:0.27957\n",
      "[121]\tvalidation_0-mlogloss:0.27910\n",
      "[122]\tvalidation_0-mlogloss:0.27864\n",
      "[123]\tvalidation_0-mlogloss:0.27837\n",
      "[124]\tvalidation_0-mlogloss:0.27809\n",
      "[125]\tvalidation_0-mlogloss:0.27768\n",
      "[126]\tvalidation_0-mlogloss:0.27716\n",
      "[127]\tvalidation_0-mlogloss:0.27685\n"
     ]
    },
    {
     "data": {
      "text/html": [
       "<style>#sk-container-id-1 {color: black;background-color: white;}#sk-container-id-1 pre{padding: 0;}#sk-container-id-1 div.sk-toggleable {background-color: white;}#sk-container-id-1 label.sk-toggleable__label {cursor: pointer;display: block;width: 100%;margin-bottom: 0;padding: 0.3em;box-sizing: border-box;text-align: center;}#sk-container-id-1 label.sk-toggleable__label-arrow:before {content: \"▸\";float: left;margin-right: 0.25em;color: #696969;}#sk-container-id-1 label.sk-toggleable__label-arrow:hover:before {color: black;}#sk-container-id-1 div.sk-estimator:hover label.sk-toggleable__label-arrow:before {color: black;}#sk-container-id-1 div.sk-toggleable__content {max-height: 0;max-width: 0;overflow: hidden;text-align: left;background-color: #f0f8ff;}#sk-container-id-1 div.sk-toggleable__content pre {margin: 0.2em;color: black;border-radius: 0.25em;background-color: #f0f8ff;}#sk-container-id-1 input.sk-toggleable__control:checked~div.sk-toggleable__content {max-height: 200px;max-width: 100%;overflow: auto;}#sk-container-id-1 input.sk-toggleable__control:checked~label.sk-toggleable__label-arrow:before {content: \"▾\";}#sk-container-id-1 div.sk-estimator input.sk-toggleable__control:checked~label.sk-toggleable__label {background-color: #d4ebff;}#sk-container-id-1 div.sk-label input.sk-toggleable__control:checked~label.sk-toggleable__label {background-color: #d4ebff;}#sk-container-id-1 input.sk-hidden--visually {border: 0;clip: rect(1px 1px 1px 1px);clip: rect(1px, 1px, 1px, 1px);height: 1px;margin: -1px;overflow: hidden;padding: 0;position: absolute;width: 1px;}#sk-container-id-1 div.sk-estimator {font-family: monospace;background-color: #f0f8ff;border: 1px dotted black;border-radius: 0.25em;box-sizing: border-box;margin-bottom: 0.5em;}#sk-container-id-1 div.sk-estimator:hover {background-color: #d4ebff;}#sk-container-id-1 div.sk-parallel-item::after {content: \"\";width: 100%;border-bottom: 1px solid gray;flex-grow: 1;}#sk-container-id-1 div.sk-label:hover label.sk-toggleable__label {background-color: #d4ebff;}#sk-container-id-1 div.sk-serial::before {content: \"\";position: absolute;border-left: 1px solid gray;box-sizing: border-box;top: 0;bottom: 0;left: 50%;z-index: 0;}#sk-container-id-1 div.sk-serial {display: flex;flex-direction: column;align-items: center;background-color: white;padding-right: 0.2em;padding-left: 0.2em;position: relative;}#sk-container-id-1 div.sk-item {position: relative;z-index: 1;}#sk-container-id-1 div.sk-parallel {display: flex;align-items: stretch;justify-content: center;background-color: white;position: relative;}#sk-container-id-1 div.sk-item::before, #sk-container-id-1 div.sk-parallel-item::before {content: \"\";position: absolute;border-left: 1px solid gray;box-sizing: border-box;top: 0;bottom: 0;left: 50%;z-index: -1;}#sk-container-id-1 div.sk-parallel-item {display: flex;flex-direction: column;z-index: 1;position: relative;background-color: white;}#sk-container-id-1 div.sk-parallel-item:first-child::after {align-self: flex-end;width: 50%;}#sk-container-id-1 div.sk-parallel-item:last-child::after {align-self: flex-start;width: 50%;}#sk-container-id-1 div.sk-parallel-item:only-child::after {width: 0;}#sk-container-id-1 div.sk-dashed-wrapped {border: 1px dashed gray;margin: 0 0.4em 0.5em 0.4em;box-sizing: border-box;padding-bottom: 0.4em;background-color: white;}#sk-container-id-1 div.sk-label label {font-family: monospace;font-weight: bold;display: inline-block;line-height: 1.2em;}#sk-container-id-1 div.sk-label-container {text-align: center;}#sk-container-id-1 div.sk-container {/* jupyter's `normalize.less` sets `[hidden] { display: none; }` but bootstrap.min.css set `[hidden] { display: none !important; }` so we also need the `!important` here to be able to override the default hidden behavior on the sphinx rendered scikit-learn.org. See: https://github.com/scikit-learn/scikit-learn/issues/21755 */display: inline-block !important;position: relative;}#sk-container-id-1 div.sk-text-repr-fallback {display: none;}</style><div id=\"sk-container-id-1\" class=\"sk-top-container\"><div class=\"sk-text-repr-fallback\"><pre>XGBClassifier(base_score=0.5, booster=&#x27;gbtree&#x27;, callbacks=None,\n",
       "              colsample_bylevel=1, colsample_bynode=1, colsample_bytree=1,\n",
       "              early_stopping_rounds=10, enable_categorical=False,\n",
       "              eval_metric=None, gamma=0, gpu_id=-1, grow_policy=&#x27;depthwise&#x27;,\n",
       "              importance_type=None, interaction_constraints=&#x27;&#x27;,\n",
       "              learning_rate=0.1, max_bin=256, max_cat_to_onehot=4,\n",
       "              max_delta_step=0, max_depth=6, max_leaves=0, min_child_weight=1,\n",
       "              missing=nan, monotone_constraints=&#x27;()&#x27;, n_estimators=128,\n",
       "              n_jobs=0, num_parallel_tree=1, objective=&#x27;multi:softprob&#x27;,\n",
       "              predictor=&#x27;auto&#x27;, random_state=0, reg_alpha=0, ...)</pre><b>In a Jupyter environment, please rerun this cell to show the HTML representation or trust the notebook. <br />On GitHub, the HTML representation is unable to render, please try loading this page with nbviewer.org.</b></div><div class=\"sk-container\" hidden><div class=\"sk-item\"><div class=\"sk-estimator sk-toggleable\"><input class=\"sk-toggleable__control sk-hidden--visually\" id=\"sk-estimator-id-1\" type=\"checkbox\" checked><label for=\"sk-estimator-id-1\" class=\"sk-toggleable__label sk-toggleable__label-arrow\">XGBClassifier</label><div class=\"sk-toggleable__content\"><pre>XGBClassifier(base_score=0.5, booster=&#x27;gbtree&#x27;, callbacks=None,\n",
       "              colsample_bylevel=1, colsample_bynode=1, colsample_bytree=1,\n",
       "              early_stopping_rounds=10, enable_categorical=False,\n",
       "              eval_metric=None, gamma=0, gpu_id=-1, grow_policy=&#x27;depthwise&#x27;,\n",
       "              importance_type=None, interaction_constraints=&#x27;&#x27;,\n",
       "              learning_rate=0.1, max_bin=256, max_cat_to_onehot=4,\n",
       "              max_delta_step=0, max_depth=6, max_leaves=0, min_child_weight=1,\n",
       "              missing=nan, monotone_constraints=&#x27;()&#x27;, n_estimators=128,\n",
       "              n_jobs=0, num_parallel_tree=1, objective=&#x27;multi:softprob&#x27;,\n",
       "              predictor=&#x27;auto&#x27;, random_state=0, reg_alpha=0, ...)</pre></div></div></div></div></div>"
      ],
      "text/plain": [
       "XGBClassifier(base_score=0.5, booster='gbtree', callbacks=None,\n",
       "              colsample_bylevel=1, colsample_bynode=1, colsample_bytree=1,\n",
       "              early_stopping_rounds=10, enable_categorical=False,\n",
       "              eval_metric=None, gamma=0, gpu_id=-1, grow_policy='depthwise',\n",
       "              importance_type=None, interaction_constraints='',\n",
       "              learning_rate=0.1, max_bin=256, max_cat_to_onehot=4,\n",
       "              max_delta_step=0, max_depth=6, max_leaves=0, min_child_weight=1,\n",
       "              missing=nan, monotone_constraints='()', n_estimators=128,\n",
       "              n_jobs=0, num_parallel_tree=1, objective='multi:softprob',\n",
       "              predictor='auto', random_state=0, reg_alpha=0, ...)"
      ]
     },
     "execution_count": 8,
     "metadata": {},
     "output_type": "execute_result"
    }
   ],
   "source": [
    "from xgboost import XGBClassifier\n",
    "\n",
    "xgb = XGBClassifier(n_estimators=128, learning_rate=0.1, early_stopping_rounds=10)\n",
    "\n",
    "xgb.fit(X_train_x1D, y_train, eval_set=[(X_val_x1D, y_val)])"
   ]
  },
  {
   "cell_type": "code",
   "execution_count": 10,
   "id": "ee2f6917",
   "metadata": {
    "pycharm": {
     "name": "#%%\n"
    }
   },
   "outputs": [],
   "source": [
    "def plotHistory(hist):\n",
    "    pd.DataFrame(hist.history).plot(figsize=(8, 5))\n",
    "    plt.grid(True)\n",
    "    plt.gca().set_ylim(0, 1) # vertical range: [0, 1]\n",
    "    plt.show()"
   ]
  },
  {
   "cell_type": "code",
   "execution_count": 8,
   "id": "a9f44472",
   "metadata": {
    "pycharm": {
     "name": "#%%\n"
    }
   },
   "outputs": [
    {
     "name": "stdout",
     "output_type": "stream",
     "text": [
      "Epoch 1/50\n",
      "782/782 [==============================] - 5s 5ms/step - loss: 0.6519 - sparse_categorical_accuracy: 0.7674 - val_loss: 0.4362 - val_sparse_categorical_accuracy: 0.8424\n",
      "Epoch 2/50\n",
      "782/782 [==============================] - 4s 5ms/step - loss: 0.4872 - sparse_categorical_accuracy: 0.8258 - val_loss: 0.4081 - val_sparse_categorical_accuracy: 0.8507\n",
      "Epoch 3/50\n",
      "782/782 [==============================] - 4s 4ms/step - loss: 0.4450 - sparse_categorical_accuracy: 0.8377 - val_loss: 0.3912 - val_sparse_categorical_accuracy: 0.8574\n",
      "Epoch 4/50\n",
      "782/782 [==============================] - 4s 5ms/step - loss: 0.4229 - sparse_categorical_accuracy: 0.8458 - val_loss: 0.3746 - val_sparse_categorical_accuracy: 0.8629\n",
      "Epoch 5/50\n",
      "782/782 [==============================] - 3s 4ms/step - loss: 0.4061 - sparse_categorical_accuracy: 0.8514 - val_loss: 0.3644 - val_sparse_categorical_accuracy: 0.8643\n",
      "Epoch 6/50\n",
      "782/782 [==============================] - 4s 4ms/step - loss: 0.3870 - sparse_categorical_accuracy: 0.8580 - val_loss: 0.3417 - val_sparse_categorical_accuracy: 0.8739\n",
      "Epoch 7/50\n",
      "782/782 [==============================] - 3s 4ms/step - loss: 0.3757 - sparse_categorical_accuracy: 0.8622 - val_loss: 0.3347 - val_sparse_categorical_accuracy: 0.8763\n",
      "Epoch 8/50\n",
      "782/782 [==============================] - 3s 4ms/step - loss: 0.3601 - sparse_categorical_accuracy: 0.8690 - val_loss: 0.3208 - val_sparse_categorical_accuracy: 0.8825\n",
      "Epoch 9/50\n",
      "782/782 [==============================] - 3s 4ms/step - loss: 0.3538 - sparse_categorical_accuracy: 0.8693 - val_loss: 0.3319 - val_sparse_categorical_accuracy: 0.8788\n",
      "Epoch 10/50\n",
      "782/782 [==============================] - 3s 4ms/step - loss: 0.3441 - sparse_categorical_accuracy: 0.8731 - val_loss: 0.3246 - val_sparse_categorical_accuracy: 0.8816\n",
      "Epoch 11/50\n",
      "782/782 [==============================] - 4s 5ms/step - loss: 0.3326 - sparse_categorical_accuracy: 0.8757 - val_loss: 0.3056 - val_sparse_categorical_accuracy: 0.8876\n",
      "Epoch 12/50\n",
      "782/782 [==============================] - 3s 4ms/step - loss: 0.3220 - sparse_categorical_accuracy: 0.8814 - val_loss: 0.3174 - val_sparse_categorical_accuracy: 0.8853\n",
      "Epoch 13/50\n",
      "782/782 [==============================] - 3s 4ms/step - loss: 0.3182 - sparse_categorical_accuracy: 0.8815 - val_loss: 0.3046 - val_sparse_categorical_accuracy: 0.8881\n",
      "Epoch 14/50\n",
      "782/782 [==============================] - 3s 4ms/step - loss: 0.3114 - sparse_categorical_accuracy: 0.8843 - val_loss: 0.3013 - val_sparse_categorical_accuracy: 0.8886\n",
      "Epoch 15/50\n",
      "782/782 [==============================] - 4s 5ms/step - loss: 0.3039 - sparse_categorical_accuracy: 0.8867 - val_loss: 0.3037 - val_sparse_categorical_accuracy: 0.8903\n",
      "Epoch 16/50\n",
      "782/782 [==============================] - 3s 4ms/step - loss: 0.2955 - sparse_categorical_accuracy: 0.8891 - val_loss: 0.2971 - val_sparse_categorical_accuracy: 0.8910\n",
      "Epoch 17/50\n",
      "782/782 [==============================] - 4s 5ms/step - loss: 0.2879 - sparse_categorical_accuracy: 0.8931 - val_loss: 0.2906 - val_sparse_categorical_accuracy: 0.8938\n",
      "Epoch 18/50\n",
      "782/782 [==============================] - 4s 4ms/step - loss: 0.2812 - sparse_categorical_accuracy: 0.8946 - val_loss: 0.2868 - val_sparse_categorical_accuracy: 0.8966\n",
      "Epoch 19/50\n",
      "782/782 [==============================] - 4s 5ms/step - loss: 0.2745 - sparse_categorical_accuracy: 0.8983 - val_loss: 0.2844 - val_sparse_categorical_accuracy: 0.8963\n",
      "Epoch 20/50\n",
      "782/782 [==============================] - 4s 4ms/step - loss: 0.2648 - sparse_categorical_accuracy: 0.9000 - val_loss: 0.2938 - val_sparse_categorical_accuracy: 0.8949\n",
      "Epoch 21/50\n",
      "782/782 [==============================] - 4s 5ms/step - loss: 0.2634 - sparse_categorical_accuracy: 0.9006 - val_loss: 0.2780 - val_sparse_categorical_accuracy: 0.8992\n",
      "Epoch 22/50\n",
      "782/782 [==============================] - 4s 4ms/step - loss: 0.2598 - sparse_categorical_accuracy: 0.9019 - val_loss: 0.2875 - val_sparse_categorical_accuracy: 0.8969\n",
      "Epoch 23/50\n",
      "782/782 [==============================] - 4s 5ms/step - loss: 0.2495 - sparse_categorical_accuracy: 0.9056 - val_loss: 0.2808 - val_sparse_categorical_accuracy: 0.8992\n",
      "Epoch 24/50\n",
      "782/782 [==============================] - 4s 5ms/step - loss: 0.2440 - sparse_categorical_accuracy: 0.9084 - val_loss: 0.2784 - val_sparse_categorical_accuracy: 0.9009\n",
      "Epoch 25/50\n",
      "782/782 [==============================] - 4s 5ms/step - loss: 0.2409 - sparse_categorical_accuracy: 0.9078 - val_loss: 0.2826 - val_sparse_categorical_accuracy: 0.8998\n",
      "Epoch 26/50\n",
      "782/782 [==============================] - 4s 5ms/step - loss: 0.2393 - sparse_categorical_accuracy: 0.9098 - val_loss: 0.2856 - val_sparse_categorical_accuracy: 0.8949\n",
      "Epoch 27/50\n",
      "782/782 [==============================] - 4s 5ms/step - loss: 0.2345 - sparse_categorical_accuracy: 0.9120 - val_loss: 0.2766 - val_sparse_categorical_accuracy: 0.9020\n",
      "Epoch 28/50\n",
      "782/782 [==============================] - 3s 4ms/step - loss: 0.2297 - sparse_categorical_accuracy: 0.9127 - val_loss: 0.2813 - val_sparse_categorical_accuracy: 0.9020\n",
      "Epoch 29/50\n",
      "782/782 [==============================] - 4s 5ms/step - loss: 0.2260 - sparse_categorical_accuracy: 0.9160 - val_loss: 0.2864 - val_sparse_categorical_accuracy: 0.8991\n",
      "Epoch 30/50\n",
      "782/782 [==============================] - 4s 4ms/step - loss: 0.2169 - sparse_categorical_accuracy: 0.9176 - val_loss: 0.2830 - val_sparse_categorical_accuracy: 0.8993\n",
      "Epoch 31/50\n",
      "782/782 [==============================] - 4s 5ms/step - loss: 0.2154 - sparse_categorical_accuracy: 0.9196 - val_loss: 0.2788 - val_sparse_categorical_accuracy: 0.9033\n",
      "Epoch 32/50\n",
      "782/782 [==============================] - 4s 5ms/step - loss: 0.2083 - sparse_categorical_accuracy: 0.9229 - val_loss: 0.2704 - val_sparse_categorical_accuracy: 0.9034\n",
      "Epoch 33/50\n",
      "782/782 [==============================] - 3s 4ms/step - loss: 0.2062 - sparse_categorical_accuracy: 0.9217 - val_loss: 0.2821 - val_sparse_categorical_accuracy: 0.9038\n",
      "Epoch 34/50\n",
      "782/782 [==============================] - 3s 4ms/step - loss: 0.2028 - sparse_categorical_accuracy: 0.9233 - val_loss: 0.2785 - val_sparse_categorical_accuracy: 0.9030\n",
      "Epoch 35/50\n",
      "782/782 [==============================] - 3s 4ms/step - loss: 0.1978 - sparse_categorical_accuracy: 0.9254 - val_loss: 0.2713 - val_sparse_categorical_accuracy: 0.9059\n",
      "Epoch 36/50\n",
      "782/782 [==============================] - 4s 4ms/step - loss: 0.1936 - sparse_categorical_accuracy: 0.9276 - val_loss: 0.2784 - val_sparse_categorical_accuracy: 0.9055\n",
      "Epoch 37/50\n",
      "782/782 [==============================] - 3s 4ms/step - loss: 0.1923 - sparse_categorical_accuracy: 0.9278 - val_loss: 0.2693 - val_sparse_categorical_accuracy: 0.9086\n",
      "Epoch 38/50\n",
      "782/782 [==============================] - 3s 4ms/step - loss: 0.1884 - sparse_categorical_accuracy: 0.9285 - val_loss: 0.2784 - val_sparse_categorical_accuracy: 0.9068\n",
      "Epoch 39/50\n",
      "782/782 [==============================] - 3s 4ms/step - loss: 0.1842 - sparse_categorical_accuracy: 0.9308 - val_loss: 0.2723 - val_sparse_categorical_accuracy: 0.9070\n",
      "Epoch 40/50\n",
      "782/782 [==============================] - 3s 4ms/step - loss: 0.1813 - sparse_categorical_accuracy: 0.9314 - val_loss: 0.2853 - val_sparse_categorical_accuracy: 0.9064\n",
      "Epoch 41/50\n",
      "782/782 [==============================] - 3s 4ms/step - loss: 0.1777 - sparse_categorical_accuracy: 0.9330 - val_loss: 0.2786 - val_sparse_categorical_accuracy: 0.9055\n",
      "Epoch 42/50\n",
      "782/782 [==============================] - 3s 4ms/step - loss: 0.1741 - sparse_categorical_accuracy: 0.9352 - val_loss: 0.2843 - val_sparse_categorical_accuracy: 0.9045\n",
      "Epoch 43/50\n",
      "782/782 [==============================] - 3s 4ms/step - loss: 0.1711 - sparse_categorical_accuracy: 0.9348 - val_loss: 0.2787 - val_sparse_categorical_accuracy: 0.9065\n",
      "Epoch 44/50\n",
      "782/782 [==============================] - 3s 4ms/step - loss: 0.1702 - sparse_categorical_accuracy: 0.9369 - val_loss: 0.2776 - val_sparse_categorical_accuracy: 0.9081\n",
      "Epoch 45/50\n",
      "782/782 [==============================] - 3s 4ms/step - loss: 0.1640 - sparse_categorical_accuracy: 0.9386 - val_loss: 0.2795 - val_sparse_categorical_accuracy: 0.9084\n",
      "Epoch 46/50\n",
      "782/782 [==============================] - 4s 5ms/step - loss: 0.1628 - sparse_categorical_accuracy: 0.9386 - val_loss: 0.2809 - val_sparse_categorical_accuracy: 0.9080\n",
      "Epoch 47/50\n",
      "782/782 [==============================] - 3s 4ms/step - loss: 0.1587 - sparse_categorical_accuracy: 0.9398 - val_loss: 0.2830 - val_sparse_categorical_accuracy: 0.9079\n"
     ]
    }
   ],
   "source": [
    "from keras.models import Sequential\n",
    "from keras import layers\n",
    "from keras.layers import Dense, BatchNormalization, Dropout, Activation, Input, Flatten\n",
    "from keras.regularizers import L2\n",
    "from keras.losses import SparseCategoricalCrossentropy\n",
    "from keras.callbacks import EarlyStopping\n",
    "from keras_adabound import AdaBound\n",
    "\n",
    "history = [None] * 5\n",
    "models = [None] * 5\n",
    "\n",
    "class MonteCarloDropout(Dropout):\n",
    "    def call(self, inputs):\n",
    "        return super().call(inputs, training=True)\n",
    "        \n",
    "model_seq1 = Sequential([\n",
    "    Flatten(input_shape=(X.shape[1], X.shape[2])),\n",
    "    BatchNormalization(),\n",
    "    \n",
    "    Dense(392),\n",
    "    Activation(\"swish\"),\n",
    "    Dropout(rate=0.2),\n",
    "    \n",
    "    Dense(200, kernel_initializer=\"glorot_normal\"),\n",
    "    Activation(\"swish\"),\n",
    "    Dropout(rate=0.2),\n",
    "    \n",
    "    Dense(100),\n",
    "    Activation(\"swish\"),\n",
    "    \n",
    "    Dense(50, kernel_initializer=\"he_uniform\"),\n",
    "    Activation(\"relu\"),\n",
    "    \n",
    "    Dense(units=len(class_names)+1, activation=\"linear\")\n",
    "])\n",
    "\n",
    "model_seq1.compile(optimizer=AdaBound(learning_rate=0.01, final_lr=0.1), loss=SparseCategoricalCrossentropy(from_logits=True), \n",
    "                   metrics=[\"sparse_categorical_accuracy\"])\n",
    "\n",
    "history[0] = model_seq1.fit(X_train, y_train, batch_size=64, epochs=50, validation_data=(X_val, y_val),\n",
    "                                     callbacks=[EarlyStopping(patience=10, restore_best_weights=True)])\n",
    "models.append(model_seq1)"
   ]
  },
  {
   "cell_type": "code",
   "execution_count": 11,
   "id": "08ef2f73",
   "metadata": {
    "pycharm": {
     "name": "#%%\n"
    }
   },
   "outputs": [
    {
     "data": {
      "image/png": "[encoded data removed]",
      "text/plain": [
       "<Figure size 800x500 with 1 Axes>"
      ]
     },
     "metadata": {},
     "output_type": "display_data"
    }
   ],
   "source": [
    "plotHistory(history[0])"
   ]
  },
  {
   "cell_type": "code",
   "execution_count": 38,
   "id": "7dc8e7eb",
   "metadata": {
    "pycharm": {
     "name": "#%%\n"
    }
   },
   "outputs": [
    {
     "name": "stdout",
     "output_type": "stream",
     "text": [
      "Epoch 1/150\n",
      "196/196 [==============================] - 3s 7ms/step - loss: 0.8803 - sparse_categorical_accuracy: 0.8014 - val_loss: 0.4476 - val_sparse_categorical_accuracy: 0.8464\n",
      "Epoch 2/150\n",
      "196/196 [==============================] - 1s 7ms/step - loss: 0.3975 - sparse_categorical_accuracy: 0.8584 - val_loss: 0.3740 - val_sparse_categorical_accuracy: 0.8683\n",
      "Epoch 3/150\n",
      "196/196 [==============================] - 1s 7ms/step - loss: 0.3648 - sparse_categorical_accuracy: 0.8705 - val_loss: 0.3584 - val_sparse_categorical_accuracy: 0.8744\n",
      "Epoch 4/150\n",
      "196/196 [==============================] - 1s 7ms/step - loss: 0.3478 - sparse_categorical_accuracy: 0.8741 - val_loss: 0.3445 - val_sparse_categorical_accuracy: 0.8791\n",
      "Epoch 5/150\n",
      "196/196 [==============================] - 1s 7ms/step - loss: 0.3416 - sparse_categorical_accuracy: 0.8767 - val_loss: 0.3509 - val_sparse_categorical_accuracy: 0.8756\n",
      "Epoch 6/150\n",
      "196/196 [==============================] - 1s 7ms/step - loss: 0.3356 - sparse_categorical_accuracy: 0.8798 - val_loss: 0.3437 - val_sparse_categorical_accuracy: 0.8781\n",
      "Epoch 7/150\n",
      "196/196 [==============================] - 1s 7ms/step - loss: 0.3289 - sparse_categorical_accuracy: 0.8804 - val_loss: 0.3305 - val_sparse_categorical_accuracy: 0.8813\n",
      "Epoch 8/150\n",
      "196/196 [==============================] - 1s 7ms/step - loss: 0.3223 - sparse_categorical_accuracy: 0.8827 - val_loss: 0.3318 - val_sparse_categorical_accuracy: 0.8819\n",
      "Epoch 9/150\n",
      "196/196 [==============================] - 1s 7ms/step - loss: 0.3171 - sparse_categorical_accuracy: 0.8852 - val_loss: 0.3324 - val_sparse_categorical_accuracy: 0.8816\n",
      "Epoch 10/150\n",
      "196/196 [==============================] - 1s 7ms/step - loss: 0.3158 - sparse_categorical_accuracy: 0.8859 - val_loss: 0.3321 - val_sparse_categorical_accuracy: 0.8831\n",
      "Epoch 11/150\n",
      "196/196 [==============================] - 1s 7ms/step - loss: 0.3108 - sparse_categorical_accuracy: 0.8870 - val_loss: 0.3236 - val_sparse_categorical_accuracy: 0.8848\n",
      "Epoch 12/150\n",
      "196/196 [==============================] - 1s 7ms/step - loss: 0.3084 - sparse_categorical_accuracy: 0.8871 - val_loss: 0.3201 - val_sparse_categorical_accuracy: 0.8858\n",
      "Epoch 13/150\n",
      "196/196 [==============================] - 1s 6ms/step - loss: 0.3054 - sparse_categorical_accuracy: 0.8880 - val_loss: 0.3219 - val_sparse_categorical_accuracy: 0.8841\n",
      "Epoch 14/150\n",
      "196/196 [==============================] - 1s 7ms/step - loss: 0.3030 - sparse_categorical_accuracy: 0.8890 - val_loss: 0.3200 - val_sparse_categorical_accuracy: 0.8865\n",
      "Epoch 15/150\n",
      "196/196 [==============================] - 1s 7ms/step - loss: 0.2988 - sparse_categorical_accuracy: 0.8902 - val_loss: 0.3241 - val_sparse_categorical_accuracy: 0.8852\n",
      "Epoch 16/150\n",
      "196/196 [==============================] - 1s 7ms/step - loss: 0.2971 - sparse_categorical_accuracy: 0.8927 - val_loss: 0.3180 - val_sparse_categorical_accuracy: 0.8867\n",
      "Epoch 17/150\n",
      "196/196 [==============================] - 1s 6ms/step - loss: 0.2961 - sparse_categorical_accuracy: 0.8920 - val_loss: 0.3192 - val_sparse_categorical_accuracy: 0.8865\n",
      "Epoch 18/150\n",
      "196/196 [==============================] - 1s 7ms/step - loss: 0.2936 - sparse_categorical_accuracy: 0.8922 - val_loss: 0.3207 - val_sparse_categorical_accuracy: 0.8861\n",
      "Epoch 19/150\n",
      "196/196 [==============================] - 1s 6ms/step - loss: 0.2912 - sparse_categorical_accuracy: 0.8938 - val_loss: 0.3163 - val_sparse_categorical_accuracy: 0.8875\n",
      "Epoch 20/150\n",
      "196/196 [==============================] - 1s 6ms/step - loss: 0.2884 - sparse_categorical_accuracy: 0.8944 - val_loss: 0.3141 - val_sparse_categorical_accuracy: 0.8878\n",
      "Epoch 21/150\n",
      "196/196 [==============================] - 1s 7ms/step - loss: 0.2877 - sparse_categorical_accuracy: 0.8955 - val_loss: 0.3160 - val_sparse_categorical_accuracy: 0.8889\n",
      "Epoch 22/150\n",
      "196/196 [==============================] - 1s 7ms/step - loss: 0.2868 - sparse_categorical_accuracy: 0.8972 - val_loss: 0.3119 - val_sparse_categorical_accuracy: 0.8906\n",
      "Epoch 23/150\n",
      "196/196 [==============================] - 1s 7ms/step - loss: 0.2832 - sparse_categorical_accuracy: 0.8959 - val_loss: 0.3125 - val_sparse_categorical_accuracy: 0.8918\n",
      "Epoch 24/150\n",
      "196/196 [==============================] - 1s 7ms/step - loss: 0.2841 - sparse_categorical_accuracy: 0.8964 - val_loss: 0.3118 - val_sparse_categorical_accuracy: 0.8890\n",
      "Epoch 25/150\n",
      "196/196 [==============================] - 1s 7ms/step - loss: 0.2797 - sparse_categorical_accuracy: 0.8967 - val_loss: 0.3149 - val_sparse_categorical_accuracy: 0.8897\n",
      "Epoch 26/150\n",
      "196/196 [==============================] - 1s 7ms/step - loss: 0.2778 - sparse_categorical_accuracy: 0.8969 - val_loss: 0.3062 - val_sparse_categorical_accuracy: 0.8936\n",
      "Epoch 27/150\n",
      "196/196 [==============================] - 1s 7ms/step - loss: 0.2771 - sparse_categorical_accuracy: 0.8990 - val_loss: 0.3054 - val_sparse_categorical_accuracy: 0.8934\n",
      "Epoch 28/150\n",
      "196/196 [==============================] - 1s 7ms/step - loss: 0.2753 - sparse_categorical_accuracy: 0.8992 - val_loss: 0.3093 - val_sparse_categorical_accuracy: 0.8907\n",
      "Epoch 29/150\n",
      "196/196 [==============================] - 1s 7ms/step - loss: 0.2725 - sparse_categorical_accuracy: 0.9004 - val_loss: 0.3058 - val_sparse_categorical_accuracy: 0.8927\n",
      "Epoch 30/150\n",
      "196/196 [==============================] - 1s 6ms/step - loss: 0.2711 - sparse_categorical_accuracy: 0.9001 - val_loss: 0.3091 - val_sparse_categorical_accuracy: 0.8892\n",
      "Epoch 31/150\n",
      "196/196 [==============================] - 1s 7ms/step - loss: 0.2709 - sparse_categorical_accuracy: 0.9003 - val_loss: 0.3090 - val_sparse_categorical_accuracy: 0.8911\n",
      "Epoch 32/150\n",
      "196/196 [==============================] - 1s 7ms/step - loss: 0.2688 - sparse_categorical_accuracy: 0.9008 - val_loss: 0.3050 - val_sparse_categorical_accuracy: 0.8916\n",
      "Epoch 33/150\n",
      "196/196 [==============================] - 1s 6ms/step - loss: 0.2662 - sparse_categorical_accuracy: 0.9029 - val_loss: 0.3061 - val_sparse_categorical_accuracy: 0.8913\n",
      "Epoch 34/150\n",
      "196/196 [==============================] - 1s 6ms/step - loss: 0.2663 - sparse_categorical_accuracy: 0.9031 - val_loss: 0.3102 - val_sparse_categorical_accuracy: 0.8890\n",
      "Epoch 35/150\n",
      "196/196 [==============================] - 1s 7ms/step - loss: 0.2636 - sparse_categorical_accuracy: 0.9034 - val_loss: 0.3028 - val_sparse_categorical_accuracy: 0.8949\n",
      "Epoch 36/150\n",
      "196/196 [==============================] - 1s 7ms/step - loss: 0.2640 - sparse_categorical_accuracy: 0.9029 - val_loss: 0.3019 - val_sparse_categorical_accuracy: 0.8947\n",
      "Epoch 37/150\n",
      "196/196 [==============================] - 1s 7ms/step - loss: 0.2608 - sparse_categorical_accuracy: 0.9048 - val_loss: 0.3004 - val_sparse_categorical_accuracy: 0.8952\n",
      "Epoch 38/150\n",
      "196/196 [==============================] - 1s 7ms/step - loss: 0.2604 - sparse_categorical_accuracy: 0.9056 - val_loss: 0.2990 - val_sparse_categorical_accuracy: 0.8958\n",
      "Epoch 39/150\n",
      "196/196 [==============================] - 1s 7ms/step - loss: 0.2579 - sparse_categorical_accuracy: 0.9055 - val_loss: 0.3016 - val_sparse_categorical_accuracy: 0.8935\n",
      "Epoch 40/150\n",
      "196/196 [==============================] - 1s 7ms/step - loss: 0.2596 - sparse_categorical_accuracy: 0.9045 - val_loss: 0.3000 - val_sparse_categorical_accuracy: 0.8950\n",
      "Epoch 41/150\n",
      "196/196 [==============================] - 1s 7ms/step - loss: 0.2560 - sparse_categorical_accuracy: 0.9066 - val_loss: 0.2984 - val_sparse_categorical_accuracy: 0.8960\n",
      "Epoch 42/150\n",
      "196/196 [==============================] - 1s 7ms/step - loss: 0.2548 - sparse_categorical_accuracy: 0.9069 - val_loss: 0.2972 - val_sparse_categorical_accuracy: 0.8966\n",
      "Epoch 43/150\n",
      "196/196 [==============================] - 1s 7ms/step - loss: 0.2544 - sparse_categorical_accuracy: 0.9064 - val_loss: 0.2996 - val_sparse_categorical_accuracy: 0.8970\n",
      "Epoch 44/150\n",
      "196/196 [==============================] - 1s 7ms/step - loss: 0.2553 - sparse_categorical_accuracy: 0.9067 - val_loss: 0.2995 - val_sparse_categorical_accuracy: 0.8948\n",
      "Epoch 45/150\n",
      "196/196 [==============================] - 1s 7ms/step - loss: 0.2523 - sparse_categorical_accuracy: 0.9079 - val_loss: 0.2969 - val_sparse_categorical_accuracy: 0.8950\n",
      "Epoch 46/150\n"
     ]
    },
    {
     "name": "stdout",
     "output_type": "stream",
     "text": [
      "196/196 [==============================] - 1s 6ms/step - loss: 0.2505 - sparse_categorical_accuracy: 0.9086 - val_loss: 0.2986 - val_sparse_categorical_accuracy: 0.8957\n",
      "Epoch 47/150\n",
      "196/196 [==============================] - 1s 7ms/step - loss: 0.2508 - sparse_categorical_accuracy: 0.9078 - val_loss: 0.2961 - val_sparse_categorical_accuracy: 0.8960\n",
      "Epoch 48/150\n",
      "196/196 [==============================] - 1s 7ms/step - loss: 0.2481 - sparse_categorical_accuracy: 0.9094 - val_loss: 0.3075 - val_sparse_categorical_accuracy: 0.8893\n",
      "Epoch 49/150\n",
      "196/196 [==============================] - 1s 6ms/step - loss: 0.2467 - sparse_categorical_accuracy: 0.9093 - val_loss: 0.2990 - val_sparse_categorical_accuracy: 0.8939\n",
      "Epoch 50/150\n",
      "196/196 [==============================] - 1s 7ms/step - loss: 0.2475 - sparse_categorical_accuracy: 0.9096 - val_loss: 0.2979 - val_sparse_categorical_accuracy: 0.8946\n",
      "Epoch 51/150\n",
      "196/196 [==============================] - 1s 7ms/step - loss: 0.2435 - sparse_categorical_accuracy: 0.9110 - val_loss: 0.2945 - val_sparse_categorical_accuracy: 0.8980\n",
      "Epoch 52/150\n",
      "196/196 [==============================] - 1s 7ms/step - loss: 0.2403 - sparse_categorical_accuracy: 0.9121 - val_loss: 0.2939 - val_sparse_categorical_accuracy: 0.8989\n",
      "Epoch 53/150\n",
      "196/196 [==============================] - 1s 7ms/step - loss: 0.2412 - sparse_categorical_accuracy: 0.9115 - val_loss: 0.2938 - val_sparse_categorical_accuracy: 0.8971\n",
      "Epoch 54/150\n",
      "196/196 [==============================] - 1s 7ms/step - loss: 0.2413 - sparse_categorical_accuracy: 0.9127 - val_loss: 0.2939 - val_sparse_categorical_accuracy: 0.8971\n",
      "Epoch 55/150\n",
      "196/196 [==============================] - 1s 7ms/step - loss: 0.2396 - sparse_categorical_accuracy: 0.9134 - val_loss: 0.2956 - val_sparse_categorical_accuracy: 0.8949\n",
      "Epoch 56/150\n",
      "196/196 [==============================] - 1s 7ms/step - loss: 0.2400 - sparse_categorical_accuracy: 0.9126 - val_loss: 0.2956 - val_sparse_categorical_accuracy: 0.8958\n",
      "Epoch 57/150\n",
      "196/196 [==============================] - 1s 7ms/step - loss: 0.2381 - sparse_categorical_accuracy: 0.9127 - val_loss: 0.2917 - val_sparse_categorical_accuracy: 0.8985\n",
      "Epoch 58/150\n",
      "196/196 [==============================] - 1s 7ms/step - loss: 0.2369 - sparse_categorical_accuracy: 0.9128 - val_loss: 0.2943 - val_sparse_categorical_accuracy: 0.8962\n",
      "Epoch 59/150\n",
      "196/196 [==============================] - 1s 7ms/step - loss: 0.2343 - sparse_categorical_accuracy: 0.9150 - val_loss: 0.2937 - val_sparse_categorical_accuracy: 0.8986\n",
      "Epoch 60/150\n",
      "196/196 [==============================] - 1s 7ms/step - loss: 0.2340 - sparse_categorical_accuracy: 0.9149 - val_loss: 0.2910 - val_sparse_categorical_accuracy: 0.8988\n",
      "Epoch 61/150\n",
      "196/196 [==============================] - 1s 7ms/step - loss: 0.2339 - sparse_categorical_accuracy: 0.9148 - val_loss: 0.2915 - val_sparse_categorical_accuracy: 0.8970\n",
      "Epoch 62/150\n",
      "196/196 [==============================] - 1s 7ms/step - loss: 0.2318 - sparse_categorical_accuracy: 0.9148 - val_loss: 0.2938 - val_sparse_categorical_accuracy: 0.8973\n",
      "Epoch 63/150\n",
      "196/196 [==============================] - 1s 7ms/step - loss: 0.2319 - sparse_categorical_accuracy: 0.9148 - val_loss: 0.2903 - val_sparse_categorical_accuracy: 0.9006\n",
      "Epoch 64/150\n",
      "196/196 [==============================] - 1s 7ms/step - loss: 0.2294 - sparse_categorical_accuracy: 0.9173 - val_loss: 0.2891 - val_sparse_categorical_accuracy: 0.8987\n",
      "Epoch 65/150\n",
      "196/196 [==============================] - 1s 7ms/step - loss: 0.2295 - sparse_categorical_accuracy: 0.9157 - val_loss: 0.2911 - val_sparse_categorical_accuracy: 0.8986\n",
      "Epoch 66/150\n",
      "196/196 [==============================] - 1s 7ms/step - loss: 0.2292 - sparse_categorical_accuracy: 0.9157 - val_loss: 0.2911 - val_sparse_categorical_accuracy: 0.8988\n",
      "Epoch 67/150\n",
      "196/196 [==============================] - 1s 7ms/step - loss: 0.2261 - sparse_categorical_accuracy: 0.9173 - val_loss: 0.2920 - val_sparse_categorical_accuracy: 0.8998\n",
      "Epoch 68/150\n",
      "196/196 [==============================] - 1s 7ms/step - loss: 0.2264 - sparse_categorical_accuracy: 0.9163 - val_loss: 0.2928 - val_sparse_categorical_accuracy: 0.8975\n",
      "Epoch 69/150\n",
      "196/196 [==============================] - 1s 7ms/step - loss: 0.2248 - sparse_categorical_accuracy: 0.9182 - val_loss: 0.2896 - val_sparse_categorical_accuracy: 0.9005\n",
      "Epoch 70/150\n",
      "196/196 [==============================] - 1s 7ms/step - loss: 0.2245 - sparse_categorical_accuracy: 0.9179 - val_loss: 0.2904 - val_sparse_categorical_accuracy: 0.9010\n",
      "Epoch 71/150\n",
      "196/196 [==============================] - 1s 7ms/step - loss: 0.2246 - sparse_categorical_accuracy: 0.9173 - val_loss: 0.2913 - val_sparse_categorical_accuracy: 0.8997\n",
      "Epoch 72/150\n",
      "196/196 [==============================] - 1s 7ms/step - loss: 0.2207 - sparse_categorical_accuracy: 0.9204 - val_loss: 0.2885 - val_sparse_categorical_accuracy: 0.9004\n",
      "Epoch 73/150\n",
      "196/196 [==============================] - 1s 7ms/step - loss: 0.2208 - sparse_categorical_accuracy: 0.9197 - val_loss: 0.2871 - val_sparse_categorical_accuracy: 0.9007\n",
      "Epoch 74/150\n",
      "196/196 [==============================] - 1s 7ms/step - loss: 0.2202 - sparse_categorical_accuracy: 0.9189 - val_loss: 0.2908 - val_sparse_categorical_accuracy: 0.9009\n",
      "Epoch 75/150\n",
      "196/196 [==============================] - 1s 7ms/step - loss: 0.2202 - sparse_categorical_accuracy: 0.9192 - val_loss: 0.2887 - val_sparse_categorical_accuracy: 0.8999\n",
      "Epoch 76/150\n",
      "196/196 [==============================] - 1s 7ms/step - loss: 0.2204 - sparse_categorical_accuracy: 0.9192 - val_loss: 0.2878 - val_sparse_categorical_accuracy: 0.9007\n",
      "Epoch 77/150\n",
      "196/196 [==============================] - 1s 7ms/step - loss: 0.2156 - sparse_categorical_accuracy: 0.9203 - val_loss: 0.2905 - val_sparse_categorical_accuracy: 0.8999\n",
      "Epoch 78/150\n",
      "196/196 [==============================] - 1s 7ms/step - loss: 0.2181 - sparse_categorical_accuracy: 0.9206 - val_loss: 0.2879 - val_sparse_categorical_accuracy: 0.9011\n",
      "Epoch 79/150\n",
      "196/196 [==============================] - 1s 7ms/step - loss: 0.2174 - sparse_categorical_accuracy: 0.9207 - val_loss: 0.2896 - val_sparse_categorical_accuracy: 0.8969\n",
      "Epoch 80/150\n",
      "196/196 [==============================] - 1s 7ms/step - loss: 0.2147 - sparse_categorical_accuracy: 0.9207 - val_loss: 0.2915 - val_sparse_categorical_accuracy: 0.9001\n",
      "Epoch 81/150\n",
      "196/196 [==============================] - 1s 7ms/step - loss: 0.2142 - sparse_categorical_accuracy: 0.9220 - val_loss: 0.2881 - val_sparse_categorical_accuracy: 0.9022\n",
      "Epoch 82/150\n",
      "196/196 [==============================] - 1s 7ms/step - loss: 0.2139 - sparse_categorical_accuracy: 0.9224 - val_loss: 0.2876 - val_sparse_categorical_accuracy: 0.9011\n",
      "Epoch 83/150\n",
      "196/196 [==============================] - 1s 7ms/step - loss: 0.2139 - sparse_categorical_accuracy: 0.9223 - val_loss: 0.2878 - val_sparse_categorical_accuracy: 0.9007\n",
      "Epoch 84/150\n",
      "196/196 [==============================] - 1s 7ms/step - loss: 0.2114 - sparse_categorical_accuracy: 0.9225 - val_loss: 0.2904 - val_sparse_categorical_accuracy: 0.9000\n",
      "Epoch 85/150\n",
      "196/196 [==============================] - 1s 7ms/step - loss: 0.2122 - sparse_categorical_accuracy: 0.9233 - val_loss: 0.2861 - val_sparse_categorical_accuracy: 0.9012\n",
      "Epoch 86/150\n",
      "196/196 [==============================] - 1s 7ms/step - loss: 0.2091 - sparse_categorical_accuracy: 0.9228 - val_loss: 0.2855 - val_sparse_categorical_accuracy: 0.9031\n",
      "Epoch 87/150\n",
      "196/196 [==============================] - 1s 7ms/step - loss: 0.2093 - sparse_categorical_accuracy: 0.9239 - val_loss: 0.2889 - val_sparse_categorical_accuracy: 0.9003\n",
      "Epoch 88/150\n",
      "196/196 [==============================] - 1s 7ms/step - loss: 0.2080 - sparse_categorical_accuracy: 0.9241 - val_loss: 0.2901 - val_sparse_categorical_accuracy: 0.9011\n",
      "Epoch 89/150\n",
      "196/196 [==============================] - 1s 7ms/step - loss: 0.2098 - sparse_categorical_accuracy: 0.9233 - val_loss: 0.2865 - val_sparse_categorical_accuracy: 0.9027\n",
      "Epoch 90/150\n",
      "196/196 [==============================] - 1s 7ms/step - loss: 0.2065 - sparse_categorical_accuracy: 0.9255 - val_loss: 0.2889 - val_sparse_categorical_accuracy: 0.9007\n",
      "Epoch 91/150\n",
      "196/196 [==============================] - 1s 7ms/step - loss: 0.2039 - sparse_categorical_accuracy: 0.9260 - val_loss: 0.2861 - val_sparse_categorical_accuracy: 0.9011\n",
      "Epoch 92/150\n",
      "196/196 [==============================] - 1s 7ms/step - loss: 0.2056 - sparse_categorical_accuracy: 0.9245 - val_loss: 0.2900 - val_sparse_categorical_accuracy: 0.9008\n",
      "Epoch 93/150\n",
      "196/196 [==============================] - 1s 7ms/step - loss: 0.2071 - sparse_categorical_accuracy: 0.9249 - val_loss: 0.2860 - val_sparse_categorical_accuracy: 0.9009\n",
      "Epoch 94/150\n",
      "196/196 [==============================] - 1s 7ms/step - loss: 0.2053 - sparse_categorical_accuracy: 0.9246 - val_loss: 0.2876 - val_sparse_categorical_accuracy: 0.8992\n",
      "Epoch 95/150\n",
      "196/196 [==============================] - 1s 7ms/step - loss: 0.2029 - sparse_categorical_accuracy: 0.9262 - val_loss: 0.2892 - val_sparse_categorical_accuracy: 0.9009\n",
      "Epoch 96/150\n",
      "196/196 [==============================] - 1s 7ms/step - loss: 0.2034 - sparse_categorical_accuracy: 0.9269 - val_loss: 0.2852 - val_sparse_categorical_accuracy: 0.9016\n",
      "Epoch 97/150\n",
      "196/196 [==============================] - 1s 7ms/step - loss: 0.2020 - sparse_categorical_accuracy: 0.9265 - val_loss: 0.2881 - val_sparse_categorical_accuracy: 0.8999\n",
      "Epoch 98/150\n",
      "196/196 [==============================] - 1s 7ms/step - loss: 0.2013 - sparse_categorical_accuracy: 0.9265 - val_loss: 0.2897 - val_sparse_categorical_accuracy: 0.8997\n",
      "Epoch 99/150\n",
      "196/196 [==============================] - 1s 7ms/step - loss: 0.2007 - sparse_categorical_accuracy: 0.9260 - val_loss: 0.2894 - val_sparse_categorical_accuracy: 0.8994\n",
      "Epoch 100/150\n",
      "196/196 [==============================] - 1s 7ms/step - loss: 0.1984 - sparse_categorical_accuracy: 0.9292 - val_loss: 0.2858 - val_sparse_categorical_accuracy: 0.9015\n",
      "Epoch 101/150\n",
      "196/196 [==============================] - 1s 7ms/step - loss: 0.1978 - sparse_categorical_accuracy: 0.9278 - val_loss: 0.2888 - val_sparse_categorical_accuracy: 0.8983\n",
      "Epoch 102/150\n",
      "196/196 [==============================] - 1s 7ms/step - loss: 0.1990 - sparse_categorical_accuracy: 0.9275 - val_loss: 0.2867 - val_sparse_categorical_accuracy: 0.9017\n",
      "Epoch 103/150\n",
      "196/196 [==============================] - 1s 7ms/step - loss: 0.1963 - sparse_categorical_accuracy: 0.9286 - val_loss: 0.2892 - val_sparse_categorical_accuracy: 0.8971\n",
      "Epoch 104/150\n",
      "196/196 [==============================] - 1s 7ms/step - loss: 0.1962 - sparse_categorical_accuracy: 0.9281 - val_loss: 0.2861 - val_sparse_categorical_accuracy: 0.8997\n",
      "Epoch 105/150\n",
      "196/196 [==============================] - 1s 7ms/step - loss: 0.1950 - sparse_categorical_accuracy: 0.9287 - val_loss: 0.2858 - val_sparse_categorical_accuracy: 0.9021\n",
      "Epoch 106/150\n",
      "196/196 [==============================] - 1s 7ms/step - loss: 0.1954 - sparse_categorical_accuracy: 0.9286 - val_loss: 0.2872 - val_sparse_categorical_accuracy: 0.9017\n",
      "Epoch 107/150\n",
      "196/196 [==============================] - 1s 7ms/step - loss: 0.1939 - sparse_categorical_accuracy: 0.9304 - val_loss: 0.2853 - val_sparse_categorical_accuracy: 0.9028\n",
      "Epoch 108/150\n",
      "196/196 [==============================] - 1s 7ms/step - loss: 0.1930 - sparse_categorical_accuracy: 0.9288 - val_loss: 0.2881 - val_sparse_categorical_accuracy: 0.9006\n",
      "Epoch 109/150\n",
      "196/196 [==============================] - 1s 7ms/step - loss: 0.1915 - sparse_categorical_accuracy: 0.9307 - val_loss: 0.2854 - val_sparse_categorical_accuracy: 0.9027\n",
      "Epoch 110/150\n",
      "196/196 [==============================] - 1s 7ms/step - loss: 0.1917 - sparse_categorical_accuracy: 0.9307 - val_loss: 0.2884 - val_sparse_categorical_accuracy: 0.9007\n",
      "Epoch 111/150\n",
      "196/196 [==============================] - 1s 7ms/step - loss: 0.1910 - sparse_categorical_accuracy: 0.9310 - val_loss: 0.2877 - val_sparse_categorical_accuracy: 0.9035\n"
     ]
    }
   ],
   "source": [
    "from keras.callbacks import LearningRateScheduler\n",
    "\n",
    "def splitAB(X, axis):\n",
    "    dim = axis + 1\n",
    "    boundary = (X.shape[dim] // 2)\n",
    "    return (X[:, :boundary, :], X[:, boundary:, :])\n",
    "\n",
    "# split by row\n",
    "(X_trainA, X_trainB) = splitAB(X_train, 0)\n",
    "(X_valA, X_valB) = splitAB(X_val, 0) \n",
    "(X_testA, X_testB) = splitAB(X_test, 0)\n",
    "\n",
    "# Model\n",
    "inputA = Input(shape=X_trainA.shape[1:], name=\"input 1\")\n",
    "inputB = Input(shape=X_trainB.shape[1:], name=\"input 2\")\n",
    "\n",
    "flattenA = Flatten(input_shape=X_trainA.shape[1:])(inputA)\n",
    "flattenB = Flatten(input_shape=X_trainB.shape[1:])(inputB)\n",
    "\n",
    "batchnormA = BatchNormalization()(flattenA)\n",
    "batchnormB = BatchNormalization()(flattenB)\n",
    "\n",
    "hl1_1 = Dense(250, kernel_initializer=\"he_uniform\")(batchnormA)\n",
    "hl1_1_a = layers.LeakyReLU(alpha=0.15)(hl1_1)\n",
    "hl1_1_fin = Dropout(rate=0.15)(hl1_1_a)\n",
    "\n",
    "hl1_2 = Dense(250, kernel_initializer=\"he_uniform\")(batchnormB)\n",
    "hl1_2_a = layers.LeakyReLU(alpha=0.15)(hl1_2)\n",
    "hl1_2_fin = Dropout(rate=0.15)(hl1_2_a)\n",
    "\n",
    "hl2 = Dense(75, kernel_initializer=\"he_normal\", use_bias=False)(layers.concatenate([hl1_1_fin, hl1_2_fin]))\n",
    "hl2_norm = BatchNormalization()(hl2)\n",
    "hl2_a = layers.ELU(alpha=1.0)(hl2_norm)\n",
    "hl2_fin = Dropout(rate=0.0)(hl2_a)\n",
    "\n",
    "hl3 = Dense(50, kernel_initializer=\"glorot_uniform\", use_bias=False)(layers.concatenate([hl1_1_fin, hl1_2_fin, hl2_fin]))\n",
    "hl3_norm = BatchNormalization()(hl3)\n",
    "hl3_a = Activation(\"swish\")(hl3_norm)\n",
    "\n",
    "L_out = Dense(y_dim+1, kernel_initializer=\"glorot_uniform\", activation=\"linear\")(layers.concatenate([flattenA, flattenB, hl1_1_fin, hl1_2_fin, hl2_fin, hl3_a]))\n",
    "\n",
    "model_func2 = keras.Model(inputs=(inputA, inputB), outputs=[L_out])\n",
    "\n",
    "lr = 0.02\n",
    "decayRate = 1.0\n",
    "model_func2.compile(loss=SparseCategoricalCrossentropy(from_logits=True), optimizer=AdaBound(learning_rate=lr, final_lr=0.05),\n",
    "                    metrics=[\"sparse_categorical_accuracy\"])\n",
    "\n",
    "def learning_rate_decay_schedule(lr0, decayRate):\n",
    "    def scheduler(epoch, lr):\n",
    "        return lr * 0.93**decayRate\n",
    "    \n",
    "    return scheduler\n",
    "\n",
    "history[1] = model_func2.fit((X_trainA, X_trainB), y_train, batch_size=256, epochs=150, validation_data=((X_valA, X_valB), y_val),\n",
    "                               callbacks=[\n",
    "                                   EarlyStopping(patience=15, restore_best_weights=True)#,\n",
    "                                   #LearningRateScheduler(learning_rate_decay_schedule(lr, decayRate))\n",
    "                               ])\n",
    "\n",
    "models[1] = model_func2"
   ]
  },
  {
   "cell_type": "code",
   "execution_count": 39,
   "id": "b848700b",
   "metadata": {
    "pycharm": {
     "name": "#%%\n"
    }
   },
   "outputs": [
    {
     "data": {
      "image/png": "[encoded data removed]",
      "text/plain": [
       "<Figure size 800x500 with 1 Axes>"
      ]
     },
     "metadata": {},
     "output_type": "display_data"
    }
   ],
   "source": [
    "plotHistory(history[1])"
   ]
  },
  {
   "cell_type": "code",
   "execution_count": 92,
   "id": "46fa3567",
   "metadata": {
    "pycharm": {
     "name": "#%%\n"
    }
   },
   "outputs": [
    {
     "name": "stdout",
     "output_type": "stream",
     "text": [
      "Epoch 1/50\n",
      "391/391 [==============================] - 2s 3ms/step - loss: 0.6743 - sparse_categorical_accuracy: 0.8265 - val_loss: 0.5124 - val_sparse_categorical_accuracy: 0.8589\n",
      "Epoch 2/50\n",
      "391/391 [==============================] - 1s 3ms/step - loss: 0.4709 - sparse_categorical_accuracy: 0.8664 - val_loss: 0.4346 - val_sparse_categorical_accuracy: 0.8677\n",
      "Epoch 3/50\n",
      "391/391 [==============================] - 1s 3ms/step - loss: 0.3970 - sparse_categorical_accuracy: 0.8785 - val_loss: 0.3654 - val_sparse_categorical_accuracy: 0.8809\n",
      "Epoch 4/50\n",
      "391/391 [==============================] - 1s 3ms/step - loss: 0.3490 - sparse_categorical_accuracy: 0.8893 - val_loss: 0.3571 - val_sparse_categorical_accuracy: 0.8806\n",
      "Epoch 5/50\n",
      "391/391 [==============================] - 1s 2ms/step - loss: 0.3188 - sparse_categorical_accuracy: 0.8959 - val_loss: 0.3260 - val_sparse_categorical_accuracy: 0.8898\n",
      "Epoch 6/50\n",
      "391/391 [==============================] - 1s 2ms/step - loss: 0.2933 - sparse_categorical_accuracy: 0.9016 - val_loss: 0.3290 - val_sparse_categorical_accuracy: 0.8835\n",
      "Epoch 7/50\n",
      "391/391 [==============================] - 1s 2ms/step - loss: 0.2765 - sparse_categorical_accuracy: 0.9067 - val_loss: 0.3278 - val_sparse_categorical_accuracy: 0.8895\n",
      "Epoch 8/50\n",
      "391/391 [==============================] - 1s 2ms/step - loss: 0.2560 - sparse_categorical_accuracy: 0.9133 - val_loss: 0.3104 - val_sparse_categorical_accuracy: 0.8927\n",
      "Epoch 9/50\n",
      "391/391 [==============================] - 1s 2ms/step - loss: 0.2426 - sparse_categorical_accuracy: 0.9172 - val_loss: 0.3226 - val_sparse_categorical_accuracy: 0.8917\n",
      "Epoch 10/50\n",
      "391/391 [==============================] - 1s 2ms/step - loss: 0.2320 - sparse_categorical_accuracy: 0.9208 - val_loss: 0.3102 - val_sparse_categorical_accuracy: 0.8956\n",
      "Epoch 11/50\n",
      "391/391 [==============================] - 1s 2ms/step - loss: 0.2157 - sparse_categorical_accuracy: 0.9262 - val_loss: 0.3149 - val_sparse_categorical_accuracy: 0.8912\n",
      "Epoch 12/50\n",
      "391/391 [==============================] - 1s 2ms/step - loss: 0.2038 - sparse_categorical_accuracy: 0.9307 - val_loss: 0.3085 - val_sparse_categorical_accuracy: 0.8967\n",
      "Epoch 13/50\n",
      "391/391 [==============================] - 1s 2ms/step - loss: 0.1965 - sparse_categorical_accuracy: 0.9322 - val_loss: 0.3284 - val_sparse_categorical_accuracy: 0.8935\n",
      "Epoch 14/50\n",
      "391/391 [==============================] - 1s 2ms/step - loss: 0.1885 - sparse_categorical_accuracy: 0.9337 - val_loss: 0.3213 - val_sparse_categorical_accuracy: 0.8915\n",
      "Epoch 15/50\n",
      "391/391 [==============================] - 1s 2ms/step - loss: 0.1782 - sparse_categorical_accuracy: 0.9369 - val_loss: 0.3266 - val_sparse_categorical_accuracy: 0.8919\n",
      "Epoch 16/50\n",
      "391/391 [==============================] - 1s 2ms/step - loss: 0.1737 - sparse_categorical_accuracy: 0.9385 - val_loss: 0.3317 - val_sparse_categorical_accuracy: 0.8962\n",
      "Epoch 17/50\n",
      "391/391 [==============================] - 1s 2ms/step - loss: 0.1604 - sparse_categorical_accuracy: 0.9441 - val_loss: 0.3321 - val_sparse_categorical_accuracy: 0.8921\n",
      "Epoch 18/50\n",
      "391/391 [==============================] - 1s 2ms/step - loss: 0.1570 - sparse_categorical_accuracy: 0.9454 - val_loss: 0.3203 - val_sparse_categorical_accuracy: 0.8954\n",
      "Epoch 19/50\n",
      "391/391 [==============================] - 1s 2ms/step - loss: 0.1477 - sparse_categorical_accuracy: 0.9471 - val_loss: 0.3565 - val_sparse_categorical_accuracy: 0.8890\n",
      "Epoch 20/50\n",
      "391/391 [==============================] - 1s 2ms/step - loss: 0.1461 - sparse_categorical_accuracy: 0.9489 - val_loss: 0.3307 - val_sparse_categorical_accuracy: 0.8965\n",
      "Epoch 21/50\n",
      "391/391 [==============================] - 1s 2ms/step - loss: 0.1377 - sparse_categorical_accuracy: 0.9520 - val_loss: 0.3350 - val_sparse_categorical_accuracy: 0.8934\n",
      "Epoch 22/50\n",
      "391/391 [==============================] - 1s 2ms/step - loss: 0.1310 - sparse_categorical_accuracy: 0.9539 - val_loss: 0.3592 - val_sparse_categorical_accuracy: 0.8932\n"
     ]
    }
   ],
   "source": [
    "model_selu = Sequential([\n",
    "    Flatten(input_shape=X.shape[1:]),\n",
    "    BatchNormalization(),\n",
    "    \n",
    "    Dense(100, kernel_initializer=\"lecun_normal\"),\n",
    "    Activation(\"selu\"),\n",
    "    \n",
    "    Dense(50, kernel_initializer=\"lecun_normal\"),\n",
    "    Activation(\"selu\"),\n",
    "    \n",
    "    Dense(50, kernel_initializer=\"lecun_normal\"),\n",
    "    Activation(\"selu\"),\n",
    "    \n",
    "    Dense(y_dim+1, kernel_initializer=\"glorot_uniform\"),\n",
    "    BatchNormalization(),\n",
    "    Activation('linear')\n",
    "])\n",
    "\n",
    "model_selu.compile(loss=SparseCategoricalCrossentropy(from_logits=True), optimizer=tf.keras.optimizers.Nadam(learning_rate=0.001), metrics=[\"sparse_categorical_accuracy\"])\n",
    "\n",
    "history[2] = model_selu.fit(X_train, y_train, batch_size=128, epochs=50, validation_data=(X_val, y_val),\n",
    "                            callbacks=[EarlyStopping(patience=10, restore_best_weights=True)])\n",
    "\n",
    "models[2] = model_selu"
   ]
  },
  {
   "cell_type": "code",
   "execution_count": 14,
   "id": "8a453b0d",
   "metadata": {
    "pycharm": {
     "name": "#%%\n"
    }
   },
   "outputs": [
    {
     "ename": "AttributeError",
     "evalue": "'NoneType' object has no attribute 'history'",
     "output_type": "error",
     "traceback": [
      "\u001b[1;31m---------------------------------------------------------------------------\u001b[0m",
      "\u001b[1;31mAttributeError\u001b[0m                            Traceback (most recent call last)",
      "Input \u001b[1;32mIn [14]\u001b[0m, in \u001b[0;36m<cell line: 1>\u001b[1;34m()\u001b[0m\n\u001b[1;32m----> 1\u001b[0m \u001b[43mplotHistory\u001b[49m\u001b[43m(\u001b[49m\u001b[43mhistory\u001b[49m\u001b[43m[\u001b[49m\u001b[38;5;241;43m2\u001b[39;49m\u001b[43m]\u001b[49m\u001b[43m)\u001b[49m\n",
      "Input \u001b[1;32mIn [10]\u001b[0m, in \u001b[0;36mplotHistory\u001b[1;34m(hist)\u001b[0m\n\u001b[0;32m      1\u001b[0m \u001b[38;5;28;01mdef\u001b[39;00m \u001b[38;5;21mplotHistory\u001b[39m(hist):\n\u001b[1;32m----> 2\u001b[0m     pd\u001b[38;5;241m.\u001b[39mDataFrame(\u001b[43mhist\u001b[49m\u001b[38;5;241;43m.\u001b[39;49m\u001b[43mhistory\u001b[49m)\u001b[38;5;241m.\u001b[39mplot(figsize\u001b[38;5;241m=\u001b[39m(\u001b[38;5;241m8\u001b[39m, \u001b[38;5;241m5\u001b[39m))\n\u001b[0;32m      3\u001b[0m     plt\u001b[38;5;241m.\u001b[39mgrid(\u001b[38;5;28;01mTrue\u001b[39;00m)\n\u001b[0;32m      4\u001b[0m     plt\u001b[38;5;241m.\u001b[39mgca()\u001b[38;5;241m.\u001b[39mset_ylim(\u001b[38;5;241m0\u001b[39m, \u001b[38;5;241m1\u001b[39m) \u001b[38;5;66;03m# vertical range: [0, 1]\u001b[39;00m\n",
      "\u001b[1;31mAttributeError\u001b[0m: 'NoneType' object has no attribute 'history'"
     ]
    }
   ],
   "source": [
    "plotHistory(history[2])"
   ]
  },
  {
   "cell_type": "code",
   "execution_count": null,
   "id": "5592ef35",
   "metadata": {
    "pycharm": {
     "name": "#%%\n"
    }
   },
   "outputs": [],
   "source": []
  }
 ],
 "metadata": {
  "kernelspec": {
   "display_name": "Python 3 (ipykernel)",
   "language": "python",
   "name": "python3"
  },
  "language_info": {
   "codemirror_mode": {
    "name": "ipython",
    "version": 3
   },
   "file_extension": ".py",
   "mimetype": "text/x-python",
   "name": "python",
   "nbconvert_exporter": "python",
   "pygments_lexer": "ipython3",
   "version": "3.10.8"
  }
 },
 "nbformat": 4,
 "nbformat_minor": 5
}
