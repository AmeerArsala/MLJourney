{
 "cells": [
  {
   "cell_type": "code",
   "execution_count": 16,
   "id": "6ec7b538",
   "metadata": {
    "pycharm": {
     "name": "#%%\n"
    }
   },
   "outputs": [],
   "source": [
    "from tensorflow import keras\n",
    "\n",
    "(X_train_full, y_train_full), (X_test, y_test) = keras.datasets.fashion_mnist.load_data()"
   ]
  },
  {
   "cell_type": "code",
   "execution_count": 17,
   "id": "c3c96764",
   "metadata": {
    "pycharm": {
     "name": "#%%\n"
    }
   },
   "outputs": [
    {
     "data": {
      "text/plain": [
       "(60000, 28, 28)"
      ]
     },
     "execution_count": 17,
     "metadata": {},
     "output_type": "execute_result"
    }
   ],
   "source": [
    "X_train_full.shape"
   ]
  },
  {
   "cell_type": "code",
   "execution_count": 18,
   "id": "1370a21f",
   "metadata": {
    "pycharm": {
     "name": "#%%\n"
    }
   },
   "outputs": [
    {
     "data": {
      "text/plain": [
       "dtype('uint8')"
      ]
     },
     "execution_count": 18,
     "metadata": {},
     "output_type": "execute_result"
    }
   ],
   "source": [
    "X_train_full.dtype"
   ]
  },
  {
   "cell_type": "code",
   "execution_count": 19,
   "id": "ffd2d749",
   "metadata": {
    "pycharm": {
     "name": "#%%\n"
    }
   },
   "outputs": [],
   "source": [
    "CV_SIZE = 5000\n",
    "(X_cv, X_train) = (X_train_full[:CV_SIZE] / 255.0, X_train_full[CV_SIZE:] / 255.0)\n",
    "(y_cv, y_train) = (y_train_full[:CV_SIZE], y_train_full[CV_SIZE:])"
   ]
  },
  {
   "cell_type": "code",
   "execution_count": 20,
   "id": "d6e542dd",
   "metadata": {
    "pycharm": {
     "name": "#%%\n"
    }
   },
   "outputs": [],
   "source": [
    "# Format goes: output = class_names[y_i]\n",
    "class_names = [\"T-shirt/top\", \"Trouser\", \"Pullover\", \"Dress\", \"Sandal\", \"Shirt\", \"Sneaker\", \"Bag\", \"Ankle boot\"]"
   ]
  },
  {
   "cell_type": "code",
   "execution_count": 70,
   "id": "1e41dc95",
   "metadata": {
    "pycharm": {
     "name": "#%%\n"
    }
   },
   "outputs": [],
   "source": [
    "import numpy as np\n",
    "import tensorflow as tf\n",
    "\n",
    "from keras.losses import SparseCategoricalCrossentropy\n",
    "\n",
    "model = keras.models.Sequential([\n",
    "    keras.layers.Flatten(input_shape=(28, 28)), # preprocessing layer\n",
    "    keras.layers.Dense(200, activation=\"relu\"),\n",
    "    keras.layers.Dense(75, activation=\"relu\"),\n",
    "    keras.layers.Dense(10, activation=\"linear\")\n",
    "])\n",
    "\n",
    "optimizer = tf.optimizers.Adam();\n",
    "model.compile(optimizer=optimizer, loss=SparseCategoricalCrossentropy(from_logits=True), metrics=[\"accuracy\"])"
   ]
  },
  {
   "cell_type": "code",
   "execution_count": 71,
   "id": "2e9b5506",
   "metadata": {
    "pycharm": {
     "name": "#%%\n"
    }
   },
   "outputs": [
    {
     "name": "stdout",
     "output_type": "stream",
     "text": [
      "Epoch 1/30\n",
      "1719/1719 [==============================] - 2s 1ms/step - loss: 0.4909 - accuracy: 0.8236 - val_loss: 0.4010 - val_accuracy: 0.8550\n",
      "Epoch 2/30\n",
      "1719/1719 [==============================] - 2s 1ms/step - loss: 0.3684 - accuracy: 0.8655 - val_loss: 0.3729 - val_accuracy: 0.8636\n",
      "Epoch 3/30\n",
      "1719/1719 [==============================] - 2s 1ms/step - loss: 0.3301 - accuracy: 0.8781 - val_loss: 0.3210 - val_accuracy: 0.8872\n",
      "Epoch 4/30\n",
      "1719/1719 [==============================] - 2s 1ms/step - loss: 0.3064 - accuracy: 0.8862 - val_loss: 0.3288 - val_accuracy: 0.8794\n",
      "Epoch 5/30\n",
      "1719/1719 [==============================] - 2s 1ms/step - loss: 0.2896 - accuracy: 0.8917 - val_loss: 0.3143 - val_accuracy: 0.8878\n",
      "Epoch 6/30\n",
      "1719/1719 [==============================] - 2s 1ms/step - loss: 0.2738 - accuracy: 0.8977 - val_loss: 0.2924 - val_accuracy: 0.8956\n",
      "Epoch 7/30\n",
      "1719/1719 [==============================] - 2s 1ms/step - loss: 0.2618 - accuracy: 0.9021 - val_loss: 0.3122 - val_accuracy: 0.8878\n",
      "Epoch 8/30\n",
      "1719/1719 [==============================] - 2s 1ms/step - loss: 0.2513 - accuracy: 0.9047 - val_loss: 0.3010 - val_accuracy: 0.8922\n",
      "Epoch 9/30\n",
      "1719/1719 [==============================] - 2s 1ms/step - loss: 0.2379 - accuracy: 0.9103 - val_loss: 0.3197 - val_accuracy: 0.8900\n",
      "Epoch 10/30\n",
      "1719/1719 [==============================] - 2s 1ms/step - loss: 0.2280 - accuracy: 0.9131 - val_loss: 0.3129 - val_accuracy: 0.8954\n",
      "Epoch 11/30\n",
      "1719/1719 [==============================] - 2s 1ms/step - loss: 0.2221 - accuracy: 0.9143 - val_loss: 0.3193 - val_accuracy: 0.8938\n",
      "Epoch 12/30\n",
      "1719/1719 [==============================] - 2s 1ms/step - loss: 0.2145 - accuracy: 0.9181 - val_loss: 0.3250 - val_accuracy: 0.8910\n",
      "Epoch 13/30\n",
      "1719/1719 [==============================] - 2s 1ms/step - loss: 0.2058 - accuracy: 0.9216 - val_loss: 0.3216 - val_accuracy: 0.8980\n",
      "Epoch 14/30\n",
      "1719/1719 [==============================] - 2s 1ms/step - loss: 0.2008 - accuracy: 0.9233 - val_loss: 0.3056 - val_accuracy: 0.8974\n",
      "Epoch 15/30\n",
      "1719/1719 [==============================] - 2s 1ms/step - loss: 0.1935 - accuracy: 0.9253 - val_loss: 0.3416 - val_accuracy: 0.8894\n",
      "Epoch 16/30\n",
      "1719/1719 [==============================] - 2s 1ms/step - loss: 0.1873 - accuracy: 0.9293 - val_loss: 0.3290 - val_accuracy: 0.8976\n",
      "Epoch 17/30\n",
      "1719/1719 [==============================] - 2s 1ms/step - loss: 0.1831 - accuracy: 0.9303 - val_loss: 0.3280 - val_accuracy: 0.9008\n",
      "Epoch 18/30\n",
      "1719/1719 [==============================] - 2s 1ms/step - loss: 0.1781 - accuracy: 0.9318 - val_loss: 0.3303 - val_accuracy: 0.8964\n",
      "Epoch 19/30\n",
      "1719/1719 [==============================] - 2s 1ms/step - loss: 0.1716 - accuracy: 0.9339 - val_loss: 0.3292 - val_accuracy: 0.8966\n",
      "Epoch 20/30\n",
      "1719/1719 [==============================] - 2s 1ms/step - loss: 0.1662 - accuracy: 0.9361 - val_loss: 0.3654 - val_accuracy: 0.8956\n",
      "Epoch 21/30\n",
      "1719/1719 [==============================] - 2s 1ms/step - loss: 0.1619 - accuracy: 0.9360 - val_loss: 0.3577 - val_accuracy: 0.8912\n",
      "Epoch 22/30\n",
      "1719/1719 [==============================] - 2s 1ms/step - loss: 0.1564 - accuracy: 0.9397 - val_loss: 0.3747 - val_accuracy: 0.8978\n",
      "Epoch 23/30\n",
      "1719/1719 [==============================] - 2s 1ms/step - loss: 0.1528 - accuracy: 0.9416 - val_loss: 0.3805 - val_accuracy: 0.8900\n",
      "Epoch 24/30\n",
      "1719/1719 [==============================] - 2s 1ms/step - loss: 0.1516 - accuracy: 0.9417 - val_loss: 0.3961 - val_accuracy: 0.8890\n",
      "Epoch 25/30\n",
      "1719/1719 [==============================] - 2s 1ms/step - loss: 0.1465 - accuracy: 0.9433 - val_loss: 0.3970 - val_accuracy: 0.8944\n",
      "Epoch 26/30\n",
      "1719/1719 [==============================] - 2s 1ms/step - loss: 0.1457 - accuracy: 0.9428 - val_loss: 0.3508 - val_accuracy: 0.9002\n",
      "Epoch 27/30\n",
      "1719/1719 [==============================] - 2s 1ms/step - loss: 0.1437 - accuracy: 0.9447 - val_loss: 0.3601 - val_accuracy: 0.9030\n",
      "Epoch 28/30\n",
      "1719/1719 [==============================] - 2s 1ms/step - loss: 0.1333 - accuracy: 0.9488 - val_loss: 0.4281 - val_accuracy: 0.8956\n",
      "Epoch 29/30\n",
      "1719/1719 [==============================] - 2s 1ms/step - loss: 0.1325 - accuracy: 0.9491 - val_loss: 0.3943 - val_accuracy: 0.9028\n",
      "Epoch 30/30\n",
      "1719/1719 [==============================] - 2s 1ms/step - loss: 0.1284 - accuracy: 0.9503 - val_loss: 0.4192 - val_accuracy: 0.8924\n"
     ]
    }
   ],
   "source": [
    "history = model.fit(X_train, y_train, epochs=30, validation_data=(X_cv, y_cv))"
   ]
  },
  {
   "cell_type": "code",
   "execution_count": 75,
   "id": "ec6302b5",
   "metadata": {
    "pycharm": {
     "name": "#%%\n"
    }
   },
   "outputs": [],
   "source": [
    "def predict(num_preds, X, y, model): # predicts random entries of X\n",
    "    size = len(X)\n",
    "    predictions = []\n",
    "    \n",
    "    for i in range(num_preds):\n",
    "        # pick a random (x, y) pairing\n",
    "        index = int(np.random.rand() * size)\n",
    "        x = X[index]\n",
    "        y_actual = np.zeros((10, 1))\n",
    "        y_actual[y[index]] = 1\n",
    "        \n",
    "        yhat = model.predict(x)\n",
    "        \n",
    "        print(f\"yhat = {yhat}, y = {y_actual}\")\n",
    "        \n",
    "        predictions.append((yhat, y_actual))\n",
    "    \n",
    "    return predictions"
   ]
  },
  {
   "cell_type": "code",
   "execution_count": 72,
   "id": "d1aeabdd",
   "metadata": {
    "pycharm": {
     "name": "#%%\n"
    }
   },
   "outputs": [
    {
     "data": {
      "image/png": "[encoded data removed]",
      "text/plain": [
       "<Figure size 800x500 with 1 Axes>"
      ]
     },
     "metadata": {},
     "output_type": "display_data"
    }
   ],
   "source": [
    "import pandas as pd\n",
    "import matplotlib.pyplot as plt\n",
    "\n",
    "from pandas import DataFrame\n",
    "\n",
    "DataFrame(history.history).plot(figsize=(8, 5))\n",
    "plt.grid(True)\n",
    "plt.gca().set_ylim(0, 1) # vertical range: [0, 1]\n",
    "plt.show()"
   ]
  },
  {
   "cell_type": "code",
   "execution_count": 73,
   "id": "3960d596",
   "metadata": {
    "pycharm": {
     "name": "#%%\n"
    }
   },
   "outputs": [
    {
     "name": "stdout",
     "output_type": "stream",
     "text": [
      "Model: \"sequential_12\"\n",
      "_________________________________________________________________\n",
      " Layer (type)                Output Shape              Param #   \n",
      "=================================================================\n",
      " flatten_12 (Flatten)        (None, 784)               0         \n",
      "                                                                 \n",
      " dense_36 (Dense)            (None, 200)               157000    \n",
      "                                                                 \n",
      " dense_37 (Dense)            (None, 75)                15075     \n",
      "                                                                 \n",
      " dense_38 (Dense)            (None, 10)                760       \n",
      "                                                                 \n",
      "=================================================================\n",
      "Total params: 172,835\n",
      "Trainable params: 172,835\n",
      "Non-trainable params: 0\n",
      "_________________________________________________________________\n"
     ]
    }
   ],
   "source": [
    "model.summary()"
   ]
  },
  {
   "cell_type": "code",
   "execution_count": 81,
   "id": "0a999884",
   "metadata": {
    "pycharm": {
     "name": "#%%\n"
    }
   },
   "outputs": [
    {
     "name": "stdout",
     "output_type": "stream",
     "text": [
      "1/1 [==============================] - 0s 11ms/step\n",
      "yhat = [[-12.903791  -22.47496    -1.3053558  -9.391639    5.1379743 -15.135408\n",
      "    8.726976  -25.829847  -15.309375  -22.110435 ]], y = [[0.]\n",
      " [0.]\n",
      " [0.]\n",
      " [0.]\n",
      " [0.]\n",
      " [0.]\n",
      " [1.]\n",
      " [0.]\n",
      " [0.]\n",
      " [0.]]\n",
      "1/1 [==============================] - 0s 12ms/step\n",
      "yhat = [[-33.157047 -30.327885 -27.730268 -30.711481 -20.59418   19.923824\n",
      "  -27.49271  -15.708272 -20.347904 -16.104761]], y = [[0.]\n",
      " [0.]\n",
      " [0.]\n",
      " [0.]\n",
      " [0.]\n",
      " [1.]\n",
      " [0.]\n",
      " [0.]\n",
      " [0.]\n",
      " [0.]]\n",
      "1/1 [==============================] - 0s 10ms/step\n",
      "yhat = [[-24.847162  -16.061302  -12.85605   -12.114112  -18.29279     7.7793136\n",
      "  -10.341816    1.5982894 -14.408424   -5.662129 ]], y = [[0.]\n",
      " [0.]\n",
      " [0.]\n",
      " [0.]\n",
      " [0.]\n",
      " [1.]\n",
      " [0.]\n",
      " [0.]\n",
      " [0.]\n",
      " [0.]]\n"
     ]
    },
    {
     "data": {
      "text/plain": [
       "[(array([[-12.903791 , -22.47496  ,  -1.3053558,  -9.391639 ,   5.1379743,\n",
       "          -15.135408 ,   8.726976 , -25.829847 , -15.309375 , -22.110435 ]],\n",
       "        dtype=float32),\n",
       "  array([[0.],\n",
       "         [0.],\n",
       "         [0.],\n",
       "         [0.],\n",
       "         [0.],\n",
       "         [0.],\n",
       "         [1.],\n",
       "         [0.],\n",
       "         [0.],\n",
       "         [0.]])),\n",
       " (array([[-33.157047, -30.327885, -27.730268, -30.711481, -20.59418 ,\n",
       "           19.923824, -27.49271 , -15.708272, -20.347904, -16.104761]],\n",
       "        dtype=float32),\n",
       "  array([[0.],\n",
       "         [0.],\n",
       "         [0.],\n",
       "         [0.],\n",
       "         [0.],\n",
       "         [1.],\n",
       "         [0.],\n",
       "         [0.],\n",
       "         [0.],\n",
       "         [0.]])),\n",
       " (array([[-24.847162 , -16.061302 , -12.85605  , -12.114112 , -18.29279  ,\n",
       "            7.7793136, -10.341816 ,   1.5982894, -14.408424 ,  -5.662129 ]],\n",
       "        dtype=float32),\n",
       "  array([[0.],\n",
       "         [0.],\n",
       "         [0.],\n",
       "         [0.],\n",
       "         [0.],\n",
       "         [1.],\n",
       "         [0.],\n",
       "         [0.],\n",
       "         [0.],\n",
       "         [0.]]))]"
      ]
     },
     "execution_count": 81,
     "metadata": {},
     "output_type": "execute_result"
    }
   ],
   "source": [
    "predict(3, X_cv, y_cv, model)"
   ]
  },
  {
   "cell_type": "code",
   "execution_count": 138,
   "id": "3fd4a72b",
   "metadata": {
    "pycharm": {
     "name": "#%%\n"
    }
   },
   "outputs": [],
   "source": [
    "from sklearn.datasets import fetch_california_housing\n",
    "from sklearn.model_selection import train_test_split\n",
    "from sklearn.preprocessing import StandardScaler\n",
    "\n",
    "housing = fetch_california_housing()\n",
    "\n",
    "X_train_all, X_test, y_train_all, y_test = train_test_split(housing.data, housing.target)\n",
    "X_train, X_cv, y_train, y_cv = train_test_split(X_train_all, y_train_all)\n",
    "\n",
    "scaler = StandardScaler()\n",
    "\n",
    "X_train = tf.convert_to_tensor(scaler.fit_transform(X_train), dtype=tf.float64)\n",
    "X_cv = tf.convert_to_tensor(scaler.fit_transform(X_cv), dtype=tf.float64)\n",
    "X_test = tf.convert_to_tensor(scaler.fit_transform(X_test), dtype=tf.float64)"
   ]
  },
  {
   "cell_type": "code",
   "execution_count": 139,
   "id": "a7031670",
   "metadata": {
    "pycharm": {
     "name": "#%%\n"
    }
   },
   "outputs": [],
   "source": [
    "from keras import models, layers\n",
    "\n",
    "housingModel = models.Sequential([\n",
    "    layers.Dense(100, activation=\"relu\"),\n",
    "    layers.Dense(1)\n",
    "])"
   ]
  },
  {
   "cell_type": "code",
   "execution_count": 140,
   "id": "6e6f578b",
   "metadata": {
    "pycharm": {
     "name": "#%%\n"
    }
   },
   "outputs": [],
   "source": [
    "from keras.losses import MeanSquaredError\n",
    "\n",
    "housingModel.compile(optimizer=\"adam\", loss=MeanSquaredError(), metrics=['accuracy'])"
   ]
  },
  {
   "cell_type": "code",
   "execution_count": 141,
   "id": "3b235eb3",
   "metadata": {
    "pycharm": {
     "name": "#%%\n"
    }
   },
   "outputs": [
    {
     "name": "stdout",
     "output_type": "stream",
     "text": [
      "Epoch 1/13\n",
      "363/363 [==============================] - 1s 923us/step - loss: 1.3629 - accuracy: 0.0031 - val_loss: 0.5866 - val_accuracy: 0.0018\n",
      "Epoch 2/13\n",
      "363/363 [==============================] - 0s 727us/step - loss: 0.4763 - accuracy: 0.0034 - val_loss: 0.4365 - val_accuracy: 0.0018\n",
      "Epoch 3/13\n",
      "363/363 [==============================] - 0s 735us/step - loss: 0.4079 - accuracy: 0.0033 - val_loss: 0.4098 - val_accuracy: 0.0018\n",
      "Epoch 4/13\n",
      "363/363 [==============================] - 0s 734us/step - loss: 0.3897 - accuracy: 0.0033 - val_loss: 0.4000 - val_accuracy: 0.0018\n",
      "Epoch 5/13\n",
      "363/363 [==============================] - 0s 730us/step - loss: 0.3909 - accuracy: 0.0034 - val_loss: 0.4180 - val_accuracy: 0.0018\n",
      "Epoch 6/13\n",
      "363/363 [==============================] - 0s 735us/step - loss: 0.3869 - accuracy: 0.0034 - val_loss: 0.3946 - val_accuracy: 0.0018\n",
      "Epoch 7/13\n",
      "363/363 [==============================] - 0s 727us/step - loss: 0.3863 - accuracy: 0.0034 - val_loss: 0.4084 - val_accuracy: 0.0018\n",
      "Epoch 8/13\n",
      "363/363 [==============================] - 0s 727us/step - loss: 0.3670 - accuracy: 0.0034 - val_loss: 0.3671 - val_accuracy: 0.0018\n",
      "Epoch 9/13\n",
      "363/363 [==============================] - 0s 727us/step - loss: 0.3721 - accuracy: 0.0034 - val_loss: 0.3814 - val_accuracy: 0.0018\n",
      "Epoch 10/13\n",
      "363/363 [==============================] - 0s 732us/step - loss: 0.3546 - accuracy: 0.0034 - val_loss: 0.3710 - val_accuracy: 0.0018\n",
      "Epoch 11/13\n",
      "363/363 [==============================] - 0s 738us/step - loss: 0.3526 - accuracy: 0.0034 - val_loss: 0.3632 - val_accuracy: 0.0018\n",
      "Epoch 12/13\n",
      "363/363 [==============================] - 0s 729us/step - loss: 0.3441 - accuracy: 0.0034 - val_loss: 0.3607 - val_accuracy: 0.0018\n",
      "Epoch 13/13\n",
      "363/363 [==============================] - 0s 751us/step - loss: 0.3493 - accuracy: 0.0034 - val_loss: 0.3667 - val_accuracy: 0.0018\n"
     ]
    }
   ],
   "source": [
    "housingHistory = housingModel.fit(X_train, y_train, epochs=13, batch_size=32, validation_data=(X_cv, y_cv))"
   ]
  },
  {
   "cell_type": "code",
   "execution_count": 119,
   "id": "e29fbe97",
   "metadata": {
    "pycharm": {
     "name": "#%%\n"
    }
   },
   "outputs": [],
   "source": [
    "def plotHistory(history):\n",
    "    DataFrame(history.history).plot(figsize=(8, 5))\n",
    "    plt.grid(True)\n",
    "    plt.gca().set_ylim(0, 1) # vertical range: [0, 1]\n",
    "    plt.show()"
   ]
  },
  {
   "cell_type": "code",
   "execution_count": 142,
   "id": "901c3645",
   "metadata": {
    "pycharm": {
     "name": "#%%\n"
    }
   },
   "outputs": [
    {
     "data": {
      "image/png": "[encoded data removed]",
      "text/plain": [
       "<Figure size 800x500 with 1 Axes>"
      ]
     },
     "metadata": {},
     "output_type": "display_data"
    }
   ],
   "source": [
    "plotHistory(housingHistory);"
   ]
  },
  {
   "cell_type": "code",
   "execution_count": 165,
   "id": "58e5dd27",
   "metadata": {
    "pycharm": {
     "name": "#%%\n"
    }
   },
   "outputs": [],
   "source": [
    "input_layer = layers.Input(shape=X_train.shape[1:])\n",
    "hl1 = layers.Dense(50, activation=\"relu\")(input_layer)\n",
    "hl2 = layers.Dense(30, activation=\"relu\")(hl1)\n",
    "concat = layers.concatenate([input_layer, hl1, hl2]) # inputs for the next layer\n",
    "hL = layers.Dense(1)(concat)\n",
    "\n",
    "awesome_housing_model = keras.Model(inputs=[input_layer], outputs =[hL])"
   ]
  },
  {
   "cell_type": "code",
   "execution_count": 166,
   "id": "73386af7",
   "metadata": {
    "pycharm": {
     "name": "#%%\n"
    }
   },
   "outputs": [],
   "source": [
    "awesome_housing_model.compile(loss=MeanSquaredError(), optimizer=tf.optimizers.Adam(learning_rate=0.001), metrics=['accuracy'])"
   ]
  },
  {
   "cell_type": "code",
   "execution_count": 167,
   "id": "80fc0f9f",
   "metadata": {
    "pycharm": {
     "name": "#%%\n"
    }
   },
   "outputs": [
    {
     "name": "stdout",
     "output_type": "stream",
     "text": [
      "Epoch 1/25\n",
      "91/91 [==============================] - 0s 2ms/step - loss: 2.1187 - accuracy: 0.0022 - val_loss: 0.8569 - val_accuracy: 0.0018\n",
      "Epoch 2/25\n",
      "91/91 [==============================] - 0s 978us/step - loss: 0.7331 - accuracy: 0.0034 - val_loss: 0.6731 - val_accuracy: 0.0018\n",
      "Epoch 3/25\n",
      "91/91 [==============================] - 0s 945us/step - loss: 0.5716 - accuracy: 0.0034 - val_loss: 0.5452 - val_accuracy: 0.0018\n",
      "Epoch 4/25\n",
      "91/91 [==============================] - 0s 967us/step - loss: 0.4795 - accuracy: 0.0033 - val_loss: 0.4737 - val_accuracy: 0.0018\n",
      "Epoch 5/25\n",
      "91/91 [==============================] - 0s 978us/step - loss: 0.4306 - accuracy: 0.0033 - val_loss: 0.4327 - val_accuracy: 0.0018\n",
      "Epoch 6/25\n",
      "91/91 [==============================] - 0s 978us/step - loss: 0.4043 - accuracy: 0.0033 - val_loss: 0.4094 - val_accuracy: 0.0018\n",
      "Epoch 7/25\n",
      "91/91 [==============================] - 0s 989us/step - loss: 0.3915 - accuracy: 0.0032 - val_loss: 0.4041 - val_accuracy: 0.0018\n",
      "Epoch 8/25\n",
      "91/91 [==============================] - 0s 967us/step - loss: 0.3783 - accuracy: 0.0033 - val_loss: 0.3867 - val_accuracy: 0.0018\n",
      "Epoch 9/25\n",
      "91/91 [==============================] - 0s 1ms/step - loss: 0.3740 - accuracy: 0.0032 - val_loss: 0.3912 - val_accuracy: 0.0018\n",
      "Epoch 10/25\n",
      "91/91 [==============================] - 0s 978us/step - loss: 0.3666 - accuracy: 0.0033 - val_loss: 0.3800 - val_accuracy: 0.0018\n",
      "Epoch 11/25\n",
      "91/91 [==============================] - 0s 989us/step - loss: 0.3657 - accuracy: 0.0032 - val_loss: 0.3866 - val_accuracy: 0.0018\n",
      "Epoch 12/25\n",
      "91/91 [==============================] - 0s 956us/step - loss: 0.3546 - accuracy: 0.0032 - val_loss: 0.3617 - val_accuracy: 0.0018\n",
      "Epoch 13/25\n",
      "91/91 [==============================] - 0s 967us/step - loss: 0.3477 - accuracy: 0.0033 - val_loss: 0.3587 - val_accuracy: 0.0018\n",
      "Epoch 14/25\n",
      "91/91 [==============================] - 0s 967us/step - loss: 0.3386 - accuracy: 0.0033 - val_loss: 0.3630 - val_accuracy: 0.0018\n",
      "Epoch 15/25\n",
      "91/91 [==============================] - 0s 967us/step - loss: 0.3338 - accuracy: 0.0033 - val_loss: 0.3545 - val_accuracy: 0.0018\n",
      "Epoch 16/25\n",
      "91/91 [==============================] - 0s 978us/step - loss: 0.3278 - accuracy: 0.0033 - val_loss: 0.3489 - val_accuracy: 0.0018\n",
      "Epoch 17/25\n",
      "91/91 [==============================] - 0s 1ms/step - loss: 0.3266 - accuracy: 0.0033 - val_loss: 0.3426 - val_accuracy: 0.0018\n",
      "Epoch 18/25\n",
      "91/91 [==============================] - 0s 1ms/step - loss: 0.3239 - accuracy: 0.0034 - val_loss: 0.3465 - val_accuracy: 0.0018\n",
      "Epoch 19/25\n",
      "91/91 [==============================] - 0s 1ms/step - loss: 0.3267 - accuracy: 0.0033 - val_loss: 0.3683 - val_accuracy: 0.0018\n",
      "Epoch 20/25\n",
      "91/91 [==============================] - 0s 989us/step - loss: 0.3362 - accuracy: 0.0034 - val_loss: 0.3801 - val_accuracy: 0.0018\n",
      "Epoch 21/25\n",
      "91/91 [==============================] - 0s 956us/step - loss: 0.3410 - accuracy: 0.0033 - val_loss: 0.3626 - val_accuracy: 0.0018\n",
      "Epoch 22/25\n",
      "91/91 [==============================] - 0s 1ms/step - loss: 0.3290 - accuracy: 0.0034 - val_loss: 0.3382 - val_accuracy: 0.0018\n",
      "Epoch 23/25\n",
      "91/91 [==============================] - 0s 1ms/step - loss: 0.3162 - accuracy: 0.0033 - val_loss: 0.3338 - val_accuracy: 0.0018\n",
      "Epoch 24/25\n",
      "91/91 [==============================] - 0s 1ms/step - loss: 0.3209 - accuracy: 0.0033 - val_loss: 0.3273 - val_accuracy: 0.0018\n",
      "Epoch 25/25\n",
      "91/91 [==============================] - 0s 1ms/step - loss: 0.3108 - accuracy: 0.0034 - val_loss: 0.3355 - val_accuracy: 0.0018\n"
     ]
    }
   ],
   "source": [
    "awesome_history = awesome_housing_model.fit(X_train, y_train, batch_size=128, epochs=25, validation_data=(X_cv, y_cv))"
   ]
  },
  {
   "cell_type": "code",
   "execution_count": 168,
   "id": "3523ded1",
   "metadata": {
    "pycharm": {
     "name": "#%%\n"
    }
   },
   "outputs": [
    {
     "data": {
      "image/png": "[encoded data removed]",
      "text/plain": [
       "<Figure size 800x500 with 1 Axes>"
      ]
     },
     "metadata": {},
     "output_type": "display_data"
    }
   ],
   "source": [
    "plotHistory(awesome_history)"
   ]
  },
  {
   "cell_type": "code",
   "execution_count": 175,
   "id": "73e30702",
   "metadata": {
    "pycharm": {
     "name": "#%%\n"
    }
   },
   "outputs": [
    {
     "name": "stdout",
     "output_type": "stream",
     "text": [
      "1/1 [==============================] - 0s 14ms/step\n"
     ]
    },
    {
     "data": {
      "text/plain": [
       "array([[2.4703405]], dtype=float32)"
      ]
     },
     "execution_count": 175,
     "metadata": {},
     "output_type": "execute_result"
    }
   ],
   "source": [
    "awesome_housing_model.predict(X_cv[0:1])"
   ]
  },
  {
   "cell_type": "code",
   "execution_count": 177,
   "id": "65bfa264",
   "metadata": {
    "pycharm": {
     "name": "#%%\n"
    }
   },
   "outputs": [
    {
     "name": "stdout",
     "output_type": "stream",
     "text": [
      "3.045\n"
     ]
    }
   ],
   "source": [
    "print(y_cv[0])"
   ]
  },
  {
   "cell_type": "code",
   "execution_count": 229,
   "id": "961f0a11",
   "metadata": {
    "pycharm": {
     "name": "#%%\n"
    }
   },
   "outputs": [],
   "source": [
    "def predictRandom(num_preds, X, y, model): # predicts random entries of X\n",
    "    size = len(X)\n",
    "    ys = []\n",
    "    yhats = []\n",
    "    \n",
    "    for i in range(num_preds):\n",
    "        # pick a random (x, y) pairing\n",
    "        index = int(np.random.rand() * size)\n",
    "        x = X[index:index+1]\n",
    "        y_actual = y[index]\n",
    "        \n",
    "        yhat = float(model.predict(x))\n",
    "        \n",
    "        print(f\"yhat = {yhat}, y = {y_actual}\")\n",
    "        \n",
    "        ys.append(y_actual)\n",
    "        yhats.append(yhat)\n",
    "    \n",
    "    return (np.array(ys), np.array(yhats))"
   ]
  },
  {
   "cell_type": "code",
   "execution_count": 230,
   "id": "536d6341",
   "metadata": {
    "pycharm": {
     "name": "#%%\n"
    }
   },
   "outputs": [
    {
     "name": "stdout",
     "output_type": "stream",
     "text": [
      "1/1 [==============================] - 0s 13ms/step\n",
      "yhat = 0.7627212405204773, y = 0.806\n",
      "1/1 [==============================] - 0s 11ms/step\n",
      "yhat = 1.7503799200057983, y = 2.925\n",
      "1/1 [==============================] - 0s 12ms/step\n",
      "yhat = 2.5247583389282227, y = 3.294\n",
      "1/1 [==============================] - 0s 11ms/step\n",
      "yhat = 2.043790578842163, y = 1.565\n",
      "1/1 [==============================] - 0s 12ms/step\n",
      "yhat = 1.7966575622558594, y = 1.625\n",
      "1/1 [==============================] - 0s 12ms/step\n",
      "yhat = 1.9856568574905396, y = 2.207\n",
      "1/1 [==============================] - 0s 11ms/step\n",
      "yhat = 3.8068597316741943, y = 4.2\n",
      "1/1 [==============================] - 0s 12ms/step\n",
      "yhat = 1.5463531017303467, y = 0.929\n",
      "1/1 [==============================] - 0s 13ms/step\n",
      "yhat = 0.8756814002990723, y = 1.485\n",
      "1/1 [==============================] - 0s 13ms/step\n",
      "yhat = 3.486971139907837, y = 5.00001\n",
      "1/1 [==============================] - 0s 12ms/step\n",
      "yhat = 1.2102974653244019, y = 1.25\n",
      "1/1 [==============================] - 0s 12ms/step\n",
      "yhat = 3.7307045459747314, y = 3.964\n",
      "1/1 [==============================] - 0s 12ms/step\n",
      "yhat = 0.7206008434295654, y = 0.695\n",
      "1/1 [==============================] - 0s 11ms/step\n",
      "yhat = 2.839125871658325, y = 2.319\n",
      "1/1 [==============================] - 0s 11ms/step\n",
      "yhat = 2.7422091960906982, y = 2.801\n"
     ]
    }
   ],
   "source": [
    "preds = predictRandom(15, X_cv, y_cv, awesome_housing_model)"
   ]
  },
  {
   "cell_type": "code",
   "execution_count": 231,
   "id": "9bd13d7f",
   "metadata": {
    "pycharm": {
     "name": "#%%\n"
    }
   },
   "outputs": [
    {
     "name": "stdout",
     "output_type": "stream",
     "text": [
      "(array([0.806  , 2.925  , 3.294  , 1.565  , 1.625  , 2.207  , 4.2    ,\n",
      "       0.929  , 1.485  , 5.00001, 1.25   , 3.964  , 0.695  , 2.319  ,\n",
      "       2.801  ]), array([0.76272124, 1.75037992, 2.52475834, 2.04379058, 1.79665756,\n",
      "       1.98565686, 3.80685973, 1.5463531 , 0.8756814 , 3.48697114,\n",
      "       1.21029747, 3.73070455, 0.72060084, 2.83912587, 2.7422092 ]))\n"
     ]
    }
   ],
   "source": [
    "print(preds)"
   ]
  },
  {
   "cell_type": "code",
   "execution_count": 234,
   "id": "519ffba1",
   "metadata": {
    "pycharm": {
     "name": "#%%\n"
    }
   },
   "outputs": [],
   "source": [
    "def mse(preds):\n",
    "    y = preds[0]\n",
    "    yhat = preds[1]\n",
    "    \n",
    "    m = len(y)\n",
    "    \n",
    "    diff = yhat - y\n",
    "    return np.dot(diff, diff) / m"
   ]
  },
  {
   "cell_type": "code",
   "execution_count": 235,
   "id": "4ef7294d",
   "metadata": {
    "pycharm": {
     "name": "#%%\n"
    }
   },
   "outputs": [
    {
     "data": {
      "text/plain": [
       "0.3871948836980706"
      ]
     },
     "execution_count": 235,
     "metadata": {},
     "output_type": "execute_result"
    }
   ],
   "source": [
    "mse(preds)"
   ]
  },
  {
   "cell_type": "code",
   "execution_count": 240,
   "id": "ba30ff37",
   "metadata": {
    "pycharm": {
     "name": "#%%\n"
    }
   },
   "outputs": [],
   "source": [
    "def average_mse(pred_bucket_size, X, y, model, iterations):\n",
    "    total = 0\n",
    "    for i in range(iterations):\n",
    "        total += mse(predictRandom(pred_bucket_size, X, y, model))\n",
    "    \n",
    "    return total / iterations"
   ]
  },
  {
   "cell_type": "code",
   "execution_count": 244,
   "id": "e86c5fe1",
   "metadata": {
    "pycharm": {
     "name": "#%%\n"
    }
   },
   "outputs": [
    {
     "name": "stdout",
     "output_type": "stream",
     "text": [
      "1/1 [==============================] - 0s 13ms/step\n",
      "yhat = 1.6696460247039795, y = 1.142\n",
      "1/1 [==============================] - 0s 12ms/step\n",
      "yhat = 1.989783525466919, y = 1.25\n",
      "1/1 [==============================] - 0s 11ms/step\n",
      "yhat = 1.3839225769042969, y = 1.388\n",
      "1/1 [==============================] - 0s 12ms/step\n",
      "yhat = 1.642194390296936, y = 1.651\n",
      "1/1 [==============================] - 0s 12ms/step\n",
      "yhat = 0.946641206741333, y = 1.375\n",
      "1/1 [==============================] - 0s 11ms/step\n",
      "yhat = 1.09731924533844, y = 1.347\n",
      "1/1 [==============================] - 0s 12ms/step\n",
      "yhat = 1.5200949907302856, y = 1.538\n",
      "1/1 [==============================] - 0s 11ms/step\n",
      "yhat = 2.664811372756958, y = 2.616\n",
      "1/1 [==============================] - 0s 11ms/step\n",
      "yhat = 2.496159315109253, y = 3.147\n",
      "1/1 [==============================] - 0s 12ms/step\n",
      "yhat = 1.313875436782837, y = 0.998\n",
      "1/1 [==============================] - 0s 12ms/step\n",
      "yhat = 1.9619381427764893, y = 1.302\n",
      "1/1 [==============================] - 0s 13ms/step\n",
      "yhat = 2.607391119003296, y = 2.634\n",
      "1/1 [==============================] - 0s 12ms/step\n",
      "yhat = 1.350525975227356, y = 1.381\n",
      "1/1 [==============================] - 0s 12ms/step\n",
      "yhat = 1.9515163898468018, y = 1.689\n",
      "1/1 [==============================] - 0s 12ms/step\n",
      "yhat = 2.3600168228149414, y = 2.028\n",
      "1/1 [==============================] - 0s 11ms/step\n",
      "yhat = 2.5521368980407715, y = 2.258\n",
      "1/1 [==============================] - 0s 11ms/step\n",
      "yhat = 1.639991044998169, y = 1.5\n",
      "1/1 [==============================] - 0s 12ms/step\n",
      "yhat = 0.9210383892059326, y = 2.25\n",
      "1/1 [==============================] - 0s 11ms/step\n",
      "yhat = 1.557031512260437, y = 1.375\n",
      "1/1 [==============================] - 0s 11ms/step\n",
      "yhat = 0.3649158179759979, y = 0.707\n",
      "1/1 [==============================] - 0s 11ms/step\n",
      "yhat = 1.7913382053375244, y = 1.419\n",
      "1/1 [==============================] - 0s 11ms/step\n",
      "yhat = 2.499455690383911, y = 2.813\n",
      "1/1 [==============================] - 0s 12ms/step\n",
      "yhat = 1.332374095916748, y = 1.312\n",
      "1/1 [==============================] - 0s 10ms/step\n",
      "yhat = 0.9870866537094116, y = 0.743\n",
      "1/1 [==============================] - 0s 12ms/step\n",
      "yhat = 1.7275842428207397, y = 1.137\n",
      "1/1 [==============================] - 0s 11ms/step\n",
      "yhat = 0.8346969485282898, y = 0.803\n",
      "1/1 [==============================] - 0s 11ms/step\n",
      "yhat = 3.0630671977996826, y = 4.871\n",
      "1/1 [==============================] - 0s 11ms/step\n",
      "yhat = 3.0113072395324707, y = 5.00001\n",
      "1/1 [==============================] - 0s 12ms/step\n",
      "yhat = 2.496159315109253, y = 3.147\n",
      "1/1 [==============================] - 0s 11ms/step\n",
      "yhat = 3.7282848358154297, y = 3.684\n",
      "1/1 [==============================] - 0s 11ms/step\n",
      "yhat = 3.4517154693603516, y = 3.588\n",
      "1/1 [==============================] - 0s 12ms/step\n",
      "yhat = 2.439577579498291, y = 2.171\n",
      "1/1 [==============================] - 0s 11ms/step\n",
      "yhat = 2.9295754432678223, y = 2.548\n",
      "1/1 [==============================] - 0s 12ms/step\n",
      "yhat = 1.3201324939727783, y = 1.339\n",
      "1/1 [==============================] - 0s 11ms/step\n",
      "yhat = 2.6918323040008545, y = 2.695\n",
      "1/1 [==============================] - 0s 12ms/step\n",
      "yhat = 1.0519922971725464, y = 0.942\n",
      "1/1 [==============================] - 0s 12ms/step\n",
      "yhat = 2.1991496086120605, y = 2.893\n",
      "1/1 [==============================] - 0s 13ms/step\n",
      "yhat = 3.348017454147339, y = 4.019\n",
      "1/1 [==============================] - 0s 13ms/step\n",
      "yhat = 1.4208852052688599, y = 1.904\n",
      "1/1 [==============================] - 0s 12ms/step\n",
      "yhat = 1.057824969291687, y = 1.193\n",
      "1/1 [==============================] - 0s 13ms/step\n",
      "yhat = 2.265322208404541, y = 2.408\n",
      "1/1 [==============================] - 0s 13ms/step\n",
      "yhat = 1.483925223350525, y = 2.003\n",
      "1/1 [==============================] - 0s 12ms/step\n",
      "yhat = 1.4988749027252197, y = 1.741\n",
      "1/1 [==============================] - 0s 12ms/step\n",
      "yhat = 2.319279193878174, y = 1.556\n",
      "1/1 [==============================] - 0s 11ms/step\n",
      "yhat = 1.5965765714645386, y = 0.936\n",
      "1/1 [==============================] - 0s 12ms/step\n",
      "yhat = 1.7818214893341064, y = 1.713\n",
      "1/1 [==============================] - 0s 12ms/step\n",
      "yhat = 0.7452394366264343, y = 0.704\n",
      "1/1 [==============================] - 0s 12ms/step\n",
      "yhat = 1.572199821472168, y = 1.371\n",
      "1/1 [==============================] - 0s 11ms/step\n",
      "yhat = 1.138044834136963, y = 1.261\n",
      "1/1 [==============================] - 0s 13ms/step\n",
      "yhat = 1.9166264533996582, y = 2.269\n",
      "1/1 [==============================] - 0s 12ms/step\n",
      "yhat = 2.9459986686706543, y = 4.374\n",
      "1/1 [==============================] - 0s 16ms/step\n",
      "yhat = 3.3281805515289307, y = 3.597\n",
      "1/1 [==============================] - 0s 13ms/step\n",
      "yhat = 2.3546345233917236, y = 1.784\n",
      "1/1 [==============================] - 0s 13ms/step\n",
      "yhat = 2.0041825771331787, y = 1.259\n",
      "1/1 [==============================] - 0s 12ms/step\n",
      "yhat = 2.1581199169158936, y = 2.132\n",
      "1/1 [==============================] - 0s 11ms/step\n",
      "yhat = 1.9665299654006958, y = 1.597\n",
      "1/1 [==============================] - 0s 14ms/step\n",
      "yhat = 1.1394864320755005, y = 0.87\n",
      "1/1 [==============================] - 0s 11ms/step\n",
      "yhat = 1.9162073135375977, y = 4.25\n",
      "1/1 [==============================] - 0s 12ms/step\n",
      "yhat = 1.5444663763046265, y = 1.479\n",
      "1/1 [==============================] - 0s 12ms/step\n",
      "yhat = 2.746321439743042, y = 2.429\n",
      "1/1 [==============================] - 0s 11ms/step\n",
      "yhat = 4.784686088562012, y = 5.00001\n",
      "1/1 [==============================] - 0s 12ms/step\n",
      "yhat = 1.2621655464172363, y = 2.096\n",
      "1/1 [==============================] - 0s 11ms/step\n",
      "yhat = 1.8480383157730103, y = 1.509\n",
      "1/1 [==============================] - 0s 11ms/step\n",
      "yhat = 0.7094097137451172, y = 0.673\n",
      "1/1 [==============================] - 0s 12ms/step\n",
      "yhat = 1.7999904155731201, y = 2.199\n",
      "1/1 [==============================] - 0s 13ms/step\n",
      "yhat = 2.246352195739746, y = 2.833\n",
      "1/1 [==============================] - 0s 12ms/step\n",
      "yhat = 1.5114659070968628, y = 1.188\n",
      "1/1 [==============================] - 0s 12ms/step\n",
      "yhat = 3.077680826187134, y = 2.5\n",
      "1/1 [==============================] - 0s 12ms/step\n",
      "yhat = 2.6021454334259033, y = 2.728\n",
      "1/1 [==============================] - 0s 13ms/step\n",
      "yhat = 3.1392159461975098, y = 3.004\n",
      "1/1 [==============================] - 0s 11ms/step\n",
      "yhat = 1.8877915143966675, y = 1.567\n",
      "1/1 [==============================] - 0s 12ms/step\n",
      "yhat = 1.8187592029571533, y = 1.703\n",
      "1/1 [==============================] - 0s 12ms/step\n",
      "yhat = 1.8414887189865112, y = 1.508\n",
      "1/1 [==============================] - 0s 12ms/step\n",
      "yhat = 0.7806376218795776, y = 1.059\n",
      "1/1 [==============================] - 0s 12ms/step\n",
      "yhat = 1.268521785736084, y = 1.06\n",
      "1/1 [==============================] - 0s 12ms/step\n",
      "yhat = 1.9822795391082764, y = 2.693\n",
      "1/1 [==============================] - 0s 12ms/step\n",
      "yhat = 3.2583141326904297, y = 3.625\n",
      "1/1 [==============================] - 0s 12ms/step\n",
      "yhat = 1.5954926013946533, y = 1.706\n",
      "1/1 [==============================] - 0s 12ms/step\n",
      "yhat = 3.6210973262786865, y = 3.521\n",
      "1/1 [==============================] - 0s 12ms/step\n",
      "yhat = 2.020033359527588, y = 1.125\n",
      "1/1 [==============================] - 0s 14ms/step\n",
      "yhat = 2.070753812789917, y = 2.46\n",
      "1/1 [==============================] - 0s 12ms/step\n",
      "yhat = 3.875089406967163, y = 5.00001\n",
      "1/1 [==============================] - 0s 12ms/step\n",
      "yhat = 1.3344175815582275, y = 0.964\n",
      "1/1 [==============================] - 0s 12ms/step\n",
      "yhat = 1.978920817375183, y = 1.963\n",
      "1/1 [==============================] - 0s 13ms/step\n",
      "yhat = 1.7206387519836426, y = 1.97\n",
      "1/1 [==============================] - 0s 12ms/step\n",
      "yhat = 1.5568170547485352, y = 1.597\n",
      "1/1 [==============================] - 0s 12ms/step\n",
      "yhat = 2.2091827392578125, y = 3.155\n",
      "1/1 [==============================] - 0s 11ms/step\n",
      "yhat = 1.140846848487854, y = 1.565\n",
      "1/1 [==============================] - 0s 11ms/step\n",
      "yhat = 3.0860118865966797, y = 4.528\n",
      "1/1 [==============================] - 0s 12ms/step\n",
      "yhat = 1.0911506414413452, y = 1.833\n",
      "1/1 [==============================] - 0s 11ms/step\n",
      "yhat = 0.8042564988136292, y = 1.04\n",
      "1/1 [==============================] - 0s 12ms/step\n",
      "yhat = 1.3090564012527466, y = 0.855\n"
     ]
    },
    {
     "name": "stdout",
     "output_type": "stream",
     "text": [
      "1/1 [==============================] - 0s 11ms/step\n",
      "yhat = 2.3739423751831055, y = 2.616\n",
      "1/1 [==============================] - 0s 12ms/step\n",
      "yhat = 2.3739423751831055, y = 2.616\n",
      "1/1 [==============================] - 0s 12ms/step\n",
      "yhat = 3.4563753604888916, y = 3.769\n",
      "1/1 [==============================] - 0s 12ms/step\n",
      "yhat = 1.6661906242370605, y = 1.465\n",
      "1/1 [==============================] - 0s 12ms/step\n",
      "yhat = 0.8481372594833374, y = 0.946\n",
      "1/1 [==============================] - 0s 11ms/step\n",
      "yhat = 1.1036182641983032, y = 0.904\n",
      "1/1 [==============================] - 0s 11ms/step\n",
      "yhat = 1.2333242893218994, y = 0.985\n",
      "1/1 [==============================] - 0s 12ms/step\n",
      "yhat = 3.501873254776001, y = 3.427\n",
      "1/1 [==============================] - 0s 13ms/step\n",
      "yhat = 1.8593839406967163, y = 1.561\n",
      "1/1 [==============================] - 0s 12ms/step\n",
      "yhat = 1.410166621208191, y = 1.428\n",
      "1/1 [==============================] - 0s 12ms/step\n",
      "yhat = 1.4254496097564697, y = 0.928\n",
      "1/1 [==============================] - 0s 11ms/step\n",
      "yhat = 2.2612955570220947, y = 1.851\n",
      "1/1 [==============================] - 0s 12ms/step\n",
      "yhat = 1.597063422203064, y = 1.002\n",
      "1/1 [==============================] - 0s 12ms/step\n",
      "yhat = 1.7053465843200684, y = 1.196\n",
      "1/1 [==============================] - 0s 11ms/step\n",
      "yhat = 1.5135118961334229, y = 1.297\n",
      "1/1 [==============================] - 0s 11ms/step\n",
      "yhat = 2.1408019065856934, y = 1.272\n",
      "1/1 [==============================] - 0s 11ms/step\n",
      "yhat = 2.491079568862915, y = 2.714\n",
      "1/1 [==============================] - 0s 12ms/step\n",
      "yhat = 3.029705286026001, y = 2.875\n",
      "1/1 [==============================] - 0s 11ms/step\n",
      "yhat = 1.360931158065796, y = 1.142\n",
      "1/1 [==============================] - 0s 11ms/step\n",
      "yhat = 2.614013910293579, y = 2.379\n",
      "1/1 [==============================] - 0s 12ms/step\n",
      "yhat = 1.5470620393753052, y = 1.625\n",
      "1/1 [==============================] - 0s 11ms/step\n",
      "yhat = 0.8016228675842285, y = 0.758\n",
      "1/1 [==============================] - 0s 11ms/step\n",
      "yhat = 0.9860308766365051, y = 0.498\n",
      "1/1 [==============================] - 0s 11ms/step\n",
      "yhat = 0.9355929493904114, y = 0.683\n",
      "1/1 [==============================] - 0s 13ms/step\n",
      "yhat = 3.4678337574005127, y = 3.482\n",
      "1/1 [==============================] - 0s 12ms/step\n",
      "yhat = 1.209672212600708, y = 1.105\n",
      "1/1 [==============================] - 0s 12ms/step\n",
      "yhat = 2.2103216648101807, y = 1.75\n",
      "1/1 [==============================] - 0s 11ms/step\n",
      "yhat = 0.9132543802261353, y = 0.845\n",
      "1/1 [==============================] - 0s 11ms/step\n",
      "yhat = 1.4680793285369873, y = 1.452\n",
      "1/1 [==============================] - 0s 12ms/step\n",
      "yhat = 1.8608431816101074, y = 2.313\n",
      "1/1 [==============================] - 0s 11ms/step\n",
      "yhat = 3.1677398681640625, y = 2.351\n",
      "1/1 [==============================] - 0s 12ms/step\n",
      "yhat = 2.9104764461517334, y = 2.563\n",
      "1/1 [==============================] - 0s 11ms/step\n",
      "yhat = 4.455687522888184, y = 5.00001\n",
      "1/1 [==============================] - 0s 12ms/step\n",
      "yhat = 1.5698645114898682, y = 1.566\n",
      "1/1 [==============================] - 0s 11ms/step\n",
      "yhat = 1.8339459896087646, y = 1.369\n",
      "1/1 [==============================] - 0s 12ms/step\n",
      "yhat = 1.8269221782684326, y = 1.875\n",
      "1/1 [==============================] - 0s 12ms/step\n",
      "yhat = 2.6250040531158447, y = 2.526\n",
      "1/1 [==============================] - 0s 11ms/step\n",
      "yhat = 1.9486618041992188, y = 2.087\n",
      "1/1 [==============================] - 0s 11ms/step\n",
      "yhat = 1.1925861835479736, y = 1.431\n",
      "1/1 [==============================] - 0s 11ms/step\n",
      "yhat = 1.740204930305481, y = 1.056\n",
      "1/1 [==============================] - 0s 12ms/step\n",
      "yhat = 2.6115853786468506, y = 1.582\n",
      "1/1 [==============================] - 0s 11ms/step\n",
      "yhat = 1.427051305770874, y = 1.728\n",
      "1/1 [==============================] - 0s 12ms/step\n",
      "yhat = 1.6826568841934204, y = 1.274\n",
      "1/1 [==============================] - 0s 12ms/step\n",
      "yhat = 2.0947468280792236, y = 1.503\n",
      "1/1 [==============================] - 0s 11ms/step\n",
      "yhat = 2.6550207138061523, y = 3.184\n",
      "1/1 [==============================] - 0s 12ms/step\n",
      "yhat = 2.6008126735687256, y = 1.618\n",
      "1/1 [==============================] - 0s 11ms/step\n",
      "yhat = 2.0480458736419678, y = 1.574\n",
      "1/1 [==============================] - 0s 12ms/step\n",
      "yhat = 3.701617956161499, y = 3.711\n",
      "1/1 [==============================] - 0s 12ms/step\n",
      "yhat = 1.8881019353866577, y = 1.792\n",
      "1/1 [==============================] - 0s 11ms/step\n",
      "yhat = 1.177107334136963, y = 0.817\n",
      "1/1 [==============================] - 0s 13ms/step\n",
      "yhat = 1.8809669017791748, y = 1.161\n",
      "1/1 [==============================] - 0s 13ms/step\n",
      "yhat = 0.44766926765441895, y = 0.598\n",
      "1/1 [==============================] - 0s 11ms/step\n",
      "yhat = 1.2323695421218872, y = 0.786\n",
      "1/1 [==============================] - 0s 11ms/step\n",
      "yhat = 1.4907175302505493, y = 1.704\n",
      "1/1 [==============================] - 0s 11ms/step\n",
      "yhat = 4.57328987121582, y = 5.00001\n",
      "1/1 [==============================] - 0s 12ms/step\n",
      "yhat = 1.3448362350463867, y = 1.414\n",
      "1/1 [==============================] - 0s 12ms/step\n",
      "yhat = 1.017262578010559, y = 1.112\n",
      "1/1 [==============================] - 0s 11ms/step\n",
      "yhat = 2.217364549636841, y = 2.241\n",
      "1/1 [==============================] - 0s 11ms/step\n",
      "yhat = 2.711681842803955, y = 2.412\n",
      "1/1 [==============================] - 0s 12ms/step\n",
      "yhat = 2.176316976547241, y = 1.906\n",
      "1/1 [==============================] - 0s 12ms/step\n",
      "yhat = 1.332374095916748, y = 1.312\n",
      "1/1 [==============================] - 0s 11ms/step\n",
      "yhat = 1.5550426244735718, y = 1.601\n",
      "1/1 [==============================] - 0s 12ms/step\n",
      "yhat = 1.7475372552871704, y = 2.019\n",
      "1/1 [==============================] - 0s 14ms/step\n",
      "yhat = 2.773341417312622, y = 3.474\n",
      "1/1 [==============================] - 0s 13ms/step\n",
      "yhat = 2.9628026485443115, y = 2.27\n",
      "1/1 [==============================] - 0s 12ms/step\n",
      "yhat = 1.8598567247390747, y = 1.234\n",
      "1/1 [==============================] - 0s 11ms/step\n",
      "yhat = -0.8555426597595215, y = 3.5\n",
      "1/1 [==============================] - 0s 13ms/step\n",
      "yhat = 1.965019941329956, y = 2.039\n",
      "1/1 [==============================] - 0s 12ms/step\n",
      "yhat = 0.914800763130188, y = 0.844\n",
      "1/1 [==============================] - 0s 12ms/step\n",
      "yhat = 1.2800350189208984, y = 1.01\n",
      "1/1 [==============================] - 0s 12ms/step\n",
      "yhat = 1.4639006853103638, y = 0.95\n",
      "1/1 [==============================] - 0s 11ms/step\n",
      "yhat = 1.6156939268112183, y = 1.774\n",
      "1/1 [==============================] - 0s 12ms/step\n",
      "yhat = 1.5961397886276245, y = 1.625\n",
      "1/1 [==============================] - 0s 11ms/step\n",
      "yhat = 2.524369955062866, y = 3.273\n",
      "1/1 [==============================] - 0s 12ms/step\n",
      "yhat = 1.8778021335601807, y = 2.636\n",
      "1/1 [==============================] - 0s 12ms/step\n",
      "yhat = 1.2756116390228271, y = 0.914\n",
      "1/1 [==============================] - 0s 12ms/step\n",
      "yhat = 3.188206434249878, y = 2.879\n",
      "1/1 [==============================] - 0s 12ms/step\n",
      "yhat = 3.2583141326904297, y = 3.625\n",
      "1/1 [==============================] - 0s 13ms/step\n",
      "yhat = 1.590320348739624, y = 1.731\n",
      "1/1 [==============================] - 0s 12ms/step\n",
      "yhat = 1.360931158065796, y = 1.142\n",
      "1/1 [==============================] - 0s 12ms/step\n",
      "yhat = 3.3525748252868652, y = 2.909\n",
      "1/1 [==============================] - 0s 11ms/step\n",
      "yhat = 3.066488027572632, y = 4.085\n",
      "1/1 [==============================] - 0s 12ms/step\n",
      "yhat = 1.8631126880645752, y = 1.516\n",
      "1/1 [==============================] - 0s 12ms/step\n",
      "yhat = 0.929950475692749, y = 0.576\n",
      "1/1 [==============================] - 0s 11ms/step\n",
      "yhat = 1.2098537683486938, y = 1.743\n",
      "1/1 [==============================] - 0s 11ms/step\n",
      "yhat = 2.819913148880005, y = 3.512\n",
      "1/1 [==============================] - 0s 12ms/step\n",
      "yhat = 1.3255302906036377, y = 1.053\n",
      "1/1 [==============================] - 0s 11ms/step\n",
      "yhat = 1.9251458644866943, y = 2.145\n",
      "1/1 [==============================] - 0s 11ms/step\n",
      "yhat = 1.072945475578308, y = 0.864\n",
      "1/1 [==============================] - 0s 12ms/step\n",
      "yhat = 3.2562754154205322, y = 2.663\n",
      "1/1 [==============================] - 0s 12ms/step\n",
      "yhat = 3.6123688220977783, y = 3.027\n",
      "1/1 [==============================] - 0s 13ms/step\n",
      "yhat = 0.9458664655685425, y = 0.896\n"
     ]
    },
    {
     "name": "stdout",
     "output_type": "stream",
     "text": [
      "1/1 [==============================] - 0s 12ms/step\n",
      "yhat = 1.4885506629943848, y = 1.896\n",
      "1/1 [==============================] - 0s 12ms/step\n",
      "yhat = 4.332130432128906, y = 3.997\n",
      "1/1 [==============================] - 0s 12ms/step\n",
      "yhat = 1.6297566890716553, y = 1.578\n",
      "1/1 [==============================] - 0s 12ms/step\n",
      "yhat = 1.4259079694747925, y = 1.028\n",
      "1/1 [==============================] - 0s 11ms/step\n",
      "yhat = 1.4875125885009766, y = 2.581\n",
      "1/1 [==============================] - 0s 12ms/step\n",
      "yhat = 1.6359533071517944, y = 1.43\n",
      "1/1 [==============================] - 0s 12ms/step\n",
      "yhat = 1.0691386461257935, y = 0.875\n",
      "1/1 [==============================] - 0s 12ms/step\n",
      "yhat = 3.032374382019043, y = 2.724\n",
      "1/1 [==============================] - 0s 12ms/step\n",
      "yhat = 3.782944679260254, y = 2.751\n",
      "1/1 [==============================] - 0s 12ms/step\n",
      "yhat = 1.8110418319702148, y = 1.625\n",
      "1/1 [==============================] - 0s 13ms/step\n",
      "yhat = 3.2081239223480225, y = 3.365\n",
      "1/1 [==============================] - 0s 12ms/step\n",
      "yhat = 1.7504509687423706, y = 1.264\n",
      "1/1 [==============================] - 0s 12ms/step\n",
      "yhat = 3.0762765407562256, y = 5.00001\n",
      "1/1 [==============================] - 0s 12ms/step\n",
      "yhat = 1.8358033895492554, y = 1.711\n",
      "1/1 [==============================] - 0s 12ms/step\n",
      "yhat = 1.095210075378418, y = 1.667\n",
      "1/1 [==============================] - 0s 12ms/step\n",
      "yhat = 3.0484819412231445, y = 2.013\n",
      "1/1 [==============================] - 0s 11ms/step\n",
      "yhat = 1.2015271186828613, y = 1.457\n",
      "1/1 [==============================] - 0s 11ms/step\n",
      "yhat = 1.7373768091201782, y = 1.905\n",
      "1/1 [==============================] - 0s 11ms/step\n",
      "yhat = 1.9477694034576416, y = 2.174\n",
      "1/1 [==============================] - 0s 12ms/step\n",
      "yhat = 1.0948419570922852, y = 0.818\n",
      "1/1 [==============================] - 0s 12ms/step\n",
      "yhat = 1.7521589994430542, y = 1.848\n",
      "1/1 [==============================] - 0s 12ms/step\n",
      "yhat = 1.4929540157318115, y = 1.0\n",
      "1/1 [==============================] - 0s 11ms/step\n",
      "yhat = 3.297269582748413, y = 2.813\n",
      "1/1 [==============================] - 0s 12ms/step\n",
      "yhat = 0.84217369556427, y = 0.793\n",
      "1/1 [==============================] - 0s 12ms/step\n",
      "yhat = 3.799078941345215, y = 3.964\n",
      "1/1 [==============================] - 0s 12ms/step\n",
      "yhat = 2.417102336883545, y = 1.911\n",
      "1/1 [==============================] - 0s 11ms/step\n",
      "yhat = 1.847519040107727, y = 3.2\n",
      "1/1 [==============================] - 0s 12ms/step\n",
      "yhat = 1.4064911603927612, y = 1.802\n",
      "1/1 [==============================] - 0s 11ms/step\n",
      "yhat = 2.9262192249298096, y = 2.389\n",
      "1/1 [==============================] - 0s 13ms/step\n",
      "yhat = 3.0276615619659424, y = 2.183\n",
      "1/1 [==============================] - 0s 13ms/step\n",
      "yhat = 2.040971279144287, y = 1.642\n",
      "1/1 [==============================] - 0s 12ms/step\n",
      "yhat = 1.8537733554840088, y = 1.927\n",
      "1/1 [==============================] - 0s 12ms/step\n",
      "yhat = 0.9011178016662598, y = 1.042\n",
      "1/1 [==============================] - 0s 12ms/step\n",
      "yhat = 1.7966575622558594, y = 1.625\n",
      "1/1 [==============================] - 0s 13ms/step\n",
      "yhat = 1.9234704971313477, y = 1.647\n",
      "1/1 [==============================] - 0s 12ms/step\n",
      "yhat = 0.5974735617637634, y = 0.625\n",
      "1/1 [==============================] - 0s 11ms/step\n",
      "yhat = 4.860501289367676, y = 5.00001\n",
      "1/1 [==============================] - 0s 11ms/step\n",
      "yhat = 0.9423838257789612, y = 1.091\n",
      "1/1 [==============================] - 0s 11ms/step\n",
      "yhat = 1.59872305393219, y = 1.036\n",
      "1/1 [==============================] - 0s 12ms/step\n",
      "yhat = 1.894020676612854, y = 2.768\n",
      "1/1 [==============================] - 0s 11ms/step\n",
      "yhat = 1.3844536542892456, y = 1.517\n",
      "1/1 [==============================] - 0s 12ms/step\n",
      "yhat = 1.6811517477035522, y = 1.582\n",
      "1/1 [==============================] - 0s 13ms/step\n",
      "yhat = 3.646991729736328, y = 3.346\n",
      "1/1 [==============================] - 0s 12ms/step\n",
      "yhat = 1.1300582885742188, y = 1.024\n",
      "1/1 [==============================] - 0s 12ms/step\n",
      "yhat = 1.2204304933547974, y = 1.03\n",
      "1/1 [==============================] - 0s 11ms/step\n",
      "yhat = 1.1208668947219849, y = 1.013\n",
      "1/1 [==============================] - 0s 12ms/step\n",
      "yhat = 3.3678078651428223, y = 5.00001\n",
      "1/1 [==============================] - 0s 11ms/step\n",
      "yhat = 1.433907151222229, y = 1.456\n",
      "1/1 [==============================] - 0s 11ms/step\n",
      "yhat = 3.1038269996643066, y = 2.958\n",
      "1/1 [==============================] - 0s 12ms/step\n",
      "yhat = 1.3749651908874512, y = 1.488\n",
      "1/1 [==============================] - 0s 11ms/step\n",
      "yhat = 2.9988455772399902, y = 2.526\n",
      "1/1 [==============================] - 0s 11ms/step\n",
      "yhat = 1.5135118961334229, y = 1.297\n",
      "1/1 [==============================] - 0s 11ms/step\n",
      "yhat = 2.112234354019165, y = 1.923\n",
      "1/1 [==============================] - 0s 12ms/step\n",
      "yhat = 1.5866332054138184, y = 0.975\n",
      "1/1 [==============================] - 0s 12ms/step\n",
      "yhat = 1.7419312000274658, y = 1.333\n",
      "1/1 [==============================] - 0s 13ms/step\n",
      "yhat = 1.773581862449646, y = 1.574\n",
      "1/1 [==============================] - 0s 13ms/step\n",
      "yhat = 2.3556594848632812, y = 1.754\n",
      "1/1 [==============================] - 0s 13ms/step\n",
      "yhat = 0.9054095149040222, y = 0.68\n",
      "1/1 [==============================] - 0s 13ms/step\n",
      "yhat = 1.9724515676498413, y = 1.603\n",
      "1/1 [==============================] - 0s 13ms/step\n",
      "yhat = 0.9363924860954285, y = 1.151\n",
      "1/1 [==============================] - 0s 13ms/step\n",
      "yhat = 2.1049745082855225, y = 2.063\n",
      "1/1 [==============================] - 0s 13ms/step\n",
      "yhat = 2.0065207481384277, y = 3.226\n",
      "1/1 [==============================] - 0s 13ms/step\n",
      "yhat = 2.496159315109253, y = 3.147\n",
      "1/1 [==============================] - 0s 13ms/step\n",
      "yhat = 1.7091951370239258, y = 1.934\n",
      "1/1 [==============================] - 0s 13ms/step\n",
      "yhat = 1.5636364221572876, y = 1.917\n",
      "1/1 [==============================] - 0s 12ms/step\n",
      "yhat = 1.4947748184204102, y = 1.239\n",
      "1/1 [==============================] - 0s 12ms/step\n",
      "yhat = 2.773341417312622, y = 3.474\n",
      "1/1 [==============================] - 0s 12ms/step\n",
      "yhat = 1.09635329246521, y = 1.201\n",
      "1/1 [==============================] - 0s 11ms/step\n",
      "yhat = 1.6881691217422485, y = 1.276\n",
      "1/1 [==============================] - 0s 13ms/step\n",
      "yhat = 1.061294436454773, y = 0.701\n",
      "1/1 [==============================] - 0s 12ms/step\n",
      "yhat = 3.1392159461975098, y = 3.004\n",
      "1/1 [==============================] - 0s 12ms/step\n",
      "yhat = 1.5204646587371826, y = 1.125\n",
      "1/1 [==============================] - 0s 11ms/step\n",
      "yhat = 1.9055782556533813, y = 1.812\n",
      "1/1 [==============================] - 0s 12ms/step\n",
      "yhat = 0.8786932229995728, y = 0.825\n",
      "1/1 [==============================] - 0s 11ms/step\n",
      "yhat = 1.894909381866455, y = 5.0\n",
      "1/1 [==============================] - 0s 12ms/step\n",
      "yhat = 0.7885243892669678, y = 0.837\n",
      "1/1 [==============================] - 0s 12ms/step\n",
      "yhat = 1.8717050552368164, y = 2.006\n",
      "1/1 [==============================] - 0s 13ms/step\n",
      "yhat = 3.173309087753296, y = 3.667\n",
      "1/1 [==============================] - 0s 12ms/step\n",
      "yhat = 1.3189777135849, y = 0.886\n",
      "1/1 [==============================] - 0s 11ms/step\n",
      "yhat = 0.5545370578765869, y = 0.554\n",
      "1/1 [==============================] - 0s 13ms/step\n",
      "yhat = 1.7703739404678345, y = 1.915\n",
      "1/1 [==============================] - 0s 12ms/step\n",
      "yhat = 1.9765470027923584, y = 1.838\n",
      "1/1 [==============================] - 0s 12ms/step\n",
      "yhat = 3.701617956161499, y = 3.711\n",
      "1/1 [==============================] - 0s 12ms/step\n",
      "yhat = 3.476116180419922, y = 4.04\n",
      "1/1 [==============================] - 0s 12ms/step\n",
      "yhat = 1.7370461225509644, y = 1.806\n",
      "1/1 [==============================] - 0s 11ms/step\n",
      "yhat = 1.4071742296218872, y = 1.311\n",
      "1/1 [==============================] - 0s 11ms/step\n",
      "yhat = 1.0730924606323242, y = 1.099\n",
      "1/1 [==============================] - 0s 11ms/step\n",
      "yhat = 2.2179064750671387, y = 2.021\n",
      "1/1 [==============================] - 0s 12ms/step\n",
      "yhat = 3.1392159461975098, y = 3.004\n",
      "1/1 [==============================] - 0s 12ms/step\n",
      "yhat = 3.88700008392334, y = 4.743\n",
      "1/1 [==============================] - 0s 12ms/step\n",
      "yhat = 5.651346206665039, y = 5.00001\n",
      "1/1 [==============================] - 0s 13ms/step\n",
      "yhat = 5.233771324157715, y = 5.00001\n"
     ]
    },
    {
     "name": "stdout",
     "output_type": "stream",
     "text": [
      "1/1 [==============================] - 0s 12ms/step\n",
      "yhat = 0.5755707621574402, y = 0.606\n",
      "1/1 [==============================] - 0s 12ms/step\n",
      "yhat = 1.6660943031311035, y = 1.748\n",
      "1/1 [==============================] - 0s 12ms/step\n",
      "yhat = 1.653268814086914, y = 2.38\n",
      "1/1 [==============================] - 0s 15ms/step\n",
      "yhat = 2.6969573497772217, y = 2.594\n",
      "1/1 [==============================] - 0s 12ms/step\n",
      "yhat = 1.138044834136963, y = 1.261\n",
      "1/1 [==============================] - 0s 11ms/step\n",
      "yhat = 1.5444663763046265, y = 1.479\n",
      "1/1 [==============================] - 0s 11ms/step\n",
      "yhat = 1.400061845779419, y = 1.375\n",
      "1/1 [==============================] - 0s 12ms/step\n",
      "yhat = 3.5638277530670166, y = 2.985\n",
      "1/1 [==============================] - 0s 11ms/step\n",
      "yhat = 3.2843055725097656, y = 2.945\n",
      "1/1 [==============================] - 0s 12ms/step\n",
      "yhat = 1.5938224792480469, y = 2.492\n",
      "1/1 [==============================] - 0s 11ms/step\n",
      "yhat = 2.060791254043579, y = 1.833\n",
      "1/1 [==============================] - 0s 12ms/step\n",
      "yhat = 2.457465648651123, y = 2.833\n",
      "1/1 [==============================] - 0s 12ms/step\n",
      "yhat = 2.7792956829071045, y = 2.694\n",
      "1/1 [==============================] - 0s 12ms/step\n",
      "yhat = 1.8110418319702148, y = 1.625\n",
      "1/1 [==============================] - 0s 11ms/step\n",
      "yhat = 0.4230184555053711, y = 0.691\n",
      "1/1 [==============================] - 0s 12ms/step\n",
      "yhat = 1.427051305770874, y = 1.728\n",
      "1/1 [==============================] - 0s 12ms/step\n",
      "yhat = 1.1910877227783203, y = 1.226\n",
      "1/1 [==============================] - 0s 13ms/step\n",
      "yhat = 1.064185380935669, y = 1.259\n",
      "1/1 [==============================] - 0s 12ms/step\n",
      "yhat = 2.4281747341156006, y = 1.848\n",
      "1/1 [==============================] - 0s 11ms/step\n",
      "yhat = 1.9665299654006958, y = 1.597\n",
      "1/1 [==============================] - 0s 12ms/step\n",
      "yhat = 3.435486316680908, y = 2.991\n",
      "1/1 [==============================] - 0s 12ms/step\n",
      "yhat = 2.442002058029175, y = 4.345\n",
      "1/1 [==============================] - 0s 11ms/step\n",
      "yhat = 1.5776323080062866, y = 1.655\n",
      "1/1 [==============================] - 0s 12ms/step\n",
      "yhat = 1.5078125, y = 1.265\n",
      "1/1 [==============================] - 0s 13ms/step\n",
      "yhat = 1.4099631309509277, y = 1.125\n",
      "1/1 [==============================] - 0s 12ms/step\n",
      "yhat = 1.858080506324768, y = 1.403\n",
      "1/1 [==============================] - 0s 12ms/step\n",
      "yhat = 1.9365509748458862, y = 2.185\n",
      "1/1 [==============================] - 0s 11ms/step\n",
      "yhat = 1.4222701787948608, y = 1.593\n",
      "1/1 [==============================] - 0s 12ms/step\n",
      "yhat = 1.4537028074264526, y = 0.714\n",
      "1/1 [==============================] - 0s 12ms/step\n",
      "yhat = 1.8391973972320557, y = 1.625\n",
      "1/1 [==============================] - 0s 11ms/step\n",
      "yhat = 1.161880373954773, y = 0.695\n",
      "1/1 [==============================] - 0s 11ms/step\n",
      "yhat = 3.646991729736328, y = 3.346\n",
      "1/1 [==============================] - 0s 12ms/step\n",
      "yhat = 1.9160454273223877, y = 1.661\n",
      "1/1 [==============================] - 0s 12ms/step\n",
      "yhat = 3.620227098464966, y = 3.772\n",
      "1/1 [==============================] - 0s 12ms/step\n",
      "yhat = 3.044015645980835, y = 2.892\n",
      "1/1 [==============================] - 0s 13ms/step\n",
      "yhat = 2.3350789546966553, y = 1.929\n",
      "1/1 [==============================] - 0s 13ms/step\n",
      "yhat = 2.0703418254852295, y = 1.743\n",
      "1/1 [==============================] - 0s 12ms/step\n",
      "yhat = 3.0935261249542236, y = 3.413\n",
      "1/1 [==============================] - 0s 12ms/step\n",
      "yhat = 1.06589937210083, y = 1.179\n",
      "1/1 [==============================] - 0s 12ms/step\n",
      "yhat = 4.0001115798950195, y = 4.239\n",
      "1/1 [==============================] - 0s 14ms/step\n",
      "yhat = 0.7974671125411987, y = 1.546\n",
      "1/1 [==============================] - 0s 12ms/step\n",
      "yhat = 1.689526081085205, y = 1.713\n",
      "1/1 [==============================] - 0s 13ms/step\n",
      "yhat = 1.642076015472412, y = 1.487\n",
      "1/1 [==============================] - 0s 11ms/step\n",
      "yhat = 2.212871551513672, y = 1.696\n",
      "1/1 [==============================] - 0s 12ms/step\n",
      "yhat = 1.4596868753433228, y = 0.773\n",
      "1/1 [==============================] - 0s 11ms/step\n",
      "yhat = 1.6778056621551514, y = 1.993\n",
      "1/1 [==============================] - 0s 12ms/step\n",
      "yhat = 1.1313161849975586, y = 0.721\n",
      "1/1 [==============================] - 0s 11ms/step\n",
      "yhat = 1.8419427871704102, y = 3.25\n",
      "1/1 [==============================] - 0s 13ms/step\n",
      "yhat = 0.7974554300308228, y = 0.927\n",
      "1/1 [==============================] - 0s 11ms/step\n",
      "yhat = 0.8232845664024353, y = 0.73\n",
      "1/1 [==============================] - 0s 13ms/step\n",
      "yhat = 3.6884827613830566, y = 2.023\n",
      "1/1 [==============================] - 0s 12ms/step\n",
      "yhat = 2.179884672164917, y = 2.508\n",
      "1/1 [==============================] - 0s 12ms/step\n",
      "yhat = 2.597252130508423, y = 3.139\n",
      "1/1 [==============================] - 0s 11ms/step\n",
      "yhat = 0.6553360819816589, y = 0.517\n",
      "1/1 [==============================] - 0s 12ms/step\n",
      "yhat = 1.3979146480560303, y = 1.089\n",
      "1/1 [==============================] - 0s 12ms/step\n",
      "yhat = 2.046147584915161, y = 1.845\n",
      "1/1 [==============================] - 0s 11ms/step\n",
      "yhat = 4.4150285720825195, y = 5.00001\n",
      "1/1 [==============================] - 0s 11ms/step\n",
      "yhat = 3.154817819595337, y = 2.796\n",
      "1/1 [==============================] - 0s 12ms/step\n",
      "yhat = 1.6918919086456299, y = 1.2\n",
      "1/1 [==============================] - 0s 12ms/step\n",
      "yhat = 2.9031424522399902, y = 2.893\n",
      "1/1 [==============================] - 0s 12ms/step\n",
      "yhat = 0.79753178358078, y = 0.713\n",
      "1/1 [==============================] - 0s 13ms/step\n",
      "yhat = 1.956337332725525, y = 1.717\n",
      "1/1 [==============================] - 0s 11ms/step\n",
      "yhat = 1.7091951370239258, y = 1.934\n",
      "1/1 [==============================] - 0s 12ms/step\n",
      "yhat = 1.978987216949463, y = 2.122\n",
      "1/1 [==============================] - 0s 12ms/step\n",
      "yhat = 2.11371111869812, y = 1.866\n",
      "1/1 [==============================] - 0s 12ms/step\n",
      "yhat = 1.6898773908615112, y = 1.26\n",
      "1/1 [==============================] - 0s 11ms/step\n",
      "yhat = 1.7492594718933105, y = 1.147\n",
      "1/1 [==============================] - 0s 11ms/step\n",
      "yhat = 1.9483829736709595, y = 2.636\n",
      "1/1 [==============================] - 0s 12ms/step\n",
      "yhat = 1.7952125072479248, y = 1.554\n",
      "1/1 [==============================] - 0s 12ms/step\n",
      "yhat = 1.2205922603607178, y = 1.375\n",
      "1/1 [==============================] - 0s 11ms/step\n",
      "yhat = 2.1968657970428467, y = 2.571\n",
      "1/1 [==============================] - 0s 12ms/step\n",
      "yhat = 2.2601118087768555, y = 2.058\n",
      "1/1 [==============================] - 0s 12ms/step\n",
      "yhat = 1.8741841316223145, y = 1.839\n",
      "1/1 [==============================] - 0s 12ms/step\n",
      "yhat = 2.870156764984131, y = 2.188\n",
      "1/1 [==============================] - 0s 12ms/step\n",
      "yhat = 1.523098349571228, y = 1.792\n",
      "1/1 [==============================] - 0s 11ms/step\n",
      "yhat = 1.6430566310882568, y = 1.457\n",
      "1/1 [==============================] - 0s 12ms/step\n",
      "yhat = 0.46710899472236633, y = 0.555\n",
      "1/1 [==============================] - 0s 12ms/step\n",
      "yhat = 1.7424412965774536, y = 1.468\n",
      "1/1 [==============================] - 0s 12ms/step\n",
      "yhat = 2.2149405479431152, y = 1.831\n",
      "1/1 [==============================] - 0s 12ms/step\n",
      "yhat = 4.4835076332092285, y = 5.00001\n",
      "1/1 [==============================] - 0s 12ms/step\n",
      "yhat = 3.320131778717041, y = 3.359\n",
      "1/1 [==============================] - 0s 12ms/step\n",
      "yhat = 3.1782381534576416, y = 3.277\n",
      "1/1 [==============================] - 0s 12ms/step\n",
      "yhat = 2.433976888656616, y = 1.499\n",
      "1/1 [==============================] - 0s 12ms/step\n",
      "yhat = 1.4772289991378784, y = 1.585\n",
      "1/1 [==============================] - 0s 12ms/step\n",
      "yhat = 1.9972671270370483, y = 2.184\n",
      "1/1 [==============================] - 0s 12ms/step\n",
      "yhat = 2.0828051567077637, y = 2.047\n",
      "1/1 [==============================] - 0s 12ms/step\n",
      "yhat = 2.3723554611206055, y = 1.917\n",
      "1/1 [==============================] - 0s 12ms/step\n",
      "yhat = 0.9388813376426697, y = 0.864\n",
      "1/1 [==============================] - 0s 12ms/step\n",
      "yhat = 1.4336224794387817, y = 1.539\n",
      "1/1 [==============================] - 0s 13ms/step\n",
      "yhat = 1.6159611940383911, y = 1.318\n",
      "1/1 [==============================] - 0s 12ms/step\n",
      "yhat = 1.6528425216674805, y = 1.285\n",
      "1/1 [==============================] - 0s 11ms/step\n",
      "yhat = 3.229804754257202, y = 2.545\n",
      "1/1 [==============================] - 0s 11ms/step\n"
     ]
    },
    {
     "name": "stdout",
     "output_type": "stream",
     "text": [
      "yhat = 1.2836114168167114, y = 0.825\n",
      "1/1 [==============================] - 0s 11ms/step\n",
      "yhat = 2.787973403930664, y = 2.464\n",
      "1/1 [==============================] - 0s 11ms/step\n",
      "yhat = 1.3673866987228394, y = 1.104\n",
      "1/1 [==============================] - 0s 11ms/step\n",
      "yhat = 1.5449845790863037, y = 0.379\n",
      "1/1 [==============================] - 0s 12ms/step\n",
      "yhat = 1.2084999084472656, y = 1.444\n",
      "1/1 [==============================] - 0s 11ms/step\n",
      "yhat = 1.6200019121170044, y = 1.104\n",
      "1/1 [==============================] - 0s 12ms/step\n",
      "yhat = 1.1320972442626953, y = 0.968\n",
      "1/1 [==============================] - 0s 12ms/step\n",
      "yhat = 2.6388092041015625, y = 3.455\n",
      "1/1 [==============================] - 0s 12ms/step\n",
      "yhat = 1.1662157773971558, y = 1.525\n",
      "1/1 [==============================] - 0s 11ms/step\n",
      "yhat = 3.1609396934509277, y = 4.108\n",
      "1/1 [==============================] - 0s 11ms/step\n",
      "yhat = 1.2245585918426514, y = 1.207\n",
      "1/1 [==============================] - 0s 11ms/step\n",
      "yhat = 1.862082600593567, y = 1.206\n",
      "1/1 [==============================] - 0s 12ms/step\n",
      "yhat = 2.2865428924560547, y = 2.782\n",
      "1/1 [==============================] - 0s 14ms/step\n",
      "yhat = 1.59978449344635, y = 1.788\n",
      "1/1 [==============================] - 0s 11ms/step\n",
      "yhat = 1.1748908758163452, y = 0.981\n",
      "1/1 [==============================] - 0s 11ms/step\n",
      "yhat = 1.3277320861816406, y = 1.423\n",
      "1/1 [==============================] - 0s 11ms/step\n",
      "yhat = 1.968054175376892, y = 1.4\n",
      "1/1 [==============================] - 0s 11ms/step\n",
      "yhat = 0.9758576154708862, y = 1.661\n",
      "1/1 [==============================] - 0s 12ms/step\n",
      "yhat = 1.9790152311325073, y = 0.675\n",
      "1/1 [==============================] - 0s 12ms/step\n",
      "yhat = 2.274226188659668, y = 2.594\n",
      "1/1 [==============================] - 0s 12ms/step\n",
      "yhat = 2.111943006515503, y = 1.0\n",
      "1/1 [==============================] - 0s 12ms/step\n",
      "yhat = 3.88700008392334, y = 4.743\n",
      "1/1 [==============================] - 0s 11ms/step\n",
      "yhat = 1.457427740097046, y = 1.339\n",
      "1/1 [==============================] - 0s 11ms/step\n",
      "yhat = 1.7362279891967773, y = 2.103\n",
      "1/1 [==============================] - 0s 11ms/step\n",
      "yhat = 1.2000410556793213, y = 1.188\n",
      "1/1 [==============================] - 0s 12ms/step\n",
      "yhat = 3.656963348388672, y = 4.0\n",
      "1/1 [==============================] - 0s 12ms/step\n",
      "yhat = 1.3451036214828491, y = 1.473\n",
      "1/1 [==============================] - 0s 13ms/step\n",
      "yhat = 2.703416585922241, y = 2.782\n",
      "1/1 [==============================] - 0s 12ms/step\n",
      "yhat = 4.418275833129883, y = 5.00001\n",
      "1/1 [==============================] - 0s 12ms/step\n",
      "yhat = 1.2331109046936035, y = 1.247\n",
      "1/1 [==============================] - 0s 13ms/step\n",
      "yhat = 4.714235305786133, y = 5.00001\n",
      "1/1 [==============================] - 0s 12ms/step\n",
      "yhat = 1.5961397886276245, y = 1.625\n",
      "1/1 [==============================] - 0s 12ms/step\n",
      "yhat = 0.7519367933273315, y = 0.831\n",
      "1/1 [==============================] - 0s 13ms/step\n",
      "yhat = 3.6133716106414795, y = 3.839\n",
      "1/1 [==============================] - 0s 11ms/step\n",
      "yhat = 3.1040642261505127, y = 2.469\n",
      "1/1 [==============================] - 0s 13ms/step\n",
      "yhat = 3.3586435317993164, y = 3.461\n",
      "1/1 [==============================] - 0s 12ms/step\n",
      "yhat = 1.7892756462097168, y = 1.651\n",
      "1/1 [==============================] - 0s 11ms/step\n",
      "yhat = 0.8015953898429871, y = 0.584\n",
      "1/1 [==============================] - 0s 11ms/step\n",
      "yhat = 3.588937282562256, y = 5.00001\n",
      "1/1 [==============================] - 0s 13ms/step\n",
      "yhat = 1.387155532836914, y = 0.865\n",
      "1/1 [==============================] - 0s 11ms/step\n",
      "yhat = 1.360931158065796, y = 1.142\n",
      "1/1 [==============================] - 0s 11ms/step\n",
      "yhat = 1.8239818811416626, y = 3.316\n",
      "1/1 [==============================] - 0s 13ms/step\n",
      "yhat = 2.1668007373809814, y = 2.75\n",
      "1/1 [==============================] - 0s 13ms/step\n",
      "yhat = 1.8630048036575317, y = 2.282\n",
      "1/1 [==============================] - 0s 11ms/step\n",
      "yhat = 1.9487653970718384, y = 1.958\n",
      "1/1 [==============================] - 0s 11ms/step\n",
      "yhat = 2.2027676105499268, y = 0.771\n",
      "1/1 [==============================] - 0s 12ms/step\n",
      "yhat = 1.8655979633331299, y = 1.711\n",
      "1/1 [==============================] - 0s 11ms/step\n",
      "yhat = 3.818495512008667, y = 5.00001\n",
      "1/1 [==============================] - 0s 12ms/step\n",
      "yhat = 1.6153169870376587, y = 1.563\n",
      "1/1 [==============================] - 0s 16ms/step\n",
      "yhat = 2.1066017150878906, y = 1.625\n",
      "1/1 [==============================] - 0s 10ms/step\n",
      "yhat = 1.9306384325027466, y = 1.516\n",
      "1/1 [==============================] - 0s 11ms/step\n",
      "yhat = 1.992583155632019, y = 1.772\n",
      "1/1 [==============================] - 0s 12ms/step\n",
      "yhat = 1.4203230142593384, y = 1.375\n",
      "1/1 [==============================] - 0s 12ms/step\n",
      "yhat = 0.6396470069885254, y = 0.574\n",
      "1/1 [==============================] - 0s 11ms/step\n",
      "yhat = 1.6258846521377563, y = 1.805\n",
      "1/1 [==============================] - 0s 12ms/step\n",
      "yhat = 2.462273597717285, y = 2.796\n",
      "1/1 [==============================] - 0s 12ms/step\n",
      "yhat = 1.7796216011047363, y = 1.651\n",
      "1/1 [==============================] - 0s 12ms/step\n",
      "yhat = 1.2800350189208984, y = 1.01\n",
      "1/1 [==============================] - 0s 11ms/step\n",
      "yhat = 1.4947748184204102, y = 1.239\n",
      "1/1 [==============================] - 0s 12ms/step\n",
      "yhat = 2.217348098754883, y = 0.543\n",
      "1/1 [==============================] - 0s 11ms/step\n",
      "yhat = 2.7544846534729004, y = 2.344\n",
      "1/1 [==============================] - 0s 11ms/step\n",
      "yhat = 0.7094097137451172, y = 0.673\n",
      "1/1 [==============================] - 0s 12ms/step\n",
      "yhat = 1.5962305068969727, y = 2.104\n",
      "1/1 [==============================] - 0s 11ms/step\n",
      "yhat = 1.508338212966919, y = 1.844\n",
      "1/1 [==============================] - 0s 12ms/step\n",
      "yhat = 1.7615747451782227, y = 1.634\n",
      "1/1 [==============================] - 0s 12ms/step\n",
      "yhat = 1.5246288776397705, y = 1.564\n",
      "1/1 [==============================] - 0s 12ms/step\n",
      "yhat = 4.136778354644775, y = 4.657\n",
      "1/1 [==============================] - 0s 12ms/step\n",
      "yhat = 1.7289959192276, y = 2.444\n",
      "1/1 [==============================] - 0s 13ms/step\n",
      "yhat = 1.201432466506958, y = 1.413\n",
      "1/1 [==============================] - 0s 11ms/step\n",
      "yhat = 1.5442471504211426, y = 1.606\n",
      "1/1 [==============================] - 0s 12ms/step\n",
      "yhat = 3.4659602642059326, y = 4.851\n",
      "1/1 [==============================] - 0s 12ms/step\n",
      "yhat = 1.187192678451538, y = 0.964\n",
      "1/1 [==============================] - 0s 11ms/step\n",
      "yhat = 1.1012431383132935, y = 1.278\n",
      "1/1 [==============================] - 0s 12ms/step\n",
      "yhat = 1.11762273311615, y = 0.879\n",
      "1/1 [==============================] - 0s 11ms/step\n",
      "yhat = 1.653268814086914, y = 2.38\n",
      "1/1 [==============================] - 0s 11ms/step\n",
      "yhat = 2.738924741744995, y = 3.537\n",
      "1/1 [==============================] - 0s 12ms/step\n",
      "yhat = 2.6366331577301025, y = 2.669\n",
      "1/1 [==============================] - 0s 12ms/step\n",
      "yhat = 2.307574987411499, y = 2.342\n",
      "1/1 [==============================] - 0s 11ms/step\n",
      "yhat = 1.641402244567871, y = 5.00001\n",
      "1/1 [==============================] - 0s 10ms/step\n",
      "yhat = 2.3460965156555176, y = 2.536\n",
      "1/1 [==============================] - 0s 12ms/step\n",
      "yhat = 3.08756685256958, y = 2.271\n",
      "1/1 [==============================] - 0s 12ms/step\n",
      "yhat = 0.6964734792709351, y = 1.232\n",
      "1/1 [==============================] - 0s 12ms/step\n",
      "yhat = 0.7950797080993652, y = 0.722\n",
      "1/1 [==============================] - 0s 12ms/step\n",
      "yhat = 3.00079345703125, y = 3.083\n",
      "1/1 [==============================] - 0s 12ms/step\n",
      "yhat = 1.3865692615509033, y = 1.589\n",
      "1/1 [==============================] - 0s 12ms/step\n",
      "yhat = 1.2987005710601807, y = 1.552\n",
      "1/1 [==============================] - 0s 12ms/step\n",
      "yhat = 0.8990802764892578, y = 2.75\n",
      "1/1 [==============================] - 0s 11ms/step\n",
      "yhat = 1.1566213369369507, y = 0.759\n",
      "1/1 [==============================] - 0s 12ms/step\n",
      "yhat = 2.5333588123321533, y = 3.528\n",
      "1/1 [==============================] - 0s 11ms/step\n",
      "yhat = 1.6528337001800537, y = 1.646\n",
      "1/1 [==============================] - 0s 11ms/step\n",
      "yhat = 2.4531807899475098, y = 2.187\n",
      "1/1 [==============================] - 0s 11ms/step\n",
      "yhat = 1.372446060180664, y = 1.134\n",
      "1/1 [==============================] - 0s 11ms/step\n",
      "yhat = 3.491849184036255, y = 3.398\n"
     ]
    },
    {
     "name": "stdout",
     "output_type": "stream",
     "text": [
      "1/1 [==============================] - 0s 16ms/step\n",
      "yhat = 1.9685577154159546, y = 2.85\n",
      "1/1 [==============================] - 0s 14ms/step\n",
      "yhat = 3.0241472721099854, y = 4.037\n",
      "1/1 [==============================] - 0s 12ms/step\n",
      "yhat = 2.0052552223205566, y = 1.932\n",
      "1/1 [==============================] - 0s 19ms/step\n",
      "yhat = 1.3623871803283691, y = 0.932\n",
      "1/1 [==============================] - 0s 13ms/step\n",
      "yhat = 1.8155428171157837, y = 2.221\n",
      "1/1 [==============================] - 0s 12ms/step\n",
      "yhat = 1.0507210493087769, y = 1.241\n",
      "1/1 [==============================] - 0s 13ms/step\n",
      "yhat = 2.4942615032196045, y = 4.045\n",
      "1/1 [==============================] - 0s 12ms/step\n",
      "yhat = 0.629041850566864, y = 0.679\n",
      "1/1 [==============================] - 0s 13ms/step\n",
      "yhat = 2.1581199169158936, y = 2.132\n",
      "1/1 [==============================] - 0s 13ms/step\n",
      "yhat = 0.6830059885978699, y = 0.523\n",
      "1/1 [==============================] - 0s 14ms/step\n",
      "yhat = 2.7409770488739014, y = 2.188\n",
      "1/1 [==============================] - 0s 12ms/step\n",
      "yhat = 1.1807879209518433, y = 1.0\n",
      "1/1 [==============================] - 0s 11ms/step\n",
      "yhat = 3.7490570545196533, y = 3.298\n",
      "1/1 [==============================] - 0s 11ms/step\n",
      "yhat = 1.5360950231552124, y = 1.738\n",
      "1/1 [==============================] - 0s 11ms/step\n",
      "yhat = 1.7140012979507446, y = 1.25\n",
      "1/1 [==============================] - 0s 11ms/step\n",
      "yhat = 1.7500090599060059, y = 2.151\n",
      "1/1 [==============================] - 0s 11ms/step\n",
      "yhat = 0.9209898710250854, y = 0.804\n",
      "1/1 [==============================] - 0s 12ms/step\n",
      "yhat = 4.19359827041626, y = 5.00001\n",
      "1/1 [==============================] - 0s 11ms/step\n",
      "yhat = 1.1287562847137451, y = 1.661\n",
      "1/1 [==============================] - 0s 12ms/step\n",
      "yhat = 3.0347933769226074, y = 3.971\n",
      "1/1 [==============================] - 0s 13ms/step\n",
      "yhat = 1.3066344261169434, y = 0.85\n",
      "1/1 [==============================] - 0s 12ms/step\n",
      "yhat = 1.11762273311615, y = 0.879\n",
      "1/1 [==============================] - 0s 12ms/step\n",
      "yhat = 2.2458670139312744, y = 1.9\n",
      "1/1 [==============================] - 0s 12ms/step\n",
      "yhat = 2.6541271209716797, y = 1.836\n",
      "1/1 [==============================] - 0s 12ms/step\n",
      "yhat = 0.4196910560131073, y = 0.612\n",
      "1/1 [==============================] - 0s 12ms/step\n",
      "yhat = 2.9208314418792725, y = 4.333\n",
      "1/1 [==============================] - 0s 11ms/step\n",
      "yhat = 1.0027589797973633, y = 1.417\n",
      "1/1 [==============================] - 0s 11ms/step\n",
      "yhat = 1.483925223350525, y = 2.003\n",
      "1/1 [==============================] - 0s 12ms/step\n",
      "yhat = 1.9966586828231812, y = 1.955\n",
      "1/1 [==============================] - 0s 12ms/step\n",
      "yhat = 4.753638744354248, y = 5.00001\n",
      "1/1 [==============================] - 0s 12ms/step\n",
      "yhat = 4.70016622543335, y = 5.00001\n",
      "1/1 [==============================] - 0s 12ms/step\n",
      "yhat = 2.0295228958129883, y = 1.911\n",
      "1/1 [==============================] - 0s 12ms/step\n",
      "yhat = 1.8730392456054688, y = 1.363\n",
      "1/1 [==============================] - 0s 12ms/step\n",
      "yhat = 4.687783241271973, y = 5.00001\n",
      "1/1 [==============================] - 0s 11ms/step\n",
      "yhat = 0.627857506275177, y = 0.858\n",
      "1/1 [==============================] - 0s 12ms/step\n",
      "yhat = 4.14590311050415, y = 4.92\n",
      "1/1 [==============================] - 0s 12ms/step\n",
      "yhat = 3.0285983085632324, y = 3.671\n",
      "1/1 [==============================] - 0s 11ms/step\n",
      "yhat = 1.670616865158081, y = 1.625\n",
      "1/1 [==============================] - 0s 10ms/step\n",
      "yhat = 1.3929275274276733, y = 1.305\n"
     ]
    }
   ],
   "source": [
    "avg_err = average_mse(50, X_cv, y_cv, awesome_housing_model, iterations=10)"
   ]
  },
  {
   "cell_type": "code",
   "execution_count": 246,
   "id": "cd61f9e5",
   "metadata": {
    "pycharm": {
     "name": "#%%\n"
    }
   },
   "outputs": [
    {
     "name": "stdout",
     "output_type": "stream",
     "text": [
      "0.3570839429120672\n"
     ]
    }
   ],
   "source": [
    "print(avg_err)"
   ]
  },
  {
   "cell_type": "code",
   "execution_count": 402,
   "id": "b58ae51e",
   "metadata": {
    "pycharm": {
     "name": "#%%\n"
    }
   },
   "outputs": [],
   "source": [
    "from keras.layers import Input, Dense\n",
    "\n",
    "n = X_train.shape[1]\n",
    "delayed = 3\n",
    "\n",
    "input_A = Input(shape=[delayed], name=\"delayed_input\")\n",
    "input_B = Input(shape=[n - delayed], name=\"standard_input\")\n",
    "\n",
    "hl1 = Dense(35, activation=tf.keras.layers.LeakyReLU(alpha=0.3))(input_B)\n",
    "hl2 = Dense(30, activation=\"swish\")(hl1)\n",
    "concat = layers.concatenate([hl1, hl2, input_A, input_B])\n",
    "hl3 = Dense(20, activation=\"relu\")(concat)\n",
    "L_out = Dense(1, activation=\"linear\")(layers.concatenate([input_A, input_B, hl1, hl2, hl3]))\n",
    "\n",
    "super_awesome_housing_model = keras.Model(inputs=(input_A, input_B), outputs=[L_out])"
   ]
  },
  {
   "cell_type": "code",
   "execution_count": 413,
   "id": "46a1705a",
   "metadata": {
    "pycharm": {
     "name": "#%%\n"
    }
   },
   "outputs": [],
   "source": [
    "super_awesome_housing_model.compile(loss=MeanSquaredError(), optimizer=tf.optimizers.Adam(learning_rate=0.002))"
   ]
  },
  {
   "cell_type": "code",
   "execution_count": 414,
   "id": "09830c28",
   "metadata": {
    "pycharm": {
     "name": "#%%\n"
    }
   },
   "outputs": [],
   "source": [
    "(X_train_A, X_train_B) = (X_train[:, :delayed], X_train[:, delayed:])\n",
    "(X_cv_A, X_cv_B) = (X_cv[:, :delayed], X_cv[:, delayed:])\n",
    "(X_test_A, X_test_B) = (X_test[:, :delayed], X_test[:, delayed:])"
   ]
  },
  {
   "cell_type": "code",
   "execution_count": 415,
   "id": "1afc5111",
   "metadata": {
    "pycharm": {
     "name": "#%%\n"
    }
   },
   "outputs": [],
   "source": [
    "X_train_AB = (X_train_A, X_train_B)\n",
    "X_cv_AB = (X_cv_A, X_cv_B)"
   ]
  },
  {
   "cell_type": "code",
   "execution_count": 416,
   "id": "ef9486cd",
   "metadata": {
    "pycharm": {
     "name": "#%%\n"
    }
   },
   "outputs": [
    {
     "name": "stdout",
     "output_type": "stream",
     "text": [
      "Epoch 1/25\n",
      "363/363 [==============================] - 1s 1ms/step - loss: 0.2768 - val_loss: 0.3013\n",
      "Epoch 2/25\n",
      "363/363 [==============================] - 0s 818us/step - loss: 0.2788 - val_loss: 0.2975\n",
      "Epoch 3/25\n",
      "363/363 [==============================] - 0s 821us/step - loss: 0.2723 - val_loss: 0.3633\n",
      "Epoch 4/25\n",
      "363/363 [==============================] - 0s 818us/step - loss: 0.3022 - val_loss: 0.3100\n",
      "Epoch 5/25\n",
      "363/363 [==============================] - 0s 818us/step - loss: 0.2913 - val_loss: 0.3067\n",
      "Epoch 6/25\n",
      "363/363 [==============================] - 0s 822us/step - loss: 0.2792 - val_loss: 0.2987\n",
      "Epoch 7/25\n",
      "363/363 [==============================] - 0s 832us/step - loss: 0.2733 - val_loss: 0.3395\n",
      "Epoch 8/25\n",
      "363/363 [==============================] - 0s 826us/step - loss: 0.2709 - val_loss: 0.2985\n",
      "Epoch 9/25\n",
      "363/363 [==============================] - 0s 824us/step - loss: 0.2710 - val_loss: 0.2992\n",
      "Epoch 10/25\n",
      "363/363 [==============================] - 0s 851us/step - loss: 0.2669 - val_loss: 0.3247\n",
      "Epoch 11/25\n",
      "363/363 [==============================] - 0s 829us/step - loss: 0.2715 - val_loss: 0.2986\n",
      "Epoch 12/25\n",
      "363/363 [==============================] - 0s 823us/step - loss: 0.2788 - val_loss: 0.3278\n",
      "Epoch 13/25\n",
      "363/363 [==============================] - 0s 840us/step - loss: 0.2805 - val_loss: 0.4559\n",
      "Epoch 14/25\n",
      "363/363 [==============================] - 0s 832us/step - loss: 0.2851 - val_loss: 0.2954\n",
      "Epoch 15/25\n",
      "363/363 [==============================] - 0s 845us/step - loss: 0.2859 - val_loss: 0.3676\n",
      "Epoch 16/25\n",
      "363/363 [==============================] - 0s 826us/step - loss: 0.2791 - val_loss: 0.2932\n",
      "Epoch 17/25\n",
      "363/363 [==============================] - 0s 825us/step - loss: 0.2737 - val_loss: 0.4828\n",
      "Epoch 18/25\n",
      "363/363 [==============================] - 0s 824us/step - loss: 0.3472 - val_loss: 0.3245\n",
      "Epoch 19/25\n",
      "363/363 [==============================] - 0s 825us/step - loss: 0.2870 - val_loss: 0.2978\n",
      "Epoch 20/25\n",
      "363/363 [==============================] - 0s 823us/step - loss: 0.2645 - val_loss: 0.2883\n",
      "Epoch 21/25\n",
      "363/363 [==============================] - 0s 840us/step - loss: 0.2645 - val_loss: 0.3109\n",
      "Epoch 22/25\n",
      "363/363 [==============================] - 0s 818us/step - loss: 0.2666 - val_loss: 0.2969\n",
      "Epoch 23/25\n",
      "363/363 [==============================] - 0s 829us/step - loss: 0.2642 - val_loss: 0.2926\n",
      "Epoch 24/25\n",
      "363/363 [==============================] - 0s 823us/step - loss: 0.2616 - val_loss: 0.3166\n",
      "Epoch 25/25\n",
      "363/363 [==============================] - 0s 825us/step - loss: 0.2615 - val_loss: 0.2954\n"
     ]
    }
   ],
   "source": [
    "superCoolHistory = super_awesome_housing_model.fit(X_train_AB, y_train, epochs=25, validation_data=(X_cv_AB, y_cv))"
   ]
  },
  {
   "cell_type": "code",
   "execution_count": 417,
   "id": "ec573d01",
   "metadata": {
    "pycharm": {
     "name": "#%%\n"
    }
   },
   "outputs": [
    {
     "data": {
      "image/png": "[encoded data removed]",
      "text/plain": [
       "<Figure size 800x500 with 1 Axes>"
      ]
     },
     "metadata": {},
     "output_type": "display_data"
    }
   ],
   "source": [
    "plotHistory(superCoolHistory)"
   ]
  },
  {
   "cell_type": "code",
   "execution_count": 418,
   "id": "e5684693",
   "metadata": {
    "pycharm": {
     "name": "#%%\n"
    }
   },
   "outputs": [
    {
     "name": "stdout",
     "output_type": "stream",
     "text": [
      "[2.07  0.682 1.625 ... 4.548 2.908 1.588]\n"
     ]
    }
   ],
   "source": [
    "print(y_train)"
   ]
  },
  {
   "cell_type": "code",
   "execution_count": 421,
   "id": "7fb0fcfd",
   "metadata": {
    "pycharm": {
     "name": "#%%\n"
    }
   },
   "outputs": [
    {
     "name": "stdout",
     "output_type": "stream",
     "text": [
      "[3.045   1.609   2.67    ... 2.355   5.00001 0.981  ]\n"
     ]
    }
   ],
   "source": [
    "print(y_cv)"
   ]
  },
  {
   "cell_type": "code",
   "execution_count": 423,
   "id": "9f4a3c06",
   "metadata": {
    "pycharm": {
     "name": "#%%\n"
    }
   },
   "outputs": [
    {
     "name": "stdout",
     "output_type": "stream",
     "text": [
      "162/162 [==============================] - 0s 534us/step - loss: 0.3690\n"
     ]
    },
    {
     "data": {
      "text/plain": [
       "0.3689859211444855"
      ]
     },
     "execution_count": 423,
     "metadata": {},
     "output_type": "execute_result"
    }
   ],
   "source": [
    "super_awesome_housing_model.evaluate((X_test_A, X_test_B), y_test)"
   ]
  },
  {
   "cell_type": "code",
   "execution_count": 426,
   "id": "08430e36",
   "metadata": {
    "pycharm": {
     "name": "#%%\n"
    }
   },
   "outputs": [],
   "source": [
    "class SubclassModel(keras.Model):\n",
    "    def __init__(self, units=30, activation=\"relu\", **kwargs):\n",
    "        super().__init__(**kwargs)\n",
    "        self.hl1 = Dense(units, activation=activation)\n",
    "        self.hl2 = Dense(units, activation=activation)\n",
    "        self.main_output = Dense(1)\n",
    "        self.other_output = Dense(1)\n",
    "    \n",
    "    # this call() method makes the subclass api different from the functional and Sequential APIs because you aren't creating the inputs at the same time\n",
    "    # this creates a mathematical generalization where the only limit is creativity\n",
    "    # you can do ANYTHING you want! for loops, if statements, etc.\n",
    "    def call(self, inputs):\n",
    "        (inputA, inputB) = inputs\n",
    "        hl1 = self.hl1(inputA)\n",
    "        hl2 = self.hl2(hl1)\n",
    "        L_out = self.main_output(layers.concatenate([inputB, hl1, hl2]))\n",
    "        L_out_other = self.other_output(inputB)\n",
    "        \n",
    "        return (L_out, L_out_other)"
   ]
  },
  {
   "cell_type": "code",
   "execution_count": 428,
   "id": "33b81df2",
   "metadata": {
    "pycharm": {
     "name": "#%%\n"
    }
   },
   "outputs": [],
   "source": [
    "# Saving and loading a Model (only works with Sequential and Functional API, not Subclass API)\n",
    "# model.save(\"my_keras_model.h5\")\n",
    "# model = keras.models.load_model(\"my_keras_model.h5\")\n",
    "\n",
    "# Saving and loading Parameters (works for all)\n",
    "# model.save_weights()\n",
    "# model.load_weights()"
   ]
  },
  {
   "cell_type": "code",
   "execution_count": 433,
   "id": "0f47c8e0",
   "metadata": {
    "pycharm": {
     "name": "#%%\n"
    }
   },
   "outputs": [
    {
     "name": "stdout",
     "output_type": "stream",
     "text": [
      "Epoch 1/25\n",
      "363/363 [==============================] - 0s 975us/step - loss: 0.2455 - val_loss: 0.3124\n",
      "Epoch 2/25\n",
      "363/363 [==============================] - 0s 901us/step - loss: 0.2453 - val_loss: 0.2822\n",
      "Epoch 3/25\n",
      "363/363 [==============================] - 0s 942us/step - loss: 0.2432 - val_loss: 0.3020\n",
      "Epoch 4/25\n",
      "363/363 [==============================] - 0s 951us/step - loss: 0.2440 - val_loss: 0.3062\n",
      "Epoch 5/25\n",
      "363/363 [==============================] - 0s 912us/step - loss: 0.2420 - val_loss: 0.2889\n",
      "Epoch 6/25\n",
      "363/363 [==============================] - 0s 904us/step - loss: 0.2431 - val_loss: 0.3007\n",
      "Epoch 7/25\n",
      "363/363 [==============================] - 0s 916us/step - loss: 0.2422 - val_loss: 0.3109\n",
      "Epoch 8/25\n",
      "363/363 [==============================] - 0s 920us/step - loss: 0.2478 - val_loss: 0.2959\n",
      "Epoch 9/25\n",
      "363/363 [==============================] - 0s 939us/step - loss: 0.2514 - val_loss: 0.2889\n",
      "Epoch 10/25\n",
      "363/363 [==============================] - 0s 931us/step - loss: 0.2424 - val_loss: 0.3193\n",
      "Epoch 11/25\n",
      "363/363 [==============================] - 0s 929us/step - loss: 0.2534 - val_loss: 0.3409\n",
      "Epoch 12/25\n",
      "363/363 [==============================] - 0s 898us/step - loss: 0.2491 - val_loss: 0.3223\n"
     ]
    }
   ],
   "source": [
    "# Callbacks: called at the start and end of every epoch\n",
    "checkpoint_callback = keras.callbacks.ModelCheckpoint(\"my_keras_model.h5\")\n",
    "early_stopping_callback = keras.callbacks.EarlyStopping(patience=10, restore_best_weights=True)\n",
    "hist = super_awesome_housing_model.fit(X_train_AB, y_train, epochs=25, validation_data=(X_cv_AB, y_cv), callbacks=[checkpoint_callback, early_stopping_callback])"
   ]
  },
  {
   "cell_type": "code",
   "execution_count": 434,
   "id": "e5c365b1",
   "metadata": {
    "pycharm": {
     "name": "#%%\n"
    }
   },
   "outputs": [
    {
     "data": {
      "image/png": "[encoded data removed]",
      "text/plain": [
       "<Figure size 800x500 with 1 Axes>"
      ]
     },
     "metadata": {},
     "output_type": "display_data"
    }
   ],
   "source": [
    "plotHistory(hist)"
   ]
  },
  {
   "cell_type": "code",
   "execution_count": 435,
   "id": "b5057b27",
   "metadata": {
    "pycharm": {
     "name": "#%%\n"
    }
   },
   "outputs": [],
   "source": [
    "import os\n",
    "\n",
    "root_logdir = os.path.join(os.curdir, \"my_logs\")\n",
    "\n",
    "def get_run_logdir():\n",
    "    import time\n",
    "    \n",
    "    run_id = time.strftime(\"run_%Y_%m_%d-%H_%M_%S\")\n",
    "    return os.path.join(root_logdir, run_id)\n",
    "\n",
    "run_logdir = get_run_logdir()"
   ]
  },
  {
   "cell_type": "code",
   "execution_count": 436,
   "id": "aa59eaf5",
   "metadata": {
    "pycharm": {
     "name": "#%%\n"
    }
   },
   "outputs": [
    {
     "name": "stdout",
     "output_type": "stream",
     "text": [
      "Epoch 1/25\n",
      "363/363 [==============================] - 0s 1ms/step - loss: 0.2450 - val_loss: 0.3108\n",
      "Epoch 2/25\n",
      "363/363 [==============================] - 0s 911us/step - loss: 0.2454 - val_loss: 0.2835\n",
      "Epoch 3/25\n",
      "363/363 [==============================] - 0s 920us/step - loss: 0.2483 - val_loss: 0.3074\n",
      "Epoch 4/25\n",
      "363/363 [==============================] - 0s 1000us/step - loss: 0.2482 - val_loss: 0.3440\n",
      "Epoch 5/25\n",
      "363/363 [==============================] - 0s 898us/step - loss: 0.2621 - val_loss: 0.3003\n",
      "Epoch 6/25\n",
      "363/363 [==============================] - 0s 906us/step - loss: 0.2558 - val_loss: 0.2918\n",
      "Epoch 7/25\n",
      "363/363 [==============================] - 0s 938us/step - loss: 0.2478 - val_loss: 0.2872\n",
      "Epoch 8/25\n",
      "363/363 [==============================] - 0s 906us/step - loss: 0.2428 - val_loss: 0.2899\n",
      "Epoch 9/25\n",
      "363/363 [==============================] - 0s 923us/step - loss: 0.2415 - val_loss: 0.2932\n",
      "Epoch 10/25\n",
      "363/363 [==============================] - 0s 920us/step - loss: 0.2410 - val_loss: 0.2819\n",
      "Epoch 11/25\n",
      "363/363 [==============================] - 0s 883us/step - loss: 0.2444 - val_loss: 0.3181\n",
      "Epoch 12/25\n",
      "363/363 [==============================] - 0s 884us/step - loss: 0.2425 - val_loss: 0.2882\n",
      "Epoch 13/25\n",
      "363/363 [==============================] - 0s 890us/step - loss: 0.2440 - val_loss: 0.2981\n",
      "Epoch 14/25\n",
      "363/363 [==============================] - 0s 891us/step - loss: 0.2444 - val_loss: 0.2927\n",
      "Epoch 15/25\n",
      "363/363 [==============================] - 0s 895us/step - loss: 0.2446 - val_loss: 0.3072\n",
      "Epoch 16/25\n",
      "363/363 [==============================] - 0s 889us/step - loss: 0.2421 - val_loss: 0.2857\n",
      "Epoch 17/25\n",
      "363/363 [==============================] - 0s 881us/step - loss: 0.2397 - val_loss: 0.3154\n",
      "Epoch 18/25\n",
      "363/363 [==============================] - 0s 877us/step - loss: 0.2388 - val_loss: 0.2828\n",
      "Epoch 19/25\n",
      "363/363 [==============================] - 0s 871us/step - loss: 0.2407 - val_loss: 0.2967\n",
      "Epoch 20/25\n",
      "363/363 [==============================] - 0s 876us/step - loss: 0.2393 - val_loss: 0.3022\n"
     ]
    }
   ],
   "source": [
    "# Callbacks: called at the start and end of every epoch\n",
    "checkpoint_callback = keras.callbacks.ModelCheckpoint(\"my_keras_model.h5\")\n",
    "early_stopping_callback = keras.callbacks.EarlyStopping(patience=10, restore_best_weights=True)\n",
    "tensorboard_callback = keras.callbacks.TensorBoard(run_logdir)\n",
    "hist = super_awesome_housing_model.fit(X_train_AB, y_train, epochs=25, validation_data=(X_cv_AB, y_cv), callbacks=[checkpoint_callback, early_stopping_callback, tensorboard_callback])"
   ]
  },
  {
   "cell_type": "code",
   "execution_count": 437,
   "id": "c5ca80b9",
   "metadata": {
    "pycharm": {
     "name": "#%%\n"
    }
   },
   "outputs": [
    {
     "data": {
      "image/png": "[encoded data removed]",
      "text/plain": [
       "<Figure size 800x500 with 1 Axes>"
      ]
     },
     "metadata": {},
     "output_type": "display_data"
    }
   ],
   "source": [
    "plotHistory(hist)"
   ]
  },
  {
   "cell_type": "code",
   "execution_count": 494,
   "id": "905780b1",
   "metadata": {
    "pycharm": {
     "name": "#%%\n"
    }
   },
   "outputs": [],
   "source": [
    "class CustomModel(keras.Model):\n",
    "    def __init__(self, hidden_layers=[], output_layers=[], **kwargs):\n",
    "        super().__init__(**kwargs)\n",
    "        \n",
    "        def compose(args):\n",
    "            return Dense(units=args[0], activation=args[1])\n",
    "        \n",
    "        self.hidden_layers_start = [\n",
    "            compose(hidden_layers[0]),\n",
    "            compose(hidden_layers[0]),\n",
    "            compose(hidden_layers[0])\n",
    "        ]\n",
    "        self.hidden_layers_rest = [\n",
    "            compose(hidden_layers[1]),\n",
    "            compose(hidden_layers[2]),\n",
    "            compose(hidden_layers[3])\n",
    "        ]\n",
    "        \n",
    "        self.output_layers = [compose(output_layers[0])]\n",
    "    \n",
    "    \n",
    "    def call(self, inputs):\n",
    "        (inputA, inputB) = inputs\n",
    "        \n",
    "        hl1_A = self.hidden_layers_start[0](inputA)\n",
    "        hl1_B = self.hidden_layers_start[1](inputB)\n",
    "        hl1_AB = self.hidden_layers_start[2](layers.concatenate([inputA, inputB]))\n",
    "        \n",
    "        hl2 = self.hidden_layers_rest[0](layers.concatenate([hl1_A, hl1_B, hl1_AB]))\n",
    "        hl3 = self.hidden_layers_rest[1](hl2)\n",
    "        hl4 = self.hidden_layers_rest[2](layers.concatenate([hl1_AB, hl3]))\n",
    "        \n",
    "        L_out = self.output_layers[0](hl4)\n",
    "        \n",
    "        return L_out"
   ]
  },
  {
   "cell_type": "code",
   "execution_count": 534,
   "id": "53e4624f",
   "metadata": {
    "pycharm": {
     "name": "#%%\n"
    }
   },
   "outputs": [
    {
     "name": "stdout",
     "output_type": "stream",
     "text": [
      "Epoch 1/100\n",
      "182/182 [==============================] - 1s 2ms/step - loss: 0.7651 - val_loss: 0.4524\n",
      "Epoch 2/100\n",
      "182/182 [==============================] - 0s 1ms/step - loss: 0.3883 - val_loss: 0.3927\n",
      "Epoch 3/100\n",
      "182/182 [==============================] - 0s 1ms/step - loss: 0.4245 - val_loss: 0.3719\n",
      "Epoch 4/100\n",
      "182/182 [==============================] - 0s 1ms/step - loss: 0.3444 - val_loss: 0.3925\n",
      "Epoch 5/100\n",
      "182/182 [==============================] - 0s 1ms/step - loss: 0.3264 - val_loss: 0.3407\n",
      "Epoch 6/100\n",
      "182/182 [==============================] - 0s 1ms/step - loss: 0.3160 - val_loss: 0.3374\n",
      "Epoch 7/100\n",
      "182/182 [==============================] - 0s 1ms/step - loss: 0.3246 - val_loss: 0.3449\n",
      "Epoch 8/100\n",
      "182/182 [==============================] - 0s 1ms/step - loss: 0.3441 - val_loss: 0.3138\n",
      "Epoch 9/100\n",
      "182/182 [==============================] - 0s 1ms/step - loss: 0.3046 - val_loss: 0.3322\n",
      "Epoch 10/100\n",
      "182/182 [==============================] - 0s 1ms/step - loss: 0.2956 - val_loss: 0.3291\n",
      "Epoch 11/100\n",
      "182/182 [==============================] - 0s 1ms/step - loss: 0.2924 - val_loss: 0.3701\n",
      "Epoch 12/100\n",
      "182/182 [==============================] - 0s 1ms/step - loss: 0.2845 - val_loss: 0.3087\n",
      "Epoch 13/100\n",
      "182/182 [==============================] - 0s 1ms/step - loss: 0.2792 - val_loss: 0.3168\n",
      "Epoch 14/100\n",
      "182/182 [==============================] - 0s 1ms/step - loss: 0.2798 - val_loss: 0.3085\n",
      "Epoch 15/100\n",
      "182/182 [==============================] - 0s 1ms/step - loss: 0.2776 - val_loss: 0.3128\n",
      "Epoch 16/100\n",
      "182/182 [==============================] - 0s 1ms/step - loss: 0.2808 - val_loss: 0.3501\n",
      "Epoch 17/100\n",
      "182/182 [==============================] - 0s 1ms/step - loss: 0.2763 - val_loss: 0.3061\n",
      "Epoch 18/100\n",
      "182/182 [==============================] - 0s 1ms/step - loss: 0.2740 - val_loss: 0.2910\n",
      "Epoch 19/100\n",
      "182/182 [==============================] - 0s 1ms/step - loss: 0.2694 - val_loss: 0.3103\n",
      "Epoch 20/100\n",
      "182/182 [==============================] - 0s 1ms/step - loss: 0.2744 - val_loss: 0.3043\n",
      "Epoch 21/100\n",
      "182/182 [==============================] - 0s 1ms/step - loss: 0.2671 - val_loss: 0.3348\n",
      "Epoch 22/100\n",
      "182/182 [==============================] - 0s 1ms/step - loss: 0.2621 - val_loss: 0.3127\n",
      "Epoch 23/100\n",
      "182/182 [==============================] - 0s 1ms/step - loss: 0.2581 - val_loss: 0.3014\n",
      "Epoch 24/100\n",
      "182/182 [==============================] - 0s 1ms/step - loss: 0.2588 - val_loss: 0.3205\n",
      "Epoch 25/100\n",
      "182/182 [==============================] - 0s 1ms/step - loss: 0.2553 - val_loss: 0.2975\n",
      "Epoch 26/100\n",
      "182/182 [==============================] - 0s 1ms/step - loss: 0.2566 - val_loss: 0.2949\n",
      "Epoch 27/100\n",
      "182/182 [==============================] - 0s 1ms/step - loss: 0.2555 - val_loss: 0.2972\n",
      "Epoch 28/100\n",
      "182/182 [==============================] - 0s 1ms/step - loss: 0.2632 - val_loss: 0.3035\n",
      "Epoch 29/100\n",
      "182/182 [==============================] - 0s 1ms/step - loss: 0.2553 - val_loss: 0.3029\n",
      "Epoch 30/100\n",
      "182/182 [==============================] - 0s 1ms/step - loss: 0.2502 - val_loss: 0.3234\n",
      "Epoch 31/100\n",
      "182/182 [==============================] - 0s 1ms/step - loss: 0.2477 - val_loss: 0.3250\n",
      "Epoch 32/100\n",
      "182/182 [==============================] - 0s 1ms/step - loss: 0.2512 - val_loss: 0.3315\n",
      "Epoch 33/100\n",
      "182/182 [==============================] - 0s 1ms/step - loss: 0.2485 - val_loss: 0.3140\n",
      "Epoch 34/100\n",
      "182/182 [==============================] - 0s 1ms/step - loss: 0.2531 - val_loss: 0.3542\n",
      "Epoch 35/100\n",
      "182/182 [==============================] - 0s 1ms/step - loss: 0.2432 - val_loss: 0.3262\n",
      "Epoch 36/100\n",
      "182/182 [==============================] - 0s 1ms/step - loss: 0.2390 - val_loss: 0.2875\n",
      "Epoch 37/100\n",
      "182/182 [==============================] - 0s 1ms/step - loss: 0.2474 - val_loss: 0.2841\n",
      "Epoch 38/100\n",
      "182/182 [==============================] - 0s 1ms/step - loss: 0.2414 - val_loss: 0.2931\n",
      "Epoch 39/100\n",
      "182/182 [==============================] - 0s 1ms/step - loss: 0.2386 - val_loss: 0.2910\n",
      "Epoch 40/100\n",
      "182/182 [==============================] - 0s 1ms/step - loss: 0.2461 - val_loss: 0.2916\n",
      "Epoch 41/100\n",
      "182/182 [==============================] - 0s 1ms/step - loss: 0.2426 - val_loss: 0.3152\n",
      "Epoch 42/100\n",
      "182/182 [==============================] - 0s 1ms/step - loss: 0.2328 - val_loss: 0.3125\n",
      "Epoch 43/100\n",
      "182/182 [==============================] - 0s 1ms/step - loss: 0.2429 - val_loss: 0.3090\n",
      "Epoch 44/100\n",
      "182/182 [==============================] - 0s 1ms/step - loss: 0.2404 - val_loss: 0.3101\n",
      "Epoch 45/100\n",
      "182/182 [==============================] - 0s 1ms/step - loss: 0.2340 - val_loss: 0.2875\n",
      "Epoch 46/100\n",
      "182/182 [==============================] - 0s 1ms/step - loss: 0.2367 - val_loss: 0.3037\n",
      "Epoch 47/100\n",
      "182/182 [==============================] - 0s 1ms/step - loss: 0.2389 - val_loss: 0.3149\n",
      "Epoch 48/100\n",
      "182/182 [==============================] - 0s 1ms/step - loss: 0.2379 - val_loss: 0.3023\n",
      "Epoch 49/100\n",
      "182/182 [==============================] - 0s 1ms/step - loss: 0.2361 - val_loss: 0.3015\n",
      "Epoch 50/100\n",
      "182/182 [==============================] - 0s 1ms/step - loss: 0.2364 - val_loss: 0.3128\n",
      "Epoch 51/100\n",
      "182/182 [==============================] - 0s 1ms/step - loss: 0.2297 - val_loss: 0.2949\n",
      "Epoch 52/100\n",
      "182/182 [==============================] - 0s 1ms/step - loss: 0.2281 - val_loss: 0.2932\n",
      "Epoch 53/100\n",
      "182/182 [==============================] - 0s 1ms/step - loss: 0.2288 - val_loss: 0.3290\n",
      "Epoch 54/100\n",
      "182/182 [==============================] - 0s 1ms/step - loss: 0.2303 - val_loss: 0.3488\n",
      "Epoch 55/100\n",
      "182/182 [==============================] - 0s 1ms/step - loss: 0.2255 - val_loss: 0.2956\n",
      "Epoch 56/100\n",
      "182/182 [==============================] - 0s 1ms/step - loss: 0.2266 - val_loss: 0.2997\n",
      "Epoch 57/100\n",
      "182/182 [==============================] - 0s 1ms/step - loss: 0.2263 - val_loss: 0.3151\n",
      "Epoch 58/100\n",
      "182/182 [==============================] - 0s 1ms/step - loss: 0.2211 - val_loss: 0.3154\n",
      "Epoch 59/100\n",
      "182/182 [==============================] - 0s 1ms/step - loss: 0.2229 - val_loss: 0.3012\n",
      "Epoch 60/100\n",
      "182/182 [==============================] - 0s 1ms/step - loss: 0.2232 - val_loss: 0.3182\n",
      "Epoch 61/100\n",
      "182/182 [==============================] - 0s 1ms/step - loss: 0.2188 - val_loss: 0.3046\n",
      "Epoch 62/100\n",
      "182/182 [==============================] - 0s 1ms/step - loss: 0.2155 - val_loss: 0.2982\n",
      "Epoch 63/100\n",
      "182/182 [==============================] - 0s 1ms/step - loss: 0.2171 - val_loss: 0.2894\n",
      "Epoch 64/100\n",
      "182/182 [==============================] - 0s 1ms/step - loss: 0.2204 - val_loss: 0.2953\n",
      "Epoch 65/100\n",
      "182/182 [==============================] - 0s 1ms/step - loss: 0.2178 - val_loss: 0.3107\n",
      "Epoch 66/100\n",
      "182/182 [==============================] - 0s 1ms/step - loss: 0.2166 - val_loss: 0.3060\n",
      "Epoch 67/100\n",
      "182/182 [==============================] - 0s 1ms/step - loss: 0.2168 - val_loss: 0.2951\n",
      "Epoch 68/100\n",
      "182/182 [==============================] - 0s 1ms/step - loss: 0.2154 - val_loss: 0.3175\n",
      "Epoch 69/100\n",
      "182/182 [==============================] - 0s 1ms/step - loss: 0.2167 - val_loss: 0.3084\n",
      "Epoch 70/100\n",
      "182/182 [==============================] - 0s 1ms/step - loss: 0.2209 - val_loss: 0.3323\n",
      "Epoch 71/100\n",
      "182/182 [==============================] - 0s 1ms/step - loss: 0.2206 - val_loss: 0.3129\n",
      "Epoch 72/100\n",
      "182/182 [==============================] - 0s 1ms/step - loss: 0.2161 - val_loss: 0.3126\n",
      "Epoch 73/100\n",
      "182/182 [==============================] - 0s 1ms/step - loss: 0.2135 - val_loss: 0.3241\n",
      "Epoch 74/100\n",
      "182/182 [==============================] - 0s 1ms/step - loss: 0.2165 - val_loss: 0.3096\n",
      "Epoch 75/100\n",
      "182/182 [==============================] - 0s 1ms/step - loss: 0.2095 - val_loss: 0.2935\n",
      "Epoch 76/100\n",
      "182/182 [==============================] - 0s 1ms/step - loss: 0.2079 - val_loss: 0.3122\n",
      "Epoch 77/100\n",
      "182/182 [==============================] - 0s 1ms/step - loss: 0.2099 - val_loss: 0.3015\n",
      "Epoch 78/100\n",
      "182/182 [==============================] - 0s 1ms/step - loss: 0.2095 - val_loss: 0.3150\n",
      "Epoch 79/100\n",
      "182/182 [==============================] - 0s 1ms/step - loss: 0.2096 - val_loss: 0.2982\n",
      "Epoch 80/100\n",
      "182/182 [==============================] - 0s 1ms/step - loss: 0.2044 - val_loss: 0.3222\n",
      "Epoch 81/100\n"
     ]
    },
    {
     "name": "stdout",
     "output_type": "stream",
     "text": [
      "182/182 [==============================] - 0s 1ms/step - loss: 0.2052 - val_loss: 0.2843\n",
      "Epoch 82/100\n",
      "182/182 [==============================] - 0s 1ms/step - loss: 0.2090 - val_loss: 0.2867\n",
      "Epoch 83/100\n",
      "182/182 [==============================] - 0s 1ms/step - loss: 0.2068 - val_loss: 0.3086\n",
      "Epoch 84/100\n",
      "182/182 [==============================] - 0s 1ms/step - loss: 0.2044 - val_loss: 0.3087\n",
      "Epoch 85/100\n",
      "182/182 [==============================] - 0s 1ms/step - loss: 0.2064 - val_loss: 0.3118\n",
      "Epoch 86/100\n",
      "182/182 [==============================] - 0s 1ms/step - loss: 0.2060 - val_loss: 0.2962\n",
      "Epoch 87/100\n",
      "182/182 [==============================] - 0s 1ms/step - loss: 0.2053 - val_loss: 0.2902\n",
      "Epoch 88/100\n",
      "182/182 [==============================] - 0s 1ms/step - loss: 0.2043 - val_loss: 0.3105\n",
      "Epoch 89/100\n",
      "182/182 [==============================] - 0s 1ms/step - loss: 0.2049 - val_loss: 0.3113\n",
      "Epoch 90/100\n",
      "182/182 [==============================] - 0s 1ms/step - loss: 0.2015 - val_loss: 0.3047\n",
      "Epoch 91/100\n",
      "182/182 [==============================] - 0s 1ms/step - loss: 0.2015 - val_loss: 0.3070\n",
      "Epoch 92/100\n",
      "182/182 [==============================] - 0s 1ms/step - loss: 0.1986 - val_loss: 0.3136\n",
      "Epoch 93/100\n",
      "182/182 [==============================] - 0s 1ms/step - loss: 0.1998 - val_loss: 0.3182\n",
      "Epoch 94/100\n",
      "182/182 [==============================] - 0s 1ms/step - loss: 0.1993 - val_loss: 0.2941\n",
      "Epoch 95/100\n",
      "182/182 [==============================] - 0s 1ms/step - loss: 0.1990 - val_loss: 0.3116\n",
      "Epoch 96/100\n",
      "182/182 [==============================] - 0s 1ms/step - loss: 0.2024 - val_loss: 0.2903\n",
      "Epoch 97/100\n",
      "182/182 [==============================] - 0s 1ms/step - loss: 0.2059 - val_loss: 0.3006\n",
      "Epoch 98/100\n",
      "182/182 [==============================] - 0s 1ms/step - loss: 0.2050 - val_loss: 0.3604\n",
      "Epoch 99/100\n",
      "182/182 [==============================] - 0s 1ms/step - loss: 0.2002 - val_loss: 0.3053\n",
      "Epoch 100/100\n",
      "182/182 [==============================] - 0s 1ms/step - loss: 0.2077 - val_loss: 0.3166\n"
     ]
    },
    {
     "data": {
      "image/png": "[encoded data removed]",
      "text/plain": [
       "<Figure size 800x500 with 1 Axes>"
      ]
     },
     "metadata": {},
     "output_type": "display_data"
    }
   ],
   "source": [
    "custom_ann = CustomModel(hidden_layers=[\n",
    "    (50, \"swish\"),\n",
    "    (30, \"relu\"),\n",
    "    (15, \"relu\"),\n",
    "    (8, \"relu\")\n",
    "], output_layers=[(1, \"linear\")])\n",
    "\n",
    "custom_ann.compile(loss=MeanSquaredError(), optimizer=tf.optimizers.Adam(learning_rate=0.005))\n",
    "\n",
    "custom_history = custom_ann.fit((X_train_A, X_train_B), y_train,\n",
    "                                validation_data=((X_cv_A, X_cv_B), y_cv),\n",
    "                                epochs=100, batch_size=64, callbacks=[tensorboard_callback])\n",
    "\n",
    "plotHistory(custom_history)"
   ]
  },
  {
   "cell_type": "code",
   "execution_count": 533,
   "id": "49db0021",
   "metadata": {
    "pycharm": {
     "name": "#%%\n"
    }
   },
   "outputs": [
    {
     "name": "stdout",
     "output_type": "stream",
     "text": [
      "The tensorboard extension is already loaded. To reload it, use:\n",
      "  %reload_ext tensorboard\n"
     ]
    },
    {
     "data": {
      "text/html": [
       "\n",
       "      <iframe id=\"tensorboard-frame-80cf36fa77117993\" width=\"100%\" height=\"800\" frameborder=\"0\">\n",
       "      </iframe>\n",
       "      <script>\n",
       "        (function() {\n",
       "          const frame = document.getElementById(\"tensorboard-frame-80cf36fa77117993\");\n",
       "          const url = new URL(\"/\", window.location);\n",
       "          const port = 6006;\n",
       "          if (port) {\n",
       "            url.port = port;\n",
       "          }\n",
       "          frame.src = url;\n",
       "        })();\n",
       "      </script>\n",
       "    "
      ],
      "text/plain": [
       "<IPython.core.display.HTML object>"
      ]
     },
     "metadata": {},
     "output_type": "display_data"
    }
   ],
   "source": [
    "%load_ext tensorboard\n",
    "%tensorboard --logdir=./my_logs --port=6006"
   ]
  },
  {
   "cell_type": "code",
   "execution_count": 535,
   "id": "6091eb2c",
   "metadata": {
    "pycharm": {
     "name": "#%%\n"
    }
   },
   "outputs": [],
   "source": [
    "%reload_ext tensorboard"
   ]
  },
  {
   "cell_type": "code",
   "execution_count": 536,
   "id": "e420b980",
   "metadata": {
    "pycharm": {
     "name": "#%%\n"
    }
   },
   "outputs": [
    {
     "name": "stderr",
     "output_type": "stream",
     "text": [
      "C:\\Users\\night\\AppData\\Local\\Temp\\ipykernel_41460\\472527929.py:3: DeprecationWarning: KerasRegressor is deprecated, use Sci-Keras (https://github.com/adriangb/scikeras) instead. See https://www.adriangb.com/scikeras/stable/migration.html for help migrating.\n",
      "  kerasRegressor = keras.wrappers.scikit_learn.KerasRegressor(custom_ann)\n"
     ]
    }
   ],
   "source": [
    "import sklearn\n",
    "\n",
    "kerasRegressor = keras.wrappers.scikit_learn.KerasRegressor(custom_ann)"
   ]
  },
  {
   "cell_type": "code",
   "execution_count": null,
   "id": "ebd1ae86",
   "metadata": {
    "pycharm": {
     "name": "#%%\n"
    }
   },
   "outputs": [],
   "source": []
  }
 ],
 "metadata": {
  "kernelspec": {
   "display_name": "Python 3 (ipykernel)",
   "language": "python",
   "name": "python3"
  },
  "language_info": {
   "codemirror_mode": {
    "name": "ipython",
    "version": 3
   },
   "file_extension": ".py",
   "mimetype": "text/x-python",
   "name": "python",
   "nbconvert_exporter": "python",
   "pygments_lexer": "ipython3",
   "version": "3.10.8"
  }
 },
 "nbformat": 4,
 "nbformat_minor": 5
}