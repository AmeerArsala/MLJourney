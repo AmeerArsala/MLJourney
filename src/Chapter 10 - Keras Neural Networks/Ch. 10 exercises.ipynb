{
 "cells": [
  {
   "cell_type": "code",
   "execution_count": 1,
   "id": "f8dd7831",
   "metadata": {
    "pycharm": {
     "name": "#%%\n"
    }
   },
   "outputs": [],
   "source": [
    "import numpy as np\n",
    "import pandas as pd\n",
    "\n",
    "# ML libs\n",
    "import tensorflow as tf\n",
    "from tensorflow import keras\n",
    "import sklearn\n",
    "import xgboost\n",
    "import scikeras\n",
    "\n",
    "# optimization\n",
    "import keras_adabound\n",
    "\n",
    "# Hypertuning libs\n",
    "import keras_tuner\n",
    "import skopt\n",
    "import hyperopt\n",
    "\n",
    "# Misc\n",
    "import scipy\n",
    "import matplotlib.pyplot as plt"
   ]
  },
  {
   "cell_type": "code",
   "execution_count": 2,
   "id": "f5b9c61d",
   "metadata": {
    "pycharm": {
     "name": "#%%\n"
    }
   },
   "outputs": [],
   "source": [
    "cifar10 = keras.datasets.cifar10.load_data()"
   ]
  },
  {
   "cell_type": "code",
   "execution_count": 3,
   "id": "50e6f8f6",
   "metadata": {
    "pycharm": {
     "name": "#%%\n"
    }
   },
   "outputs": [],
   "source": [
    "from sklearn.model_selection import train_test_split\n",
    "\n",
    "(X_, y_), (X_test, y_test) = cifar10\n",
    "\n",
    "dev_ratio = (len(y_test)/ len(y_))\n",
    "(X_train, X_dev, y_train, y_dev) = train_test_split(X_, y_, test_size=dev_ratio)\n",
    "\n",
    "labels = [\n",
    "    \"airplane\",   # 0\n",
    "    \"automobile\", # 1\n",
    "    \"bird\",       # 2\n",
    "    \"cat\",        # 3\n",
    "    \"deer\",       # 4\n",
    "    \"dog\",        # 5\n",
    "    \"frog\",       # 6\n",
    "    \"horse\",      # 7\n",
    "    \"ship\",       # 8\n",
    "    \"truck\"       # 9\n",
    "]"
   ]
  },
  {
   "cell_type": "code",
   "execution_count": 4,
   "id": "f5856a07",
   "metadata": {
    "pycharm": {
     "name": "#%%\n"
    }
   },
   "outputs": [
    {
     "data": {
      "text/plain": [
       "(40000, 32, 32, 3)"
      ]
     },
     "execution_count": 4,
     "metadata": {},
     "output_type": "execute_result"
    }
   ],
   "source": [
    "X_train.shape"
   ]
  },
  {
   "cell_type": "code",
   "execution_count": 5,
   "id": "61677d00",
   "metadata": {
    "pycharm": {
     "name": "#%%\n"
    }
   },
   "outputs": [
    {
     "data": {
      "text/plain": [
       "(10000, 32, 32, 3)"
      ]
     },
     "execution_count": 5,
     "metadata": {},
     "output_type": "execute_result"
    }
   ],
   "source": [
    "X_dev.shape"
   ]
  },
  {
   "cell_type": "code",
   "execution_count": 6,
   "id": "0a75a5ec",
   "metadata": {
    "pycharm": {
     "name": "#%%\n"
    }
   },
   "outputs": [
    {
     "data": {
      "text/plain": [
       "(40000, 1)"
      ]
     },
     "execution_count": 6,
     "metadata": {},
     "output_type": "execute_result"
    }
   ],
   "source": [
    "y_train.shape"
   ]
  },
  {
   "cell_type": "code",
   "execution_count": 7,
   "id": "4c4bb1f9",
   "metadata": {
    "pycharm": {
     "name": "#%%\n"
    }
   },
   "outputs": [],
   "source": [
    "def show(X, colormap=\"binary\", axis=\"off\"):\n",
    "    plt.imshow(X, cmap=colormap)\n",
    "    plt.axis(axis)\n",
    "    \n",
    "    plt.show()"
   ]
  },
  {
   "cell_type": "code",
   "execution_count": 8,
   "id": "c19e6743",
   "metadata": {
    "pycharm": {
     "name": "#%%\n"
    }
   },
   "outputs": [
    {
     "data": {
      "image/png": "[encoded data removed]",
      "text/plain": [
       "<Figure size 640x480 with 1 Axes>"
      ]
     },
     "metadata": {},
     "output_type": "display_data"
    }
   ],
   "source": [
    "show(X_train[0])"
   ]
  },
  {
   "cell_type": "code",
   "execution_count": 9,
   "id": "56898e57",
   "metadata": {
    "pycharm": {
     "name": "#%%\n"
    }
   },
   "outputs": [
    {
     "data": {
      "text/plain": [
       "array([5], dtype=uint8)"
      ]
     },
     "execution_count": 9,
     "metadata": {},
     "output_type": "execute_result"
    }
   ],
   "source": [
    "y_train[0]"
   ]
  },
  {
   "cell_type": "code",
   "execution_count": 10,
   "id": "6c9c3ba8",
   "metadata": {
    "pycharm": {
     "name": "#%%\n"
    }
   },
   "outputs": [],
   "source": [
    "x_in_shape = (32, 32, 3)\n",
    "classes = len(labels)"
   ]
  },
  {
   "cell_type": "code",
   "execution_count": 60,
   "id": "36766d32",
   "metadata": {
    "pycharm": {
     "name": "#%%\n"
    }
   },
   "outputs": [],
   "source": [
    "import copy\n",
    "\n",
    "from xgboost import XGBClassifier\n",
    "from sklearn.multiclass import OneVsRestClassifier\n",
    "from sklearn.preprocessing import MultiLabelBinarizer\n",
    "from sklearn.metrics import roc_auc_score\n",
    "from sklearn.pipeline import Pipeline\n",
    "\n",
    "from sklearn.base import BaseEstimator, TransformerMixin\n",
    "\n",
    "class Flattener(BaseEstimator, TransformerMixin):\n",
    "    def __init__(self):\n",
    "        print(\"Hi. I'm a flattener. I flatten things.\")\n",
    "    \n",
    "    def fit(self, X, y=None):\n",
    "        print(\"this is the part where I do something with the training set (unless the dude who uses me is dumb)\")\n",
    "        return self\n",
    "    \n",
    "    def transform(self, X, y=None):\n",
    "        X_ = X.copy() # avoid changes to original dataset\n",
    "        X_ = X_.ravel().reshape(-1, 1)\n",
    "        print(X_.shape)\n",
    "        return X_ # It's flattening time!\n",
    "\n",
    "def tree_model(n_estimators=128):\n",
    "    model = OneVsRestClassifier(XGBClassifier(n_estimators=n_estimators))\n",
    "    mlb = MultiLabelBinarizer()\n",
    "    \n",
    "    y_tr = mlb.fit_transform(copy.deepcopy(y_train))\n",
    "    \n",
    "    pipe = Pipeline([\n",
    "        (\"preprocessor\", Flattener()),\n",
    "        (\"model\", model)\n",
    "    ])\n",
    "    \n",
    "    pipe.fit(X_train, y_tr)\n",
    "    \n",
    "    score = roc_auc_score(y_dev, model.predict_proba(X_train))\n",
    "    \n",
    "    return model, score"
   ]
  },
  {
   "cell_type": "code",
   "execution_count": 11,
   "id": "eab53cf6",
   "metadata": {
    "pycharm": {
     "name": "#%%\n"
    }
   },
   "outputs": [],
   "source": [
    "def plotHistory(hist):\n",
    "    pd.DataFrame(hist.history).plot(figsize=(8, 5))\n",
    "    plt.grid(True)\n",
    "    plt.gca().set_ylim(0, 1) # vertical range: [0, 1]\n",
    "    plt.show()"
   ]
  },
  {
   "cell_type": "code",
   "execution_count": 12,
   "id": "91960efb",
   "metadata": {
    "pycharm": {
     "name": "#%%\n"
    }
   },
   "outputs": [
    {
     "name": "stdout",
     "output_type": "stream",
     "text": [
      "Epoch 1/5\n",
      "1250/1250 [==============================] - 11s 7ms/step - loss: 2.0703 - sparse_categorical_accuracy: 0.2469 - val_loss: 1.9324 - val_sparse_categorical_accuracy: 0.2832\n",
      "Epoch 2/5\n",
      "1250/1250 [==============================] - 7s 6ms/step - loss: 1.8824 - sparse_categorical_accuracy: 0.3183 - val_loss: 1.7976 - val_sparse_categorical_accuracy: 0.3608\n",
      "Epoch 3/5\n",
      "1250/1250 [==============================] - 7s 6ms/step - loss: 1.8050 - sparse_categorical_accuracy: 0.3506 - val_loss: 1.8295 - val_sparse_categorical_accuracy: 0.3399\n",
      "Epoch 4/5\n",
      "1250/1250 [==============================] - 8s 6ms/step - loss: 1.7640 - sparse_categorical_accuracy: 0.3694 - val_loss: 1.7698 - val_sparse_categorical_accuracy: 0.3717\n",
      "Epoch 5/5\n",
      "1250/1250 [==============================] - 7s 6ms/step - loss: 1.7358 - sparse_categorical_accuracy: 0.3803 - val_loss: 1.7147 - val_sparse_categorical_accuracy: 0.3952\n"
     ]
    },
    {
     "data": {
      "image/png": "[encoded data removed]",
      "text/plain": [
       "<Figure size 800x500 with 1 Axes>"
      ]
     },
     "metadata": {},
     "output_type": "display_data"
    }
   ],
   "source": [
    "from keras.layers import Input, Dense, Flatten, Activation, BatchNormalization, AlphaDropout\n",
    "from keras.losses import SparseCategoricalCrossentropy\n",
    "from keras.optimizers import Nadam\n",
    "from keras.metrics import SparseCategoricalAccuracy\n",
    "from keras.callbacks import EarlyStopping\n",
    "\n",
    "class MCFriendly_Dropout(AlphaDropout):\n",
    "    def call(self, inputs):\n",
    "        return super().call(inputs, training=True)\n",
    "\n",
    "# stupid model: 20 hidden layers, 100 neurons each, He initialization, ELU activation\n",
    "def stupid_model(optimizer=Nadam(learning_rate=0.001), batch_size=None, epochs=1, callbacks=None):\n",
    "    input_ = Input(shape=x_in_shape)\n",
    "    flat = Flatten()(input_)\n",
    "    standardize = BatchNormalization()(flat)\n",
    "    \n",
    "    prev_layer = standardize\n",
    "    for i in range(20):\n",
    "        hidden_layer = Dense(100, kernel_initializer=\"lecun_normal\")(prev_layer)\n",
    "        act = Activation(\"selu\")(hidden_layer)\n",
    "        prev_layer = MCFriendly_Dropout(rate=0.025)(act)\n",
    "    \n",
    "    output_ = Dense(units=classes)(prev_layer)\n",
    "    \n",
    "    stupid_model = keras.Model(inputs=input_, outputs=output_)\n",
    "    stupid_model.compile(loss=SparseCategoricalCrossentropy(from_logits=True), optimizer=optimizer, \n",
    "                         metrics=[SparseCategoricalAccuracy()])\n",
    "    \n",
    "    history = stupid_model.fit(X_train, y_train, batch_size=batch_size, epochs=epochs,\n",
    "                               validation_data=(X_dev, y_dev), callbacks=callbacks)\n",
    "    \n",
    "    return (stupid_model, history)\n",
    "\n",
    "(stupid_model, history) = stupid_model(\n",
    "    optimizer=Nadam(learning_rate=0.001),\n",
    "    #batch_size=5000,\n",
    "    epochs=5,\n",
    "    callbacks=[EarlyStopping(patience=10, restore_best_weights=True)]\n",
    ")\n",
    "\n",
    "plotHistory(history)"
   ]
  },
  {
   "cell_type": "code",
   "execution_count": 13,
   "id": "cbbd05f7",
   "metadata": {
    "pycharm": {
     "name": "#%%\n"
    }
   },
   "outputs": [
    {
     "name": "stdout",
     "output_type": "stream",
     "text": [
      "313/313 [==============================] - 1s 3ms/step\n",
      "313/313 [==============================] - 1s 3ms/step\n",
      "313/313 [==============================] - 1s 3ms/step\n",
      "313/313 [==============================] - 1s 3ms/step\n",
      "313/313 [==============================] - 1s 3ms/step\n",
      "313/313 [==============================] - 1s 3ms/step\n",
      "313/313 [==============================] - 1s 3ms/step\n",
      "313/313 [==============================] - 1s 3ms/step\n",
      "313/313 [==============================] - 1s 3ms/step\n",
      "313/313 [==============================] - 1s 3ms/step\n",
      "313/313 [==============================] - 1s 3ms/step\n",
      "(10000, 11, 10)\n",
      "(10000, 10)\n",
      "(10000, 1)\n",
      "(10000, 10)\n",
      "monte carlo dev loss of stupid_model: [2.1400309  0.10602961 4.5010805  ... 2.0547743  2.405552   0.2737107 ]\n",
      "monte carlo dev accuracy of stupid_model: [0. 1. 0. ... 0. 0. 1.]\n"
     ]
    }
   ],
   "source": [
    "from keras.metrics import sparse_categorical_crossentropy, sparse_categorical_accuracy\n",
    "\n",
    "def onehot(arr, num_classes):\n",
    "    def encode(c):\n",
    "        ret = [0] * num_classes\n",
    "        ret[c] = 1\n",
    "        return ret\n",
    "    \n",
    "    arr_onehot = np.array([encode(c) for c in arr.ravel()])\n",
    "    return arr_onehot #np.asarray(arr_onehot).astype(np.float32)\n",
    "\n",
    "# MONTE CARLO DROPOUT\n",
    "\n",
    "stupid_sample_size = 11\n",
    "stupid_axis = 1 # shouldn't join rows; join by columns because y is a column vector\n",
    "\n",
    "y_probas_stupid = np.stack([stupid_model.predict(\n",
    "    X_dev#,\n",
    "    #training=True  \n",
    ") for sample in range(stupid_sample_size)], axis=stupid_axis) # training=True only needed if MCFriendly_Dropout layers not used\n",
    "\n",
    "y_proba_stupid = y_probas_stupid.mean(axis=stupid_axis)\n",
    "\n",
    "y_dev_onehot = onehot(y_dev, classes)\n",
    "\n",
    "print(y_probas_stupid.shape)\n",
    "print(y_proba_stupid.shape)\n",
    "print(y_dev.shape)\n",
    "print(y_dev_onehot.shape)\n",
    "\n",
    "y_proba_stupid_decision = np.argmax(y_proba_stupid, axis=stupid_axis)\n",
    "\n",
    "print(f\"monte carlo dev loss of stupid_model: {sparse_categorical_crossentropy(y_dev, y_proba_stupid, from_logits=True)}\")\n",
    "print(f\"monte carlo dev accuracy of stupid_model: {sparse_categorical_accuracy(y_dev, y_proba_stupid)}\")"
   ]
  },
  {
   "cell_type": "code",
   "execution_count": 14,
   "id": "7b701018",
   "metadata": {
    "pycharm": {
     "name": "#%%\n"
    }
   },
   "outputs": [
    {
     "name": "stdout",
     "output_type": "stream",
     "text": [
      "monte carlo dev loss of stupid_model: [2.1400309  0.10602961 4.5010805  ... 2.0547743  2.405552   0.2737107 ]\n",
      "monte carlo dev accuracy of stupid_model: [0. 1. 0. ... 0. 0. 1.]\n"
     ]
    }
   ],
   "source": [
    "print(f\"monte carlo dev loss of stupid_model: {sparse_categorical_crossentropy(y_dev, y_proba_stupid, from_logits=True)}\")\n",
    "print(f\"monte carlo dev accuracy of stupid_model: {sparse_categorical_accuracy(y_dev, y_proba_stupid)}\")"
   ]
  },
  {
   "cell_type": "code",
   "execution_count": 16,
   "id": "b4ff1e92",
   "metadata": {
    "pycharm": {
     "name": "#%%\n"
    }
   },
   "outputs": [
    {
     "name": "stdout",
     "output_type": "stream",
     "text": [
      "Epoch 1/10\n",
      "79/79 [==============================] - 181s 2s/step - loss: 9.5236 - sparse_categorical_accuracy: 0.1087 - val_loss: 2.3037 - val_sparse_categorical_accuracy: 0.0926\n",
      "Epoch 2/10\n",
      "79/79 [==============================] - 178s 2s/step - loss: 2.3029 - sparse_categorical_accuracy: 0.1002 - val_loss: 2.3036 - val_sparse_categorical_accuracy: 0.0926\n",
      "Epoch 3/10\n",
      "79/79 [==============================] - 173s 2s/step - loss: 2.3032 - sparse_categorical_accuracy: 0.0975 - val_loss: 2.3035 - val_sparse_categorical_accuracy: 0.1004\n",
      "Epoch 4/10\n",
      "79/79 [==============================] - 173s 2s/step - loss: 2.3032 - sparse_categorical_accuracy: 0.0996 - val_loss: 2.3033 - val_sparse_categorical_accuracy: 0.1053\n",
      "Epoch 5/10\n",
      "79/79 [==============================] - 167s 2s/step - loss: 2.3036 - sparse_categorical_accuracy: 0.0967 - val_loss: 2.3052 - val_sparse_categorical_accuracy: 0.0926\n",
      "Epoch 6/10\n",
      "64/79 [=======================>......] - ETA: 29s - loss: 2.3035 - sparse_categorical_accuracy: 0.1004"
     ]
    },
    {
     "ename": "KeyboardInterrupt",
     "evalue": "",
     "output_type": "error",
     "traceback": [
      "\u001B[1;31m---------------------------------------------------------------------------\u001B[0m",
      "\u001B[1;31mKeyboardInterrupt\u001B[0m                         Traceback (most recent call last)",
      "Input \u001B[1;32mIn [16]\u001B[0m, in \u001B[0;36m<cell line: 42>\u001B[1;34m()\u001B[0m\n\u001B[0;32m     39\u001B[0m m_train \u001B[38;5;241m=\u001B[39m \u001B[38;5;28mlen\u001B[39m(X_train)\n\u001B[0;32m     40\u001B[0m n_iter \u001B[38;5;241m=\u001B[39m math\u001B[38;5;241m.\u001B[39mceil(m_train \u001B[38;5;241m/\u001B[39m minibatch_size) \u001B[38;5;241m*\u001B[39m n_epochs\n\u001B[1;32m---> 42\u001B[0m awesome_history \u001B[38;5;241m=\u001B[39m \u001B[43mawesome_model\u001B[49m\u001B[38;5;241;43m.\u001B[39;49m\u001B[43mfit\u001B[49m\u001B[43m(\u001B[49m\u001B[43mX_train\u001B[49m\u001B[43m,\u001B[49m\u001B[43m \u001B[49m\u001B[43my_train\u001B[49m\u001B[43m,\u001B[49m\n\u001B[0;32m     43\u001B[0m \u001B[43m                                    \u001B[49m\u001B[43mbatch_size\u001B[49m\u001B[38;5;241;43m=\u001B[39;49m\u001B[43mminibatch_size\u001B[49m\u001B[43m,\u001B[49m\u001B[43m \u001B[49m\n\u001B[0;32m     44\u001B[0m \u001B[43m                                    \u001B[49m\u001B[43mepochs\u001B[49m\u001B[38;5;241;43m=\u001B[39;49m\u001B[43mn_epochs\u001B[49m\u001B[43m,\u001B[49m\n\u001B[0;32m     45\u001B[0m \u001B[43m                                    \u001B[49m\u001B[43mvalidation_data\u001B[49m\u001B[38;5;241;43m=\u001B[39;49m\u001B[43m(\u001B[49m\u001B[43mX_dev\u001B[49m\u001B[43m,\u001B[49m\u001B[43m \u001B[49m\u001B[43my_dev\u001B[49m\u001B[43m)\u001B[49m\u001B[43m,\u001B[49m\n\u001B[0;32m     46\u001B[0m \u001B[43m                                    \u001B[49m\u001B[43mcallbacks\u001B[49m\u001B[38;5;241;43m=\u001B[39;49m\u001B[43m[\u001B[49m\u001B[43mEarlyStopping\u001B[49m\u001B[43m(\u001B[49m\u001B[43mpatience\u001B[49m\u001B[38;5;241;43m=\u001B[39;49m\u001B[38;5;241;43m5\u001B[39;49m\u001B[43m,\u001B[49m\u001B[43m \u001B[49m\u001B[43mrestore_best_weights\u001B[49m\u001B[38;5;241;43m=\u001B[39;49m\u001B[38;5;28;43;01mTrue\u001B[39;49;00m\u001B[43m)\u001B[49m\u001B[43m,\u001B[49m\n\u001B[0;32m     47\u001B[0m \u001B[43m                                               \u001B[49m\u001B[43mOneCycleScheduler\u001B[49m\u001B[43m(\u001B[49m\u001B[43miterations\u001B[49m\u001B[38;5;241;43m=\u001B[39;49m\u001B[43mn_iter\u001B[49m\u001B[43m,\u001B[49m\u001B[43m \u001B[49m\u001B[43mmax_rate\u001B[49m\u001B[38;5;241;43m=\u001B[39;49m\u001B[38;5;241;43m0.07\u001B[39;49m\u001B[43m)\u001B[49m\u001B[43m]\u001B[49m\u001B[43m)\u001B[49m\n\u001B[0;32m     49\u001B[0m plotHistory(awesome_history)\n",
      "File \u001B[1;32m~\\Desktop\\Projects\\AI\\ML_Jungle\\env\\lib\\site-packages\\keras\\utils\\traceback_utils.py:64\u001B[0m, in \u001B[0;36mfilter_traceback.<locals>.error_handler\u001B[1;34m(*args, **kwargs)\u001B[0m\n\u001B[0;32m     62\u001B[0m filtered_tb \u001B[38;5;241m=\u001B[39m \u001B[38;5;28;01mNone\u001B[39;00m\n\u001B[0;32m     63\u001B[0m \u001B[38;5;28;01mtry\u001B[39;00m:\n\u001B[1;32m---> 64\u001B[0m   \u001B[38;5;28;01mreturn\u001B[39;00m fn(\u001B[38;5;241m*\u001B[39margs, \u001B[38;5;241m*\u001B[39m\u001B[38;5;241m*\u001B[39mkwargs)\n\u001B[0;32m     65\u001B[0m \u001B[38;5;28;01mexcept\u001B[39;00m \u001B[38;5;167;01mException\u001B[39;00m \u001B[38;5;28;01mas\u001B[39;00m e:  \u001B[38;5;66;03m# pylint: disable=broad-except\u001B[39;00m\n\u001B[0;32m     66\u001B[0m   filtered_tb \u001B[38;5;241m=\u001B[39m _process_traceback_frames(e\u001B[38;5;241m.\u001B[39m__traceback__)\n",
      "File \u001B[1;32m~\\Desktop\\Projects\\AI\\ML_Jungle\\env\\lib\\site-packages\\keras\\engine\\training.py:1409\u001B[0m, in \u001B[0;36mModel.fit\u001B[1;34m(self, x, y, batch_size, epochs, verbose, callbacks, validation_split, validation_data, shuffle, class_weight, sample_weight, initial_epoch, steps_per_epoch, validation_steps, validation_batch_size, validation_freq, max_queue_size, workers, use_multiprocessing)\u001B[0m\n\u001B[0;32m   1402\u001B[0m \u001B[38;5;28;01mwith\u001B[39;00m tf\u001B[38;5;241m.\u001B[39mprofiler\u001B[38;5;241m.\u001B[39mexperimental\u001B[38;5;241m.\u001B[39mTrace(\n\u001B[0;32m   1403\u001B[0m     \u001B[38;5;124m'\u001B[39m\u001B[38;5;124mtrain\u001B[39m\u001B[38;5;124m'\u001B[39m,\n\u001B[0;32m   1404\u001B[0m     epoch_num\u001B[38;5;241m=\u001B[39mepoch,\n\u001B[0;32m   1405\u001B[0m     step_num\u001B[38;5;241m=\u001B[39mstep,\n\u001B[0;32m   1406\u001B[0m     batch_size\u001B[38;5;241m=\u001B[39mbatch_size,\n\u001B[0;32m   1407\u001B[0m     _r\u001B[38;5;241m=\u001B[39m\u001B[38;5;241m1\u001B[39m):\n\u001B[0;32m   1408\u001B[0m   callbacks\u001B[38;5;241m.\u001B[39mon_train_batch_begin(step)\n\u001B[1;32m-> 1409\u001B[0m   tmp_logs \u001B[38;5;241m=\u001B[39m \u001B[38;5;28;43mself\u001B[39;49m\u001B[38;5;241;43m.\u001B[39;49m\u001B[43mtrain_function\u001B[49m\u001B[43m(\u001B[49m\u001B[43miterator\u001B[49m\u001B[43m)\u001B[49m\n\u001B[0;32m   1410\u001B[0m   \u001B[38;5;28;01mif\u001B[39;00m data_handler\u001B[38;5;241m.\u001B[39mshould_sync:\n\u001B[0;32m   1411\u001B[0m     context\u001B[38;5;241m.\u001B[39masync_wait()\n",
      "File \u001B[1;32m~\\Desktop\\Projects\\AI\\ML_Jungle\\env\\lib\\site-packages\\tensorflow\\python\\util\\traceback_utils.py:150\u001B[0m, in \u001B[0;36mfilter_traceback.<locals>.error_handler\u001B[1;34m(*args, **kwargs)\u001B[0m\n\u001B[0;32m    148\u001B[0m filtered_tb \u001B[38;5;241m=\u001B[39m \u001B[38;5;28;01mNone\u001B[39;00m\n\u001B[0;32m    149\u001B[0m \u001B[38;5;28;01mtry\u001B[39;00m:\n\u001B[1;32m--> 150\u001B[0m   \u001B[38;5;28;01mreturn\u001B[39;00m fn(\u001B[38;5;241m*\u001B[39margs, \u001B[38;5;241m*\u001B[39m\u001B[38;5;241m*\u001B[39mkwargs)\n\u001B[0;32m    151\u001B[0m \u001B[38;5;28;01mexcept\u001B[39;00m \u001B[38;5;167;01mException\u001B[39;00m \u001B[38;5;28;01mas\u001B[39;00m e:\n\u001B[0;32m    152\u001B[0m   filtered_tb \u001B[38;5;241m=\u001B[39m _process_traceback_frames(e\u001B[38;5;241m.\u001B[39m__traceback__)\n",
      "File \u001B[1;32m~\\Desktop\\Projects\\AI\\ML_Jungle\\env\\lib\\site-packages\\tensorflow\\python\\eager\\def_function.py:915\u001B[0m, in \u001B[0;36mFunction.__call__\u001B[1;34m(self, *args, **kwds)\u001B[0m\n\u001B[0;32m    912\u001B[0m compiler \u001B[38;5;241m=\u001B[39m \u001B[38;5;124m\"\u001B[39m\u001B[38;5;124mxla\u001B[39m\u001B[38;5;124m\"\u001B[39m \u001B[38;5;28;01mif\u001B[39;00m \u001B[38;5;28mself\u001B[39m\u001B[38;5;241m.\u001B[39m_jit_compile \u001B[38;5;28;01melse\u001B[39;00m \u001B[38;5;124m\"\u001B[39m\u001B[38;5;124mnonXla\u001B[39m\u001B[38;5;124m\"\u001B[39m\n\u001B[0;32m    914\u001B[0m \u001B[38;5;28;01mwith\u001B[39;00m OptionalXlaContext(\u001B[38;5;28mself\u001B[39m\u001B[38;5;241m.\u001B[39m_jit_compile):\n\u001B[1;32m--> 915\u001B[0m   result \u001B[38;5;241m=\u001B[39m \u001B[38;5;28mself\u001B[39m\u001B[38;5;241m.\u001B[39m_call(\u001B[38;5;241m*\u001B[39margs, \u001B[38;5;241m*\u001B[39m\u001B[38;5;241m*\u001B[39mkwds)\n\u001B[0;32m    917\u001B[0m new_tracing_count \u001B[38;5;241m=\u001B[39m \u001B[38;5;28mself\u001B[39m\u001B[38;5;241m.\u001B[39mexperimental_get_tracing_count()\n\u001B[0;32m    918\u001B[0m without_tracing \u001B[38;5;241m=\u001B[39m (tracing_count \u001B[38;5;241m==\u001B[39m new_tracing_count)\n",
      "File \u001B[1;32m~\\Desktop\\Projects\\AI\\ML_Jungle\\env\\lib\\site-packages\\tensorflow\\python\\eager\\def_function.py:947\u001B[0m, in \u001B[0;36mFunction._call\u001B[1;34m(self, *args, **kwds)\u001B[0m\n\u001B[0;32m    944\u001B[0m   \u001B[38;5;28mself\u001B[39m\u001B[38;5;241m.\u001B[39m_lock\u001B[38;5;241m.\u001B[39mrelease()\n\u001B[0;32m    945\u001B[0m   \u001B[38;5;66;03m# In this case we have created variables on the first call, so we run the\u001B[39;00m\n\u001B[0;32m    946\u001B[0m   \u001B[38;5;66;03m# defunned version which is guaranteed to never create variables.\u001B[39;00m\n\u001B[1;32m--> 947\u001B[0m   \u001B[38;5;28;01mreturn\u001B[39;00m \u001B[38;5;28mself\u001B[39m\u001B[38;5;241m.\u001B[39m_stateless_fn(\u001B[38;5;241m*\u001B[39margs, \u001B[38;5;241m*\u001B[39m\u001B[38;5;241m*\u001B[39mkwds)  \u001B[38;5;66;03m# pylint: disable=not-callable\u001B[39;00m\n\u001B[0;32m    948\u001B[0m \u001B[38;5;28;01melif\u001B[39;00m \u001B[38;5;28mself\u001B[39m\u001B[38;5;241m.\u001B[39m_stateful_fn \u001B[38;5;129;01mis\u001B[39;00m \u001B[38;5;129;01mnot\u001B[39;00m \u001B[38;5;28;01mNone\u001B[39;00m:\n\u001B[0;32m    949\u001B[0m   \u001B[38;5;66;03m# Release the lock early so that multiple threads can perform the call\u001B[39;00m\n\u001B[0;32m    950\u001B[0m   \u001B[38;5;66;03m# in parallel.\u001B[39;00m\n\u001B[0;32m    951\u001B[0m   \u001B[38;5;28mself\u001B[39m\u001B[38;5;241m.\u001B[39m_lock\u001B[38;5;241m.\u001B[39mrelease()\n",
      "File \u001B[1;32m~\\Desktop\\Projects\\AI\\ML_Jungle\\env\\lib\\site-packages\\tensorflow\\python\\eager\\function.py:2453\u001B[0m, in \u001B[0;36mFunction.__call__\u001B[1;34m(self, *args, **kwargs)\u001B[0m\n\u001B[0;32m   2450\u001B[0m \u001B[38;5;28;01mwith\u001B[39;00m \u001B[38;5;28mself\u001B[39m\u001B[38;5;241m.\u001B[39m_lock:\n\u001B[0;32m   2451\u001B[0m   (graph_function,\n\u001B[0;32m   2452\u001B[0m    filtered_flat_args) \u001B[38;5;241m=\u001B[39m \u001B[38;5;28mself\u001B[39m\u001B[38;5;241m.\u001B[39m_maybe_define_function(args, kwargs)\n\u001B[1;32m-> 2453\u001B[0m \u001B[38;5;28;01mreturn\u001B[39;00m \u001B[43mgraph_function\u001B[49m\u001B[38;5;241;43m.\u001B[39;49m\u001B[43m_call_flat\u001B[49m\u001B[43m(\u001B[49m\n\u001B[0;32m   2454\u001B[0m \u001B[43m    \u001B[49m\u001B[43mfiltered_flat_args\u001B[49m\u001B[43m,\u001B[49m\u001B[43m \u001B[49m\u001B[43mcaptured_inputs\u001B[49m\u001B[38;5;241;43m=\u001B[39;49m\u001B[43mgraph_function\u001B[49m\u001B[38;5;241;43m.\u001B[39;49m\u001B[43mcaptured_inputs\u001B[49m\u001B[43m)\u001B[49m\n",
      "File \u001B[1;32m~\\Desktop\\Projects\\AI\\ML_Jungle\\env\\lib\\site-packages\\tensorflow\\python\\eager\\function.py:1860\u001B[0m, in \u001B[0;36mConcreteFunction._call_flat\u001B[1;34m(self, args, captured_inputs, cancellation_manager)\u001B[0m\n\u001B[0;32m   1856\u001B[0m possible_gradient_type \u001B[38;5;241m=\u001B[39m gradients_util\u001B[38;5;241m.\u001B[39mPossibleTapeGradientTypes(args)\n\u001B[0;32m   1857\u001B[0m \u001B[38;5;28;01mif\u001B[39;00m (possible_gradient_type \u001B[38;5;241m==\u001B[39m gradients_util\u001B[38;5;241m.\u001B[39mPOSSIBLE_GRADIENT_TYPES_NONE\n\u001B[0;32m   1858\u001B[0m     \u001B[38;5;129;01mand\u001B[39;00m executing_eagerly):\n\u001B[0;32m   1859\u001B[0m   \u001B[38;5;66;03m# No tape is watching; skip to running the function.\u001B[39;00m\n\u001B[1;32m-> 1860\u001B[0m   \u001B[38;5;28;01mreturn\u001B[39;00m \u001B[38;5;28mself\u001B[39m\u001B[38;5;241m.\u001B[39m_build_call_outputs(\u001B[38;5;28;43mself\u001B[39;49m\u001B[38;5;241;43m.\u001B[39;49m\u001B[43m_inference_function\u001B[49m\u001B[38;5;241;43m.\u001B[39;49m\u001B[43mcall\u001B[49m\u001B[43m(\u001B[49m\n\u001B[0;32m   1861\u001B[0m \u001B[43m      \u001B[49m\u001B[43mctx\u001B[49m\u001B[43m,\u001B[49m\u001B[43m \u001B[49m\u001B[43margs\u001B[49m\u001B[43m,\u001B[49m\u001B[43m \u001B[49m\u001B[43mcancellation_manager\u001B[49m\u001B[38;5;241;43m=\u001B[39;49m\u001B[43mcancellation_manager\u001B[49m\u001B[43m)\u001B[49m)\n\u001B[0;32m   1862\u001B[0m forward_backward \u001B[38;5;241m=\u001B[39m \u001B[38;5;28mself\u001B[39m\u001B[38;5;241m.\u001B[39m_select_forward_and_backward_functions(\n\u001B[0;32m   1863\u001B[0m     args,\n\u001B[0;32m   1864\u001B[0m     possible_gradient_type,\n\u001B[0;32m   1865\u001B[0m     executing_eagerly)\n\u001B[0;32m   1866\u001B[0m forward_function, args_with_tangents \u001B[38;5;241m=\u001B[39m forward_backward\u001B[38;5;241m.\u001B[39mforward()\n",
      "File \u001B[1;32m~\\Desktop\\Projects\\AI\\ML_Jungle\\env\\lib\\site-packages\\tensorflow\\python\\eager\\function.py:497\u001B[0m, in \u001B[0;36m_EagerDefinedFunction.call\u001B[1;34m(self, ctx, args, cancellation_manager)\u001B[0m\n\u001B[0;32m    495\u001B[0m \u001B[38;5;28;01mwith\u001B[39;00m _InterpolateFunctionError(\u001B[38;5;28mself\u001B[39m):\n\u001B[0;32m    496\u001B[0m   \u001B[38;5;28;01mif\u001B[39;00m cancellation_manager \u001B[38;5;129;01mis\u001B[39;00m \u001B[38;5;28;01mNone\u001B[39;00m:\n\u001B[1;32m--> 497\u001B[0m     outputs \u001B[38;5;241m=\u001B[39m \u001B[43mexecute\u001B[49m\u001B[38;5;241;43m.\u001B[39;49m\u001B[43mexecute\u001B[49m\u001B[43m(\u001B[49m\n\u001B[0;32m    498\u001B[0m \u001B[43m        \u001B[49m\u001B[38;5;28;43mstr\u001B[39;49m\u001B[43m(\u001B[49m\u001B[38;5;28;43mself\u001B[39;49m\u001B[38;5;241;43m.\u001B[39;49m\u001B[43msignature\u001B[49m\u001B[38;5;241;43m.\u001B[39;49m\u001B[43mname\u001B[49m\u001B[43m)\u001B[49m\u001B[43m,\u001B[49m\n\u001B[0;32m    499\u001B[0m \u001B[43m        \u001B[49m\u001B[43mnum_outputs\u001B[49m\u001B[38;5;241;43m=\u001B[39;49m\u001B[38;5;28;43mself\u001B[39;49m\u001B[38;5;241;43m.\u001B[39;49m\u001B[43m_num_outputs\u001B[49m\u001B[43m,\u001B[49m\n\u001B[0;32m    500\u001B[0m \u001B[43m        \u001B[49m\u001B[43minputs\u001B[49m\u001B[38;5;241;43m=\u001B[39;49m\u001B[43margs\u001B[49m\u001B[43m,\u001B[49m\n\u001B[0;32m    501\u001B[0m \u001B[43m        \u001B[49m\u001B[43mattrs\u001B[49m\u001B[38;5;241;43m=\u001B[39;49m\u001B[43mattrs\u001B[49m\u001B[43m,\u001B[49m\n\u001B[0;32m    502\u001B[0m \u001B[43m        \u001B[49m\u001B[43mctx\u001B[49m\u001B[38;5;241;43m=\u001B[39;49m\u001B[43mctx\u001B[49m\u001B[43m)\u001B[49m\n\u001B[0;32m    503\u001B[0m   \u001B[38;5;28;01melse\u001B[39;00m:\n\u001B[0;32m    504\u001B[0m     outputs \u001B[38;5;241m=\u001B[39m execute\u001B[38;5;241m.\u001B[39mexecute_with_cancellation(\n\u001B[0;32m    505\u001B[0m         \u001B[38;5;28mstr\u001B[39m(\u001B[38;5;28mself\u001B[39m\u001B[38;5;241m.\u001B[39msignature\u001B[38;5;241m.\u001B[39mname),\n\u001B[0;32m    506\u001B[0m         num_outputs\u001B[38;5;241m=\u001B[39m\u001B[38;5;28mself\u001B[39m\u001B[38;5;241m.\u001B[39m_num_outputs,\n\u001B[1;32m   (...)\u001B[0m\n\u001B[0;32m    509\u001B[0m         ctx\u001B[38;5;241m=\u001B[39mctx,\n\u001B[0;32m    510\u001B[0m         cancellation_manager\u001B[38;5;241m=\u001B[39mcancellation_manager)\n",
      "File \u001B[1;32m~\\Desktop\\Projects\\AI\\ML_Jungle\\env\\lib\\site-packages\\tensorflow\\python\\eager\\execute.py:54\u001B[0m, in \u001B[0;36mquick_execute\u001B[1;34m(op_name, num_outputs, inputs, attrs, ctx, name)\u001B[0m\n\u001B[0;32m     52\u001B[0m \u001B[38;5;28;01mtry\u001B[39;00m:\n\u001B[0;32m     53\u001B[0m   ctx\u001B[38;5;241m.\u001B[39mensure_initialized()\n\u001B[1;32m---> 54\u001B[0m   tensors \u001B[38;5;241m=\u001B[39m \u001B[43mpywrap_tfe\u001B[49m\u001B[38;5;241;43m.\u001B[39;49m\u001B[43mTFE_Py_Execute\u001B[49m\u001B[43m(\u001B[49m\u001B[43mctx\u001B[49m\u001B[38;5;241;43m.\u001B[39;49m\u001B[43m_handle\u001B[49m\u001B[43m,\u001B[49m\u001B[43m \u001B[49m\u001B[43mdevice_name\u001B[49m\u001B[43m,\u001B[49m\u001B[43m \u001B[49m\u001B[43mop_name\u001B[49m\u001B[43m,\u001B[49m\n\u001B[0;32m     55\u001B[0m \u001B[43m                                      \u001B[49m\u001B[43minputs\u001B[49m\u001B[43m,\u001B[49m\u001B[43m \u001B[49m\u001B[43mattrs\u001B[49m\u001B[43m,\u001B[49m\u001B[43m \u001B[49m\u001B[43mnum_outputs\u001B[49m\u001B[43m)\u001B[49m\n\u001B[0;32m     56\u001B[0m \u001B[38;5;28;01mexcept\u001B[39;00m core\u001B[38;5;241m.\u001B[39m_NotOkStatusException \u001B[38;5;28;01mas\u001B[39;00m e:\n\u001B[0;32m     57\u001B[0m   \u001B[38;5;28;01mif\u001B[39;00m name \u001B[38;5;129;01mis\u001B[39;00m \u001B[38;5;129;01mnot\u001B[39;00m \u001B[38;5;28;01mNone\u001B[39;00m:\n",
      "\u001B[1;31mKeyboardInterrupt\u001B[0m: "
     ]
    }
   ],
   "source": [
    "from keras.layers import Conv2D, MaxPooling2D, PReLU, ReLU\n",
    "from learning_rate_schedulers import OneCycleScheduler\n",
    "import math\n",
    "\n",
    "def awesome_model():\n",
    "    a0 = Input(shape=(32, 32, 3))\n",
    "    _a0_ = BatchNormalization()(a0)\n",
    "    \n",
    "    z1 = Conv2D(32, kernel_size=(3, 3), strides=(1, 1), padding=\"same\", kernel_initializer=\"glorot_uniform\")(_a0_)\n",
    "    _z1_ = BatchNormalization()(z1)\n",
    "    a1 = Activation(\"elu\")(_z1_)\n",
    "    pool1 = MaxPooling2D(pool_size=(2, 2), strides=(1, 1), padding=\"same\")(a1)\n",
    "    \n",
    "    z2 = Conv2D(64, kernel_size=(3, 3), strides=(1, 1), padding=\"same\", kernel_initializer=\"glorot_uniform\")(pool1)\n",
    "    a2 = PReLU()(z2)\n",
    "    pool2 = MaxPooling2D(pool_size=(2, 2), strides=(1, 1), padding=\"same\")(a2)\n",
    "    \n",
    "    z3 = Conv2D(64, kernel_size=(5, 5), strides=(1, 1), padding=\"valid\", kernel_initializer=\"glorot_uniform\")(pool2)\n",
    "    _z3_ = BatchNormalization()(z3)\n",
    "    a3 = ReLU()(_z3_)\n",
    "    pool3 = MaxPooling2D(pool_size=(2, 2), strides=(1, 1), padding=\"valid\")(a3)\n",
    "    \n",
    "    flat = Flatten()(pool3)\n",
    "    \n",
    "    # FCs\n",
    "    fc_a4 = Dense(64, activation=\"relu\")(flat)\n",
    "    fc_aL = Dense(10)(fc_a4)\n",
    "    \n",
    "    model = keras.Model(inputs=a0, outputs=fc_aL)\n",
    "    model.compile(loss=SparseCategoricalCrossentropy(from_logits=True), optimizer=keras.optimizers.Nadam(learning_rate=0.01), metrics=[SparseCategoricalAccuracy()])\n",
    "    \n",
    "    return model\n",
    "\n",
    "awesome_model = awesome_model()\n",
    "\n",
    "n_epochs = 10\n",
    "minibatch_size = 512\n",
    "\n",
    "m_train = len(X_train)\n",
    "n_iter = math.ceil(m_train / minibatch_size) * n_epochs\n",
    "\n",
    "awesome_history = awesome_model.fit(X_train, y_train,\n",
    "                                    batch_size=minibatch_size, \n",
    "                                    epochs=n_epochs,\n",
    "                                    validation_data=(X_dev, y_dev),\n",
    "                                    callbacks=[EarlyStopping(patience=5, restore_best_weights=True),\n",
    "                                               OneCycleScheduler(iterations=n_iter, max_rate=0.07)])\n",
    "\n",
    "plotHistory(awesome_history)"
   ]
  },
  {
   "cell_type": "code",
   "execution_count": 18,
   "id": "77137c2b",
   "metadata": {
    "pycharm": {
     "name": "#%%\n"
    }
   },
   "outputs": [
    {
     "name": "stdout",
     "output_type": "stream",
     "text": [
      "1.1.2\n"
     ]
    }
   ],
   "source": [
    "print(sklearn.__version__)"
   ]
  },
  {
   "cell_type": "code",
   "execution_count": 19,
   "id": "8a863494",
   "metadata": {
    "pycharm": {
     "name": "#%%\n"
    }
   },
   "outputs": [
    {
     "data": {
      "text/plain": [
       "'3.10.8 (tags/v3.10.8:aaaf517, Oct 11 2022, 16:50:30) [MSC v.1933 64 bit (AMD64)]'"
      ]
     },
     "execution_count": 19,
     "metadata": {},
     "output_type": "execute_result"
    }
   ],
   "source": [
    "import sys\n",
    "\n",
    "sys.version"
   ]
  },
  {
   "cell_type": "code",
   "execution_count": null,
   "id": "64b5dc1a",
   "metadata": {
    "pycharm": {
     "name": "#%%\n"
    }
   },
   "outputs": [],
   "source": []
  }
 ],
 "metadata": {
  "kernelspec": {
   "display_name": "Python 3 (ipykernel)",
   "language": "python",
   "name": "python3"
  },
  "language_info": {
   "codemirror_mode": {
    "name": "ipython",
    "version": 3
   },
   "file_extension": ".py",
   "mimetype": "text/x-python",
   "name": "python",
   "nbconvert_exporter": "python",
   "pygments_lexer": "ipython3",
   "version": "3.10.8"
  }
 },
 "nbformat": 4,
 "nbformat_minor": 5
}